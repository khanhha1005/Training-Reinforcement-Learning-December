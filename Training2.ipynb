{
 "cells": [
  {
   "cell_type": "markdown",
   "metadata": {},
   "source": [
    "# Bài tập 1 \n",
    "Hoàn thiện bot để có tỷ lệ thắng trên 90 %"
   ]
  },
  {
   "cell_type": "code",
   "execution_count": 4,
   "metadata": {},
   "outputs": [
    {
     "name": "stdout",
     "output_type": "stream",
     "text": [
      "/Users/trancatkhanh/Downloads/GAME\n"
     ]
    }
   ],
   "source": [
    "%cd /Users/trancatkhanh/Downloads/GAME"
   ]
  },
  {
   "cell_type": "code",
   "execution_count": null,
   "metadata": {},
   "outputs": [],
   "source": [
    "import numpy as np\n",
    "from numba import njit \n",
    "#Khởi tạo weight \n",
    "perx = [np.zeros((60,getStateSize())),np.zeros((12,60))]\n",
    "for i in range(0,12):\n",
    "    for j in range(5):\n",
    "        perx[0][i*5+j][6+j] = 1\n",
    "        perx[0][i*5+j][11] = 0 \n",
    "        perx[0][i*5+j][12+j] = 1\n",
    "        perx[0][i*5+j][20+i*7+j] = -1\n",
    "for i in range(0,12):\n",
    "    for j in range(5):\n",
    "        perx[1][i][i*5+j] = 1\n",
    "\n"
   ]
  },
  {
   "cell_type": "code",
   "execution_count": 14,
   "metadata": {},
   "outputs": [],
   "source": [
    "from base.Splendor_v3.env import *\n",
    "@njit\n",
    "def p0(state,per):\n",
    "    actions = getValidActions(state)\n",
    "    matran1 = per[0]@state\n",
    "    for i in range(len(matran1)):\n",
    "        matran1[i] = int(matran1[i] >= 0)\n",
    "    matran2 = per[1]@matran1\n",
    "    matran2 *= actions\n",
    "    action = np.argmax(matran2)\n",
    "    return action,per\n",
    "win, x = numba_main_2(p0, 10000,perx,0)\n"
   ]
  },
  {
   "cell_type": "code",
   "execution_count": 15,
   "metadata": {},
   "outputs": [
    {
     "name": "stdout",
     "output_type": "stream",
     "text": [
      "tỷ lệ thắng 92.33\n"
     ]
    }
   ],
   "source": [
    "print('tỷ lệ thắng',(win/10000)*100)"
   ]
  },
  {
   "cell_type": "markdown",
   "metadata": {},
   "source": [
    "# Bài tập 2 : Tính tỷ lệ thắng của Bot có weight feature tìm tay\n",
    "**==> Tỷ lệ thắng của bot có weight feature đánh mình action 0 là 40.6%**\n",
    "\n",
    "\n",
    "**==> Tỷ lệ thắng của bot có weight feature đánh mình action 1 là 46,97%**"
   ]
  },
  {
   "cell_type": "code",
   "execution_count": 9,
   "metadata": {},
   "outputs": [
    {
     "name": "stdout",
     "output_type": "stream",
     "text": [
      "tỷ lệ thắng 33.7\n"
     ]
    }
   ],
   "source": [
    "import numpy as np\n",
    "from numba import njit \n",
    "#Khởi tạo weight \n",
    "perx = [np.zeros((5,getStateSize())),np.zeros((1,5))]\n",
    "for i in range(1):\n",
    "    for j in range(5):\n",
    "        perx[0][i*5+j][6+j] = 1\n",
    "        perx[0][i*5+j][11] = 0 \n",
    "        perx[0][i*5+j][12+j] = 1\n",
    "        perx[0][i*5+j][20+i*7+j] = -1\n",
    "perx[1][0:6]=1\n",
    "from base.Splendor_v3.env import *\n",
    "\n",
    "@njit\n",
    "def p0(state,per):\n",
    "    actions = getValidActions(state)\n",
    "    matran1 = per[0]@state\n",
    "    for i in range(len(matran1)):\n",
    "        matran1[i] = int(matran1[i] >= 0)\n",
    "    matran2 = per[1]@matran1\n",
    "    matran2 *= actions\n",
    "    if matran2 == 5 :\n",
    "        action = 1\n",
    "    else:\n",
    "        actions = np.where(actions == 1)[0]\n",
    "        action = actions[np.random.randint(len(actions))]\n",
    "        # while action == 1:\n",
    "        #     action = actions[np.random.randint(len(actions))]\n",
    "    return action,per\n",
    "    \n",
    "win, x = numba_main_2(p0, 10000,perx,0)\n",
    "print('tỷ lệ thắng',(win/10000)*100)"
   ]
  },
  {
   "cell_type": "markdown",
   "metadata": {},
   "source": [
    "# Bài tập 3 : Tính tỷ lệ thắng của Bot có weight feature random\n",
    "**==> Tỷ lệ thắng của bot có weight feature random đánh mình action 0 là 42.52%**\n",
    "\n",
    "\n",
    "**==> Tỷ lệ thắng của bot có weight feature  random đánh mình action 1 là 47.16%**"
   ]
  },
  {
   "cell_type": "markdown",
   "metadata": {},
   "source": [
    "**Cách 1** lấy cả 5 feature của thẻ đó "
   ]
  },
  {
   "cell_type": "code",
   "execution_count": null,
   "metadata": {},
   "outputs": [],
   "source": [
    "from base.Splendor_v3.env import *\n",
    "for i in range(10):\n",
    "    import numpy as np\n",
    "    from numba import njit \n",
    "    #Khởi tạo weight \n",
    "    perx = [np.random.randn(5,getStateSize()),np.zeros((1,5))]\n",
    "    for i in range(0,5):\n",
    "        for j in range(getStateSize()):\n",
    "            if perx[0][i][j] > np.random.randn(1):\n",
    "                perx[0][i][j] = 1\n",
    "            elif perx[0][i][j] < np.random.randn(1):\n",
    "                perx[0][i][j] =  0\n",
    "            else:\n",
    "                perx[0][i][j] = -1\n",
    "    perx[1][0:6]=1\n",
    "\n",
    "    @njit\n",
    "    def p0(state,per):\n",
    "        actions = getValidActions(state)\n",
    "        matran1 = per[0]@state\n",
    "        for i in range(len(matran1)):\n",
    "            matran1[i] = int(matran1[i] >= 0)\n",
    "        matran2 = per[1]@matran1\n",
    "        matran2 *= actions\n",
    "        if matran2 == 5 :\n",
    "            action = 1 \n",
    "        else:\n",
    "            actions = np.where(actions == 1)[0]\n",
    "            action = actions[np.random.randint(len(actions))]\n",
    "            # while action == 1:\n",
    "            #     action = actions[np.random.randint(len(actions))]\n",
    "        return action,per\n",
    "        \n",
    "    win, x = numba_main_2(p0, 10000,perx,0)\n",
    "    print('tỷ lệ thắng',(win/10000)*100)"
   ]
  },
  {
   "cell_type": "markdown",
   "metadata": {},
   "source": [
    "**Cách 2** chỉ cần 3 feature đặc biệt "
   ]
  },
  {
   "cell_type": "code",
   "execution_count": 7,
   "metadata": {},
   "outputs": [
    {
     "name": "stdout",
     "output_type": "stream",
     "text": [
      "tỷ lệ thắng 41.15\n"
     ]
    }
   ],
   "source": [
    "import numpy as np\n",
    "from numba import njit \n",
    "#Khởi tạo weight \n",
    "perx = [np.random.randn(3,getStateSize()),np.zeros((1,3))]\n",
    "for i in range(0,3):\n",
    "    for j in range(getStateSize()):\n",
    "        if perx[0][i][j] > np.random.randn(1):\n",
    "            perx[0][i][j] = 1\n",
    "        elif perx[0][i][j] < np.random.randn(1):\n",
    "            perx[0][i][j] =  0\n",
    "        else:\n",
    "            perx[0][i][j] = -1\n",
    "# for i in range(0,5):\n",
    "#     for j in range(5):\n",
    "#         if perx[1][i][j] > np.random.randn(1):\n",
    "#             perx[1][i][j] = 1\n",
    "#         elif perx[1][i][j] < np.random.randn(1):\n",
    "#             perx[1][i][j] =  0\n",
    "#         else:\n",
    "#             perx[1][i][j] = -1\n",
    "perx[1][0:4]=1\n",
    "from base.Splendor_v3.env import *\n",
    "@njit\n",
    "def p0(state,per):\n",
    "    actions = getValidActions(state)\n",
    "    matran1 = per[0]@state\n",
    "    for i in range(len(matran1)):\n",
    "        matran1[i] = int(matran1[i] >= 0)\n",
    "    matran2 = per[1]@matran1\n",
    "\n",
    "    matran2 *= actions\n",
    "    if matran2 == 3 :\n",
    "        action = 0 \n",
    "    else:\n",
    "        actions = np.where(actions == 1)[0]\n",
    "        action = actions[np.random.randint(len(actions))]\n",
    "    return action,per\n",
    "win, x = numba_main_2(p0, 10000,perx,0)\n",
    "print('tỷ lệ thắng',(win/10000)*100)"
   ]
  }
 ],
 "metadata": {
  "kernelspec": {
   "display_name": "Python 3.9.7 ('base')",
   "language": "python",
   "name": "python3"
  },
  "language_info": {
   "codemirror_mode": {
    "name": "ipython",
    "version": 3
   },
   "file_extension": ".py",
   "mimetype": "text/x-python",
   "name": "python",
   "nbconvert_exporter": "python",
   "pygments_lexer": "ipython3",
   "version": "3.9.7"
  },
  "orig_nbformat": 4,
  "vscode": {
   "interpreter": {
    "hash": "ff2136a0fe6bc790f1b40d257e6b1bba23119827483ea2b7c12c8cc23c661a47"
   }
  }
 },
 "nbformat": 4,
 "nbformat_minor": 2
}
