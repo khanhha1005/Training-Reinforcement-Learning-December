{
 "cells": [
  {
   "cell_type": "markdown",
   "metadata": {},
   "source": [
    "# Bài tập 1 \n",
    "Hoàn thiện bot để có tỷ lệ thắng trên 90 %"
   ]
  },
  {
   "cell_type": "code",
   "execution_count": 1,
   "metadata": {},
   "outputs": [
    {
     "name": "stdout",
     "output_type": "stream",
     "text": [
      "/Users/trancatkhanh/Downloads/GAME\n"
     ]
    }
   ],
   "source": [
    "%cd /Users/trancatkhanh/Downloads/GAME\n",
    "from base.Splendor_v3.env import *\n"
   ]
  },
  {
   "cell_type": "code",
   "execution_count": 5,
   "metadata": {},
   "outputs": [
    {
     "name": "stdout",
     "output_type": "stream",
     "text": [
      "60.0\n"
     ]
    }
   ],
   "source": [
    "import numpy as np\n",
    "from numba import njit \n",
    "#Khởi tạo weight \n",
    "perx = [np.zeros((60,getStateSize())),np.zeros((12,60))]\n",
    "for i in range(0,12):\n",
    "    for j in range(5):\n",
    "        perx[0][i*5+j][6+j] = 1\n",
    "        perx[0][i*5+j][11] = 0 \n",
    "        perx[0][i*5+j][12+j] = 1\n",
    "        perx[0][i*5+j][20+i*7+j] = -1\n",
    "for i in range(0,12):\n",
    "    for j in range(5):\n",
    "        perx[1][i][i*5+j] = 1\n",
    "\n",
    "print(np.sum(perx[0]))"
   ]
  },
  {
   "cell_type": "code",
   "execution_count": 12,
   "metadata": {},
   "outputs": [
    {
     "name": "stdout",
     "output_type": "stream",
     "text": [
      "[1. 3. 4. 1. 4. 4. 2. 2. 4. 2. 3. 2.]\n",
      "[2. 4. 4. 2. 4. 4. 2. 2. 4. 2. 3. 2.]\n",
      "[2. 5. 4. 3. 4. 4. 2. 3. 4. 2. 3. 2.]\n",
      "[3. 4. 2. 4. 4. 4. 2. 2. 4. 2. 3. 2.]\n",
      "[4. 2. 5. 3. 4. 4. 3. 2. 4. 2. 3. 2.]\n",
      "[4. 2. 3. 3. 3. 2. 2. 4. 4. 2. 3. 2.]\n",
      "[4. 3. 4. 4. 3. 2. 2. 4. 2. 3. 2. 4.]\n",
      "[4. 4. 4. 4. 3. 3. 4. 3. 3. 3. 3. 4.]\n",
      "[5. 4. 4. 4. 3. 4. 4. 4. 3. 3. 3. 4.]\n",
      "[4. 4. 3. 4. 2. 3. 4. 3. 3. 3. 3. 4.]\n",
      "[4. 3. 4. 5. 2. 3. 3. 3. 3. 3. 4. 3.]\n",
      "[4. 3. 3. 3. 3. 3. 2. 4. 3. 3. 4. 3.]\n",
      "[3. 4. 4. 3. 2. 3. 3. 4. 3. 4. 3. 1.]\n",
      "[4. 4. 4. 4. 4. 4. 3. 4. 3. 3. 3. 2.]\n",
      "[5. 4. 5. 5. 4. 4. 3. 4. 3. 3. 3. 2.]\n",
      "[4. 5. 5. 5. 3. 3. 2. 4. 3. 3. 2. 2.]\n",
      "[4. 4. 4. 5. 3. 3. 2. 4. 3. 3. 3. 2.]\n",
      "[4. 4. 4. 5. 3. 3. 3. 4. 3. 3. 3. 2.]\n",
      "[4. 4. 4. 5. 4. 3. 4. 4. 3. 3. 3. 2.]\n",
      "[5. 5. 4. 4. 4. 3. 4. 4. 3. 3. 2. 4.]\n",
      "[5. 4. 5. 5. 4. 3. 4. 4. 3. 4. 4. 4.]\n",
      "[4. 5. 5. 4. 4. 3. 4. 4. 3. 4. 4. 4.]\n",
      "[4. 5. 5. 5. 3. 4. 4. 5. 3. 4. 4. 4.]\n",
      "[5. 5. 5. 4. 5. 4. 5. 4. 4. 4. 4. 0.]\n",
      "[5. 5. 5. 4. 5. 4. 5. 4. 4. 0. 0. 0.]\n",
      "[5. 5. 4. 4. 4. 4. 4. 4. 0. 0. 0. 0.]\n",
      "[4. 4. 5. 5. 4. 4. 4. 4. 0. 0. 0. 0.]\n",
      "[4. 5. 5. 4. 4. 5. 4. 4. 0. 0. 0. 0.]\n",
      "[4. 5. 4. 5. 4. 4. 4. 4. 0. 0. 0. 0.]\n"
     ]
    }
   ],
   "source": [
    "from base.Splendor_v3.env import *\n",
    "@njit\n",
    "def p0(state,per):\n",
    "    actions = getValidActions(state)\n",
    "    matran1 = per[0]@state\n",
    "    for i in range(len(matran1)):\n",
    "        matran1[i] = int(matran1[i] >= 0)\n",
    "    matran2 = per[1]@matran1\n",
    "    matran2 *= actions\n",
    "    action = np.argmax(matran2)\n",
    "    return action,per\n",
    "win, x = numba_main_2(p0, 10000,perx,0)\n"
   ]
  },
  {
   "cell_type": "code",
   "execution_count": 10,
   "metadata": {},
   "outputs": [
    {
     "name": "stdout",
     "output_type": "stream",
     "text": [
      "tỷ lệ thắng 92.31\n"
     ]
    }
   ],
   "source": [
    "print('tỷ lệ thắng',(win/10000)*100)"
   ]
  },
  {
   "cell_type": "markdown",
   "metadata": {},
   "source": [
    "# Bài tập 2 : Tính tỷ lệ thắng của Bot có weight feature tìm tay\n",
    "**==> Tỷ lệ thắng của bot có weight feature đánh mình action 0 là 40.6%**\n",
    "\n",
    "\n",
    "**==> Tỷ lệ thắng của bot có weight feature đánh mình action 1 là 46,97%**"
   ]
  },
  {
   "cell_type": "code",
   "execution_count": null,
   "metadata": {},
   "outputs": [],
   "source": [
    "import numpy as np\n",
    "from numba import njit \n",
    "for k in range(0,15):\n",
    "    #Khởi tạo weight \n",
    "    perx = [np.zeros((5,getStateSize())),np.zeros((1,5))]\n",
    "    for i in range(1):\n",
    "        for j in range(5):\n",
    "            perx[0][i*5+j][6+j] = 1\n",
    "            perx[0][i*5+j][11] = 0 \n",
    "            perx[0][i*5+j][12+j] = 1\n",
    "            perx[0][i*5+j][20+k*7+j] = -1\n",
    "    perx[1][0:6]=1\n",
    "    from base.Splendor_v3.env import *\n",
    "\n",
    "    @njit\n",
    "    def p0(state,per):\n",
    "        actions = getValidActions(state)\n",
    "        actions = np.where(actions == 1)[0]\n",
    "        matran1 = per[0]@state\n",
    "        for i in range(len(matran1)):\n",
    "            matran1[i] = int(matran1[i] >= 0)\n",
    "        matran2 = per[1]@matran1\n",
    "        # matran2 *= actions\n",
    "        if np.sum(matran2) == 5 and k in actions:\n",
    "            action = k\n",
    "        else:\n",
    "            action = actions[np.random.randint(len(actions))]\n",
    "        return action,per\n",
    "        \n",
    "    win, x = numba_main_2(p0, 1000,perx,0)\n",
    "    print('tỷ lệ thắng của action'+f'{k}',(win/1000)*100)"
   ]
  },
  {
   "cell_type": "markdown",
   "metadata": {},
   "source": [
    "# Bài tập 3 : Tính tỷ lệ thắng của Bot có weight feature random\n",
    "**==> Tỷ lệ thắng của bot có weight feature random đánh mình action 0 là 42.52%**\n",
    "\n",
    "\n",
    "**==> Tỷ lệ thắng của bot có weight feature  random đánh mình action 1 là 47.16%**"
   ]
  },
  {
   "cell_type": "markdown",
   "metadata": {},
   "source": [
    "**Cách 1** lấy cả 5 feature của thẻ đó "
   ]
  },
  {
   "cell_type": "code",
   "execution_count": 1,
   "metadata": {},
   "outputs": [
    {
     "ename": "ModuleNotFoundError",
     "evalue": "No module named 'base'",
     "output_type": "error",
     "traceback": [
      "\u001b[0;31m---------------------------------------------------------------------------\u001b[0m",
      "\u001b[0;31mModuleNotFoundError\u001b[0m                       Traceback (most recent call last)",
      "\u001b[0;32m/var/folders/ds/4lcv95w11y7brm6dqhc04s240000gn/T/ipykernel_38260/2802855742.py\u001b[0m in \u001b[0;36m<module>\u001b[0;34m\u001b[0m\n\u001b[0;32m----> 1\u001b[0;31m \u001b[0;32mfrom\u001b[0m \u001b[0mbase\u001b[0m\u001b[0;34m.\u001b[0m\u001b[0mSplendor_v3\u001b[0m\u001b[0;34m.\u001b[0m\u001b[0menv\u001b[0m \u001b[0;32mimport\u001b[0m \u001b[0;34m*\u001b[0m\u001b[0;34m\u001b[0m\u001b[0;34m\u001b[0m\u001b[0m\n\u001b[0m\u001b[1;32m      2\u001b[0m \u001b[0;32mfor\u001b[0m \u001b[0mk\u001b[0m \u001b[0;32min\u001b[0m \u001b[0mrange\u001b[0m\u001b[0;34m(\u001b[0m\u001b[0;36m15\u001b[0m\u001b[0;34m)\u001b[0m\u001b[0;34m:\u001b[0m\u001b[0;34m\u001b[0m\u001b[0;34m\u001b[0m\u001b[0m\n\u001b[1;32m      3\u001b[0m     \u001b[0;32mimport\u001b[0m \u001b[0mnumpy\u001b[0m \u001b[0;32mas\u001b[0m \u001b[0mnp\u001b[0m\u001b[0;34m\u001b[0m\u001b[0;34m\u001b[0m\u001b[0m\n\u001b[1;32m      4\u001b[0m     \u001b[0;32mfrom\u001b[0m \u001b[0mnumba\u001b[0m \u001b[0;32mimport\u001b[0m \u001b[0mnjit\u001b[0m\u001b[0;34m\u001b[0m\u001b[0;34m\u001b[0m\u001b[0m\n\u001b[1;32m      5\u001b[0m     \u001b[0;31m#Khởi tạo weight\u001b[0m\u001b[0;34m\u001b[0m\u001b[0;34m\u001b[0m\u001b[0m\n",
      "\u001b[0;31mModuleNotFoundError\u001b[0m: No module named 'base'"
     ]
    }
   ],
   "source": [
    "from base.Splendor_v3.env import *\n",
    "for k in range(15):\n",
    "    import numpy as np\n",
    "    from numba import njit \n",
    "    #Khởi tạo weight \n",
    "    perx = [np.random.randn(5,getStateSize()),np.zeros((1,5))]\n",
    "    for i in range(0,5):\n",
    "        for j in range(getStateSize()):\n",
    "            if perx[0][i][j] > np.random.randn(1):\n",
    "                perx[0][i][j] = 1\n",
    "            elif perx[0][i][j] < np.random.randn(1):\n",
    "                perx[0][i][j] =  0\n",
    "            else:\n",
    "                perx[0][i][j] = -1\n",
    "    perx[1][0:6]=1\n",
    "\n",
    "    @njit\n",
    "    def p0(state,per):\n",
    "        actions = getValidActions(state)\n",
    "        matran1 = per[0]@state\n",
    "        for i in range(len(matran1)):\n",
    "            matran1[i] = int(matran1[i] >= 0)\n",
    "        matran2 = per[1]@matran1\n",
    "        matran2 *= actions\n",
    "        if matran2 == 5 :\n",
    "            action = k\n",
    "        else:\n",
    "            actions = np.where(actions == 1)[0]\n",
    "            action = actions[np.random.randint(len(actions))]\n",
    "            while action == k:\n",
    "                action = actions[np.random.randint(len(actions))]\n",
    "        return action,per\n",
    "        \n",
    "    win, x = numba_main_2(p0, 1000,perx,0)\n",
    "    print('tỷ lệ thắng',(win/1000)*100)"
   ]
  },
  {
   "cell_type": "markdown",
   "metadata": {},
   "source": [
    "**Cách 2** chỉ cần 3 feature đặc biệt "
   ]
  },
  {
   "cell_type": "code",
   "execution_count": 7,
   "metadata": {},
   "outputs": [
    {
     "name": "stdout",
     "output_type": "stream",
     "text": [
      "tỷ lệ thắng 41.15\n"
     ]
    }
   ],
   "source": [
    "import numpy as np\n",
    "from numba import njit \n",
    "#Khởi tạo weight \n",
    "perx = [np.random.randn(3,getStateSize()),np.zeros((1,3))]\n",
    "for i in range(0,3):\n",
    "    for j in range(getStateSize()):\n",
    "        if perx[0][i][j] > np.random.randn(1):\n",
    "            perx[0][i][j] = 1\n",
    "        elif perx[0][i][j] < np.random.randn(1):\n",
    "            perx[0][i][j] =  0\n",
    "        else:\n",
    "            perx[0][i][j] = -1\n",
    "# for i in range(0,5):\n",
    "#     for j in range(5):\n",
    "#         if perx[1][i][j] > np.random.randn(1):\n",
    "#             perx[1][i][j] = 1\n",
    "#         elif perx[1][i][j] < np.random.randn(1):\n",
    "#             perx[1][i][j] =  0\n",
    "#         else:\n",
    "#             perx[1][i][j] = -1\n",
    "perx[1][0:4]=1\n",
    "from base.Splendor_v3.env import *\n",
    "@njit\n",
    "def p0(state,per):\n",
    "    actions = getValidActions(state)\n",
    "    matran1 = per[0]@state\n",
    "    for i in range(len(matran1)):\n",
    "        matran1[i] = int(matran1[i] >= 0)\n",
    "    matran2 = per[1]@matran1\n",
    "\n",
    "    matran2 *= actions\n",
    "    if matran2 == 3 :\n",
    "        action = 0 \n",
    "    else:\n",
    "        actions = np.where(actions == 1)[0]\n",
    "        action = actions[np.random.randint(len(actions))]\n",
    "    return action,per\n",
    "win, x = numba_main_2(p0, 10000,perx,0)\n",
    "print('tỷ lệ thắng',(win/10000)*100)"
   ]
  }
 ],
 "metadata": {
  "kernelspec": {
   "display_name": "Python 3.9.7 ('base')",
   "language": "python",
   "name": "python3"
  },
  "language_info": {
   "codemirror_mode": {
    "name": "ipython",
    "version": 3
   },
   "file_extension": ".py",
   "mimetype": "text/x-python",
   "name": "python",
   "nbconvert_exporter": "python",
   "pygments_lexer": "ipython3",
   "version": "3.9.7"
  },
  "orig_nbformat": 4,
  "vscode": {
   "interpreter": {
    "hash": "ff2136a0fe6bc790f1b40d257e6b1bba23119827483ea2b7c12c8cc23c661a47"
   }
  }
 },
 "nbformat": 4,
 "nbformat_minor": 2
}
