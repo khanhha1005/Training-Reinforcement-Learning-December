{
 "cells": [
  {
   "cell_type": "markdown",
   "metadata": {},
   "source": [
    "# Work 1 "
   ]
  },
  {
   "cell_type": "code",
   "execution_count": 1,
   "metadata": {},
   "outputs": [
    {
     "name": "stdout",
     "output_type": "stream",
     "text": [
      "/Users/trancatkhanh/Downloads/GAME\n"
     ]
    }
   ],
   "source": [
    "%cd /Users/trancatkhanh/Downloads/GAME"
   ]
  },
  {
   "cell_type": "code",
   "execution_count": 2,
   "metadata": {},
   "outputs": [
    {
     "name": "stdout",
     "output_type": "stream",
     "text": [
      "[array([7.06310946e-04, 9.97517502e-02, 2.38999697e-01, 8.57861519e-01,\n",
      "       7.12358827e-01, 8.47073913e-01, 4.29212562e-01, 2.98309988e-02,\n",
      "       2.43473023e-01, 2.98752425e-01, 9.39882597e-01, 8.59724947e-01,\n",
      "       5.11224992e-01, 9.78640887e-01, 6.34574741e-01]), array([0., 0., 0., 0., 0., 0., 0., 0., 0., 0., 0., 0., 0., 0., 0.])]\n"
     ]
    }
   ],
   "source": [
    "from base.Splendor_v3.env import *\n",
    "\n",
    "import numpy as np\n",
    "bias1 = [np.random.rand(getActionSize()),np.zeros(getActionSize())]\n",
    "\n",
    "print(bias1)"
   ]
  },
  {
   "cell_type": "code",
   "execution_count": 3,
   "metadata": {},
   "outputs": [
    {
     "name": "stdout",
     "output_type": "stream",
     "text": [
      "[0.93983327 0.95673182 0.97823742 1.         0.91100257 0.90164033\n",
      " 0.90086591 0.90437237 0.90438574 0.90444899 0.9109521  0.91056621\n",
      " 0.91736627 0.90839421 0.9074557 ]\n"
     ]
    }
   ],
   "source": [
    "@njit()\n",
    "def p_bias(state,per):\n",
    "    actions = getValidActions(state)\n",
    "    actions *= per[0]\n",
    "    action = np.argmax(actions)\n",
    "    if getReward(state) == 1:\n",
    "        per[1] += per[0]\n",
    "    if getReward(state) == 0:\n",
    "        per[0] = np.random.rand(getActionSize())\n",
    "    return action,per\n",
    "\n",
    "win, bias = numba_main_2(p_bias, 100000,bias1,0)\n",
    "# Bias tối ưu \n",
    "bias_greedy = (bias[1]/np.max(bias[1]))\n",
    "print(bias_greedy)\n"
   ]
  },
  {
   "cell_type": "code",
   "execution_count": 24,
   "metadata": {},
   "outputs": [
    {
     "name": "stdout",
     "output_type": "stream",
     "text": [
      "5624\n"
     ]
    }
   ],
   "source": [
    "# Check tỷ lệ thắng của bias tối ưu \n",
    "@njit()\n",
    "def p_bias_optim(state,per):\n",
    "    actions = getValidActions(state)\n",
    "    actions *= bias_greedy\n",
    "    action = np.argmax(actions)\n",
    "    return action,per\n",
    "win, bias = numba_main_2(p_bias_optim, 1000,bias1,0)\n",
    "print(win)"
   ]
  },
  {
   "cell_type": "markdown",
   "metadata": {},
   "source": [
    "#  feature cho các action 0 \n"
   ]
  },
  {
   "cell_type": "code",
   "execution_count": 27,
   "metadata": {},
   "outputs": [
    {
     "name": "stdout",
     "output_type": "stream",
     "text": [
      "[0.9995557]\n",
      "[110238.]\n"
     ]
    }
   ],
   "source": [
    "#State old là state Hiện tại \n",
    "#State new là state Mới \n",
    "old = np.load('old0.npy')\n",
    "new = np.load('new0.npy')\n",
    "# state mà có cả Value của old and new (1,0)\n",
    "o = (new>old)\n",
    "o= 1*o\n",
    "i = np.zeros((245142,1))\n",
    "for u in range(245142) :\n",
    "    if sum(o[u])>0 :\n",
    "        # print(o[u])\n",
    "        i[u] = 1\n",
    "#  a matrix with random value\n",
    "l = np.random.uniform(-1,1,(161,1))\n",
    "#state mà kích hoạt (1,0)\n",
    "k = 1*((new@l)>=0)\n",
    "# state mà kích hoạt và có reward (1,0)\n",
    "y = np.zeros((245142,1))\n",
    "for p in range(245142):\n",
    "    if sum(k[p]) >= 1 and sum(i[p])>= 1:\n",
    "        y[p] = 1\n",
    "    else:\n",
    "        y[p] = 0\n",
    "        \n",
    "print(sum(y)/sum(k))\n",
    "# print(old.shape)\n",
    "print(sum(y))\n",
    "l = l.reshape(1,161)"
   ]
  },
  {
   "cell_type": "code",
   "execution_count": 28,
   "metadata": {},
   "outputs": [
    {
     "name": "stdout",
     "output_type": "stream",
     "text": [
      "tỷ lệ thắng 23.3\n"
     ]
    }
   ],
   "source": [
    "perx=[0]\n",
    "@njit\n",
    "def p0(state,per):\n",
    "    actions = getValidActions(state)\n",
    "    matran1 = l@state    \n",
    "    for i in range(len(matran1)):\n",
    "        matran1[i] = int(matran1[i] >= 0)\n",
    "    if matran1 == 1 :\n",
    "        action = 0 \n",
    "    else:\n",
    "        actions = np.where(actions == 1)[0]\n",
    "        action = actions[np.random.randint(len(actions))]\n",
    "        while action== 0:\n",
    "            action = actions[np.random.randint(len(actions))]\n",
    "    return action,per\n",
    "win, x = numba_main_2(p0, 1000,perx,0)\n",
    "print('tỷ lệ thắng',(win/1000)*100)"
   ]
  },
  {
   "cell_type": "markdown",
   "metadata": {},
   "source": [
    "#  feature cho các action 1\n"
   ]
  },
  {
   "cell_type": "code",
   "execution_count": 23,
   "metadata": {},
   "outputs": [
    {
     "name": "stdout",
     "output_type": "stream",
     "text": [
      "[0.9998423]\n",
      "[190199.]\n"
     ]
    }
   ],
   "source": [
    "old1 = np.load('old1.npy')\n",
    "new1 = np.load('new1.npy')\n",
    "# state mà có cả Value của old and new (1,0)\n",
    "o1 = (new1>old1)\n",
    "o1= 1*o1\n",
    "i1 = np.zeros((245378,1))\n",
    "for u1 in range(245378) :\n",
    "    if sum(o1[u1])>0 :\n",
    "        i1[u1] = 1\n",
    "\n",
    "        \n",
    "#  a matrix with random value\n",
    "l1 = np.random.uniform(-1,1,(161,1))\n",
    "\n",
    "#state mà kích hoạt (1,0)\n",
    "k1 = 1*((new1@l1)>=0)\n",
    "# state mà kích hoạt và có reward (1,0)\n",
    "y1 = np.zeros((245378,1))\n",
    "for p1 in range(245378):\n",
    "    if sum(k1[p1]) >= 1 and sum(i1[p1])>= 1:\n",
    "        y1[p1] = 1\n",
    "    else:\n",
    "        y1[p1] = 0\n",
    "print(sum(y1)/sum(k1))\n",
    "# print(old.shape)\n",
    "print(sum(y1))\n",
    "l1 = l1.reshape(1,161)"
   ]
  },
  {
   "cell_type": "code",
   "execution_count": 29,
   "metadata": {},
   "outputs": [
    {
     "name": "stdout",
     "output_type": "stream",
     "text": [
      "tỷ lệ thắng 39.800000000000004\n"
     ]
    }
   ],
   "source": [
    "@njit\n",
    "def p_action1(state,per):\n",
    "    actions = getValidActions(state)\n",
    "    matran1 = l1@state    \n",
    "    for i in range(len(matran1)):\n",
    "        matran1[i] = int(matran1[i] >= 0)\n",
    "    if matran1 == 1 :\n",
    "        action = 1\n",
    "    else:\n",
    "        actions = np.where(actions == 1)[0]\n",
    "        action = actions[np.random.randint(len(actions))]\n",
    "        while action== 1:\n",
    "            action = actions[np.random.randint(len(actions))]\n",
    "    return action,per\n",
    "win, x = numba_main_2(p_action1, 1000,perx,0)\n",
    "print('tỷ lệ thắng',(win/1000)*100)"
   ]
  },
  {
   "cell_type": "markdown",
   "metadata": {},
   "source": [
    "# Ghép 2 action với nhau "
   ]
  },
  {
   "cell_type": "code",
   "execution_count": 28,
   "metadata": {},
   "outputs": [
    {
     "name": "stdout",
     "output_type": "stream",
     "text": [
      "0.9504946791405442\n"
     ]
    }
   ],
   "source": [
    "perx1 = [bias_greedy]"
   ]
  },
  {
   "cell_type": "code",
   "execution_count": null,
   "metadata": {},
   "outputs": [],
   "source": [
    "@njit\n",
    "def p_all_action(state,per):\n",
    "    actions = getValidActions(state)\n",
    "    matran1 = l1@state   \n",
    "    matran2 = l@state     \n",
    "    for i in range(len(matran1)):\n",
    "        matran1[i] = int(matran1[i] >= 0)\n",
    "    for i in range(len(matran2)):\n",
    "        matran2[i] = int(matran2[i] >= 0)\n",
    "\n",
    "    if matran1 == 1 and matran2 == 0:\n",
    "        action = 1\n",
    "    elif matran2 == 1 and matran1 == 0 :\n",
    "        action = 0\n",
    "    elif matran2 == matran1 and matran1 == 1:\n",
    "        if per[0][0]+1 > per[0][1]+1:\n",
    "            action = 0\n",
    "        else:\n",
    "            action = 1\n",
    "    else:\n",
    "        actions = np.where(actions == 1)[0]\n",
    "        action = actions[np.random.randint(len(actions))]\n",
    "        while action== 1 or action == 0:\n",
    "            action = actions[np.random.randint(len(actions))]\n",
    "    return action,per\n",
    "win, x = numba_main_2(p_all_action, 1000,perx1,0)\n",
    "print('tỷ lệ thắng',(win/1000)*100)"
   ]
  },
  {
   "cell_type": "markdown",
   "metadata": {},
   "source": [
    "# Homework 1:\n",
    "\n",
    "*  **1.For each action , save at least 200k state both old and new state** \n",
    "*  **2.Label the state  which change 0 and 1** \n",
    "*  **3.Predict what value in state will change** \n",
    "\n",
    "\n"
   ]
  },
  {
   "cell_type": "markdown",
   "metadata": {},
   "source": [
    "**1.For each action , save at least 200k state both old and new state** "
   ]
  },
  {
   "cell_type": "code",
   "execution_count": null,
   "metadata": {},
   "outputs": [],
   "source": [
    "import numpy as np\n",
    "from base.Splendor_v3.env import *\n",
    "for k in range(2,16):\n",
    "  @njit()\n",
    "  def p0(state,per):\n",
    "    # Choose an action\n",
    "    actions = getValidActions(state)\n",
    "    actions = np.where(actions == 1)[0]\n",
    "    action = actions[np.random.randint(len(actions))]\n",
    "    # Lưu new state\n",
    "    if  per[3][0][0] == 1: \n",
    "      if int(per[4][0][0])<=10:\n",
    "        j = int(per[4][0][0])\n",
    "        for i in range(getStateSize()):\n",
    "          per[2][j][i] += state[i]\n",
    "        print('lưu state sau khi action '+f'{k}',per[2][j])\n",
    "        # trigger action 2\n",
    "        per[3][0][0] = 0\n",
    "        per[4][0][0] += 1\n",
    "        print(\"action sau khi action \"+f'{k}',action)\n",
    "\n",
    "    #Lưu old state \n",
    "    if action == k :\n",
    "      if int(per[1][0][0])<=10:\n",
    "        # save state\n",
    "        j = int(per[1][0][0])\n",
    "        for i in range(getStateSize()):\n",
    "          per[0][j][i] += state[i]\n",
    "        print('lưu state trước khi action '+f'{k}',per[0][j])\n",
    "        # count number of state\n",
    "        per[1][0][0] += 1\n",
    "        per[3][0][0] = 1\n",
    "        print(\"action \",action)\n",
    "      \n",
    "    return action,per\n",
    "\n",
    "          #0                                  #1                #2                              #3            #4\n",
    "  perx = [np.zeros((200000,getStateSize())),np.zeros((1,1)),np.zeros((200000,getStateSize())),np.zeros((1,1)),np.zeros((1,1))]\n",
    "            #state old                      #số trận của old       #state new                  # trigger      # số trận của new\n",
    "  win, x = numba_main_2(p0, 10,perx , 0)\n",
    "  np.save('old'+f'{k}'+'.npy',x[0])\n",
    "  np.save('new'+f'{k}'+'.npy',x[2])"
   ]
  },
  {
   "cell_type": "code",
   "execution_count": 12,
   "metadata": {},
   "outputs": [
    {
     "name": "stdout",
     "output_type": "stream",
     "text": [
      "(9181,)\n"
     ]
    }
   ],
   "source": [
    "old1 = np.load('old1.npy')\n",
    "new1 = np.load('new1.npy')\n",
    "# state mà có cả Value của old and new (1,0)\n",
    "o1 = (new1>old1)\n",
    "o1= 1*o1\n",
    "# state mà có reward (1,0)\n",
    "i1 = np.zeros((245378,1))\n",
    "for u1 in range(245378) :\n",
    "    if sum(o1[u1])>0 :\n",
    "        i1[u1] = 1\n",
    "print(np.where(i1==0)[0].shape)\n"
   ]
  },
  {
   "cell_type": "markdown",
   "metadata": {},
   "source": [
    "*  **2.Label the state  which change 0 and 1** \n",
    "*  **3.Predict what value in state will change** "
   ]
  },
  {
   "cell_type": "markdown",
   "metadata": {},
   "source": [
    "**Logistic regression**"
   ]
  },
  {
   "cell_type": "code",
   "execution_count": 32,
   "metadata": {},
   "outputs": [
    {
     "data": {
      "text/plain": [
       "0.9730130655559993"
      ]
     },
     "execution_count": 32,
     "metadata": {},
     "output_type": "execute_result"
    }
   ],
   "source": [
    "from sklearn.datasets import load_iris\n",
    "from sklearn.linear_model import LogisticRegression\n",
    "from sklearn.model_selection import train_test_split\n",
    "train_img, test_img, train_lbl, test_lbl = train_test_split(old, i, test_size=1/7.0, random_state=0)\n",
    "\n",
    "clf1 = LogisticRegression(random_state=0).fit(train_img, train_lbl)\n",
    "clf1.score(test_img, test_lbl)\n"
   ]
  },
  {
   "cell_type": "code",
   "execution_count": 26,
   "metadata": {},
   "outputs": [
    {
     "name": "stdout",
     "output_type": "stream",
     "text": [
      "[1.]\n",
      "[1.]\n"
     ]
    }
   ],
   "source": [
    "print(clf1.predict(np.array(old1[0]).reshape(1,161)))"
   ]
  },
  {
   "cell_type": "markdown",
   "metadata": {},
   "source": [
    "# Homework 2:\n",
    "**Tìm bộ feature cho từng action sao cho**\n",
    "* **(tỷ lệ state vừa kích hoạt vừa có value /tỷ lệ state vừa kích hoạt) luôn bằng 1**\n",
    "* **check xem từng action tỷ lệ thắng có trên 30%**"
   ]
  },
  {
   "cell_type": "code",
   "execution_count": null,
   "metadata": {},
   "outputs": [],
   "source": []
  },
  {
   "cell_type": "markdown",
   "metadata": {},
   "source": [
    "# Homework 3:\n",
    "**1 agent tổng quán sử dụng bộ feature và bias có tỷ lệ thắng trên 60%**"
   ]
  },
  {
   "cell_type": "code",
   "execution_count": null,
   "metadata": {},
   "outputs": [],
   "source": []
  }
 ],
 "metadata": {
  "kernelspec": {
   "display_name": "Python 3.9.7 ('base')",
   "language": "python",
   "name": "python3"
  },
  "language_info": {
   "codemirror_mode": {
    "name": "ipython",
    "version": 3
   },
   "file_extension": ".py",
   "mimetype": "text/x-python",
   "name": "python",
   "nbconvert_exporter": "python",
   "pygments_lexer": "ipython3",
   "version": "3.9.7"
  },
  "orig_nbformat": 4,
  "vscode": {
   "interpreter": {
    "hash": "ff2136a0fe6bc790f1b40d257e6b1bba23119827483ea2b7c12c8cc23c661a47"
   }
  }
 },
 "nbformat": 4,
 "nbformat_minor": 2
}
