{
 "cells": [
  {
   "cell_type": "code",
   "execution_count": 5,
   "metadata": {},
   "outputs": [
    {
     "name": "stdout",
     "output_type": "stream",
     "text": [
      "/Users/trancatkhanh/Downloads/GAME\n"
     ]
    }
   ],
   "source": [
    "%cd /Users/trancatkhanh/Downloads/GAME\n",
    "from base.Splendor_v3.env import *\n"
   ]
  },
  {
   "cell_type": "markdown",
   "metadata": {},
   "source": [
    "# Homework 1:\n",
    "\n",
    "*  **1.For each action , save at least 200k state both old and new state** \n",
    "*  **2.Label the state  which change 0 and 1** \n",
    "*  **3.Predict what state will get reward** \n",
    "\n",
    "**FILE_DATA_CỦA_TỪNG_ACTION:** \n",
    "\n",
    "\n",
    "https://drive.google.com/drive/folders/10clf3QG6yf3Epdj5Z-MpWjkPs_gQad-Q?usp=sharing\n"
   ]
  },
  {
   "cell_type": "markdown",
   "metadata": {},
   "source": [
    "**1.For each action , save at least 200k state both old and new state** "
   ]
  },
  {
   "cell_type": "code",
   "execution_count": null,
   "metadata": {},
   "outputs": [],
   "source": [
    "import numpy as np\n",
    "from base.Splendor_v3.env import *\n",
    "for k in range(2,15):\n",
    "  @njit()\n",
    "  def p0(state,per):\n",
    "    # Choose an action\n",
    "    actions = getValidActions(state)\n",
    "    actions = np.where(actions == 1)[0]\n",
    "    action = actions[np.random.randint(len(actions))]\n",
    "    # Lưu new state\n",
    "    if  per[3][0][0] == 1: \n",
    "      if int(per[4][0][0])<=200000:\n",
    "        j = int(per[4][0][0])\n",
    "        for i in range(getStateSize()):\n",
    "          per[2][j][i] += state[i]\n",
    "        # print('lưu state sau khi action '+f'{k}',per[2][j])\n",
    "        # trigger action 2\n",
    "        per[3][0][0] = 0\n",
    "        per[4][0][0] += 1\n",
    "        # print(\"action sau khi action \"+f'{k}',action)\n",
    "\n",
    "    #Lưu old state \n",
    "    if action == k :\n",
    "      if int(per[1][0][0])<=200000:\n",
    "        # save state\n",
    "        j = int(per[1][0][0])\n",
    "        for i in range(getStateSize()):\n",
    "          per[0][j][i] += state[i]\n",
    "        # print('lưu state trước khi action '+f'{k}',per[0][j])\n",
    "        # count number of state\n",
    "        per[1][0][0] += 1\n",
    "        per[3][0][0] = 1\n",
    "        # print(\"action \",action)\n",
    "      \n",
    "    return action,per\n",
    "\n",
    "          #0                                  #1                #2                              #3            #4\n",
    "  perx = [np.zeros((200000,getStateSize())),np.zeros((1,1)),np.zeros((200000,getStateSize())),np.zeros((1,1)),np.zeros((1,1))]\n",
    "            #state old                      #số trận của old       #state new                  # trigger      # số trận của new\n",
    "  win, x = numba_main_2(p0, 200000,perx , 0)\n",
    "  np.save('old'+f'{k}'+'.npy',x[0])\n",
    "  np.save('new'+f'{k}'+'.npy',x[2])"
   ]
  },
  {
   "cell_type": "markdown",
   "metadata": {},
   "source": [
    "**2.Label the state  which change 0 and 1** \n"
   ]
  },
  {
   "cell_type": "code",
   "execution_count": null,
   "metadata": {},
   "outputs": [],
   "source": [
    "old = np.load('old0.npy')\n",
    "new = np.load('new0.npy')\n",
    "#Label the data (the state will give reward : 1) and (the state will not give reward : 0)\n",
    "o = (new>old)\n",
    "o= 1*o\n",
    "i = np.zeros((245142,1))\n",
    "for u in range(245142) :\n",
    "    if sum(o[u])>0 :\n",
    "        # print(o[u])\n",
    "        i[u] = 1"
   ]
  },
  {
   "cell_type": "markdown",
   "metadata": {},
   "source": [
    "**3.Predict what value in state will change** \n",
    "\n",
    "\n",
    "**======> Apply Logistic regression**"
   ]
  },
  {
   "cell_type": "code",
   "execution_count": null,
   "metadata": {},
   "outputs": [
    {
     "data": {
      "text/plain": [
       "0.9730130655559993"
      ]
     },
     "metadata": {},
     "output_type": "display_data"
    }
   ],
   "source": [
    "from sklearn.datasets import load_iris\n",
    "from sklearn.linear_model import LogisticRegression\n",
    "from sklearn.model_selection import train_test_split\n",
    "train_img, test_img, train_lbl, test_lbl = train_test_split(old, i, test_size=1/7.0, random_state=0)\n",
    "\n",
    "clf1 = LogisticRegression(random_state=0).fit(train_img, train_lbl)\n",
    "clf1.score(test_img, test_lbl)\n"
   ]
  },
  {
   "cell_type": "code",
   "execution_count": null,
   "metadata": {},
   "outputs": [
    {
     "name": "stdout",
     "output_type": "stream",
     "text": [
      "[0.]\n"
     ]
    }
   ],
   "source": [
    "print(np.where(i==0)[0])\n",
    "print(old[30])\n",
    "print(new[30])\n",
    "# Predict the state will give reward or not\n",
    "print(clf1.predict(old[52].reshape(1,161)))"
   ]
  },
  {
   "cell_type": "markdown",
   "metadata": {},
   "source": [
    "# Bài tập 1 : Tìm ra feature hoặc bộ feature cho từng action để tỉ lệ +value khi active = 1 \n"
   ]
  },
  {
   "cell_type": "code",
   "execution_count": 24,
   "metadata": {},
   "outputs": [],
   "source": [
    "def get_feature(i):\n",
    "  #State old là state Hiện tại \n",
    "  #State new là state Mới \n",
    "  old = np.load('old'+f'{i}'+'.npy')\n",
    "  new = np.load('new'+f'{i}'+'.npy')\n",
    "  rate = 0 \n",
    "  while rate<0.999 :\n",
    "\n",
    "    # state mà có cả Value (1,0)\n",
    "    o = (new>old)\n",
    "    o= 1*o\n",
    "    i = np.zeros((old.shape[0],1))\n",
    "    for u in range(old.shape[0]) :\n",
    "        if sum(o[u])>0 :\n",
    "            # print(o[u])\n",
    "            i[u] = 1\n",
    "    #  create a feature_matrix with random value\n",
    "    l = np.random.uniform(-1,1,(161,1))\n",
    "    for j in range(getStateSize()):\n",
    "        if l[j] > np.random.randn(1):\n",
    "            l[j] = 1\n",
    "        elif l[j] < np.random.randn(1):\n",
    "            l[j] =  0\n",
    "        else:\n",
    "            l[j] = -1\n",
    "    #state mà kích hoạt (1,0)\n",
    "    k = 1*((new@l)>=0)\n",
    "    # state mà kích hoạt và có reward (1,0)\n",
    "    y = np.zeros((old.shape[0],1))\n",
    "    for p in range(old.shape[0]):\n",
    "        if sum(k[p]) >= 1 and sum(i[p])>= 1:\n",
    "            y[p] = 1\n",
    "        else:\n",
    "            y[p] = 0\n",
    "    rate = (sum(y)/sum(k))\n",
    "  return l.reshape(1,161)\n",
    "matrix = (get_feature(0))\n",
    "matrix1 =  (get_feature(1)) \n"
   ]
  },
  {
   "cell_type": "code",
   "execution_count": 27,
   "metadata": {},
   "outputs": [
    {
     "name": "stdout",
     "output_type": "stream",
     "text": [
      "[array([[ 1., -1., -1.,  1.,  0.,  1.,  0., -1.,  0.,  1., -1.,  1.,  1.,\n",
      "         0.,  0., -1., -1.,  0.,  1.,  0.,  1.,  1.,  1.,  1., -1.,  1.,\n",
      "        -1.,  1.,  1.,  0.,  1., -1.,  1.,  1.,  1.,  1.,  1.,  1., -1.,\n",
      "        -1.,  0.,  0.,  0.,  1.,  0.,  0.,  1.,  1.,  1.,  1.,  1.,  1.,\n",
      "         1.,  1.,  1.,  1.,  0.,  0.,  0.,  1.,  1.,  1.,  0., -1.,  1.,\n",
      "         1.,  0.,  1.,  0.,  0., -1.,  1.,  1., -1.,  0.,  0.,  0.,  1.,\n",
      "         1.,  0., -1.,  0.,  0.,  0.,  0.,  0., -1.,  0.,  0.,  1.,  1.,\n",
      "        -1.,  1.,  1.,  0., -1.,  1.,  1.,  1.,  0.,  0., -1.,  1.,  1.,\n",
      "        -1., -1., -1.,  0., -1.,  1.,  1.,  1.,  1.,  1., -1., -1., -1.,\n",
      "         1.,  0.,  1.,  0.,  0.,  1.,  1.,  0.,  1.,  1.,  1.,  1., -1.,\n",
      "         0.,  0.,  0., -1.,  1.,  0.,  1., -1.,  1., -1.,  0.,  1.,  0.,\n",
      "         1.,  0.,  1.,  0.,  0.,  1.,  1.,  1., -1.,  1., -1.,  0., -1.,\n",
      "         1.,  0.,  0.,  1.,  0.]]), array([[ 1.,  1., -1.,  1.,  1., -1.,  0.,  0.,  0., -1.,  1.,  0., -1.,\n",
      "         1.,  1.,  0.,  1.,  1.,  0.,  1.,  1.,  1.,  1., -1.,  1.,  1.,\n",
      "         0.,  0.,  1.,  1., -1.,  1.,  0., -1.,  1.,  0.,  1.,  0.,  1.,\n",
      "        -1.,  1., -1.,  1., -1.,  1.,  1.,  0.,  1.,  1.,  0.,  1.,  1.,\n",
      "        -1., -1.,  1.,  1.,  1.,  1., -1.,  1.,  1.,  0., -1., -1.,  0.,\n",
      "         1.,  0.,  0.,  0.,  1.,  1.,  1.,  0.,  0.,  1.,  0., -1.,  0.,\n",
      "         0.,  1., -1.,  1.,  1.,  0., -1.,  0.,  1.,  1.,  0.,  1.,  1.,\n",
      "         0.,  0., -1.,  0.,  1.,  1.,  1., -1.,  1.,  1.,  1.,  1.,  0.,\n",
      "        -1.,  1.,  0.,  1.,  0.,  0., -1.,  1., -1.,  1.,  0.,  0.,  1.,\n",
      "         0.,  1.,  1.,  1.,  1.,  1., -1.,  1.,  1.,  1.,  1.,  1.,  1.,\n",
      "         0.,  0., -1.,  0.,  0.,  1.,  1.,  0.,  1.,  1.,  1.,  1.,  1.,\n",
      "         0.,  1.,  0.,  0., -1., -1.,  1.,  1.,  0.,  1.,  0.,  0.,  0.,\n",
      "         0., -1.,  1.,  1.,  1.]])]\n",
      "[[ 1. -1. -1.  1.  0.  1.  0. -1.  0.  1. -1.  1.  1.  0.  0. -1. -1.  0.\n",
      "   1.  0.  1.  1.  1.  1. -1.  1. -1.  1.  1.  0.  1. -1.  1.  1.  1.  1.\n",
      "   1.  1. -1. -1.  0.  0.  0.  1.  0.  0.  1.  1.  1.  1.  1.  1.  1.  1.\n",
      "   1.  1.  0.  0.  0.  1.  1.  1.  0. -1.  1.  1.  0.  1.  0.  0. -1.  1.\n",
      "   1. -1.  0.  0.  0.  1.  1.  0. -1.  0.  0.  0.  0.  0. -1.  0.  0.  1.\n",
      "   1. -1.  1.  1.  0. -1.  1.  1.  1.  0.  0. -1.  1.  1. -1. -1. -1.  0.\n",
      "  -1.  1.  1.  1.  1.  1. -1. -1. -1.  1.  0.  1.  0.  0.  1.  1.  0.  1.\n",
      "   1.  1.  1. -1.  0.  0.  0. -1.  1.  0.  1. -1.  1. -1.  0.  1.  0.  1.\n",
      "   0.  1.  0.  0.  1.  1.  1. -1.  1. -1.  0. -1.  1.  0.  0.  1.  0.]]\n",
      "[[ 1.  1. -1.  1.  1. -1.  0.  0.  0. -1.  1.  0. -1.  1.  1.  0.  1.  1.\n",
      "   0.  1.  1.  1.  1. -1.  1.  1.  0.  0.  1.  1. -1.  1.  0. -1.  1.  0.\n",
      "   1.  0.  1. -1.  1. -1.  1. -1.  1.  1.  0.  1.  1.  0.  1.  1. -1. -1.\n",
      "   1.  1.  1.  1. -1.  1.  1.  0. -1. -1.  0.  1.  0.  0.  0.  1.  1.  1.\n",
      "   0.  0.  1.  0. -1.  0.  0.  1. -1.  1.  1.  0. -1.  0.  1.  1.  0.  1.\n",
      "   1.  0.  0. -1.  0.  1.  1.  1. -1.  1.  1.  1.  1.  0. -1.  1.  0.  1.\n",
      "   0.  0. -1.  1. -1.  1.  0.  0.  1.  0.  1.  1.  1.  1.  1. -1.  1.  1.\n",
      "   1.  1.  1.  1.  0.  0. -1.  0.  0.  1.  1.  0.  1.  1.  1.  1.  1.  0.\n",
      "   1.  0.  0. -1. -1.  1.  1.  0.  1.  0.  0.  0.  0. -1.  1.  1.  1.]]\n"
     ]
    }
   ],
   "source": [
    "matrix_feature = []\n",
    "matrix_feature.append(matrix)\n",
    "matrix_feature.append(matrix1)\n",
    "print(matrix_feature)\n",
    "print(matrix)\n",
    "print(matrix1)"
   ]
  },
  {
   "cell_type": "code",
   "execution_count": null,
   "metadata": {},
   "outputs": [],
   "source": [
    "# Get all the feature of all actions \n",
    "matrix_feature = []\n",
    "for i in range(0,15):\n",
    "  matrix_feature.append(get_feature(i))"
   ]
  },
  {
   "cell_type": "markdown",
   "metadata": {},
   "source": [
    "# Bài tập 2 : Khi dùng bộ feature đó cho từng action, tỉ lệ thắng >35% \n"
   ]
  },
  {
   "cell_type": "code",
   "execution_count": 33,
   "metadata": {},
   "outputs": [],
   "source": [
    "# create weight for each feature\n",
    "perx=[np.zeros((len(matrix_feature),getStateSize()))]\n",
    "for i in range(0,len(matrix_feature)):\n",
    "    for j in range(getStateSize()):\n",
    "        perx[0][i][j] += matrix_feature[i][0][j]\n",
    "        \n"
   ]
  },
  {
   "cell_type": "markdown",
   "metadata": {},
   "source": [
    "**Action 0 -1**"
   ]
  },
  {
   "cell_type": "code",
   "execution_count": 48,
   "metadata": {},
   "outputs": [
    {
     "name": "stdout",
     "output_type": "stream",
     "text": [
      "tỷ lệ thắng khi dùng action 0 42.8\n",
      "tỷ lệ thắng khi dùng action 1 47.3\n"
     ]
    }
   ],
   "source": [
    "for k in range(0,2):\n",
    "  @njit\n",
    "  def p0(state,per):\n",
    "      actions = getValidActions(state)\n",
    "      matran1 = per[0][k]@state    \n",
    "      matran1 = int(matran1 >= 0)\n",
    "      actions = np.where(actions == 1)[0]\n",
    "      if matran1 == 1 and k in actions :\n",
    "          action = k\n",
    "      else:\n",
    "          actions = np.where(actions == 1)[0]\n",
    "          action = actions[np.random.randint(len(actions))]\n",
    "          while action== k:\n",
    "              action = actions[np.random.randint(len(actions))]\n",
    "      return action,per\n",
    "  win, x = numba_main_2(p0, 1000,perx,0)\n",
    "  print('tỷ lệ thắng khi dùng action '+f'{k}',(win/1000)*100)"
   ]
  },
  {
   "cell_type": "markdown",
   "metadata": {},
   "source": [
    "**Action 2-15**"
   ]
  },
  {
   "cell_type": "code",
   "execution_count": 46,
   "metadata": {},
   "outputs": [
    {
     "name": "stdout",
     "output_type": "stream",
     "text": [
      "tỷ lệ thắng 44.2\n"
     ]
    }
   ],
   "source": [
    "for k in range(0,15):\n",
    "  @njit\n",
    "  def p0(state,per):\n",
    "      actions = getValidActions(state)\n",
    "      matran1 = per[0][k]@state    \n",
    "      matran1 = int(matran1 >= 0)\n",
    "      actions = np.where(actions == 1)[0]\n",
    "      if matran1 == 1 and k in actions :\n",
    "          action = k\n",
    "      else:\n",
    "          actions = np.where(actions == 1)[0]\n",
    "          action = actions[np.random.randint(len(actions))]\n",
    "          while action== k:\n",
    "              action = actions[np.random.randint(len(actions))]\n",
    "      return action,per\n",
    "  win, x = numba_main_2(p0, 1000,perx,0)\n",
    "  print('tỷ lệ thắng khi dùng action '+f'{k}',(win/1000)*100)"
   ]
  },
  {
   "cell_type": "markdown",
   "metadata": {},
   "source": [
    "# <Phần mở rộng> \n",
    "# Ghép các action với nhau "
   ]
  },
  {
   "cell_type": "markdown",
   "metadata": {},
   "source": [
    "**Bước 1 :Lấy bias của các action**"
   ]
  },
  {
   "cell_type": "code",
   "execution_count": 51,
   "metadata": {},
   "outputs": [
    {
     "name": "stdout",
     "output_type": "stream",
     "text": [
      "[0.93169458 0.95408836 0.96489867 1.         0.88563347 0.90320685\n",
      " 0.90613141 0.90128938 0.9156278  0.90590432 0.91849948 0.90841397\n",
      " 0.91312464 0.89787697 0.91588065]\n",
      "555\n"
     ]
    }
   ],
   "source": [
    "from base.Splendor_v3.env import *\n",
    "import numpy as np\n",
    "bias1 = [np.random.rand(getActionSize()),np.zeros(getActionSize())]\n",
    "@njit()\n",
    "def p_bias(state,per):\n",
    "    actions = getValidActions(state)\n",
    "    actions *= per[0]\n",
    "    action = np.argmax(actions)\n",
    "    if getReward(state) == 1:\n",
    "        per[1] += per[0]\n",
    "    if getReward(state) == 0:\n",
    "        per[0] = np.random.rand(getActionSize())\n",
    "    return action,per\n",
    "\n",
    "win, bias = numba_main_2(p_bias, 10000,bias1,0)\n",
    "# Bias tối ưu \n",
    "bias_greedy = (bias[1]/np.max(bias[1]))\n",
    "print(bias_greedy)\n",
    "# Check tỷ lệ thắng của bias tối ưu \n",
    "@njit()\n",
    "def p_bias_optim(state,per):\n",
    "    actions = getValidActions(state)\n",
    "    actions *= bias_greedy\n",
    "    action = np.argmax(actions)\n",
    "    return action,per\n",
    "win, bias = numba_main_2(p_bias_optim, 1000,bias1,0)\n",
    "print(win)"
   ]
  },
  {
   "cell_type": "code",
   "execution_count": 52,
   "metadata": {},
   "outputs": [],
   "source": [
    "perx1 = [bias_greedy]"
   ]
  },
  {
   "cell_type": "code",
   "execution_count": 53,
   "metadata": {},
   "outputs": [
    {
     "ename": "TypingError",
     "evalue": "Failed in nopython mode pipeline (step: nopython frontend)\n\u001b[1m\u001b[1m\u001b[1m\u001b[1mFailed in nopython mode pipeline (step: nopython frontend)\n\u001b[1m\u001b[1m\u001b[1m\u001b[1m\u001b[1m\u001b[1m\u001b[1m\u001b[1m\u001b[1m\u001b[1mFailed in nopython mode pipeline (step: nopython frontend)\n\u001b[1m\u001b[1mNo implementation of function Function(<built-in function matmul>) found for signature:\n \n >>> matmul(float64, array(float64, 1d, C))\n \nThere are 2 candidate implementations:\n\u001b[1m   - Of which 2 did not match due to:\n   Overload of function 'matmul': File: numba/core/typing/npydecl.py: Line 1022.\n     With argument(s): '(float64, array(float64, 1d, C))':\u001b[0m\n\u001b[1m    No match.\u001b[0m\n\u001b[0m\n\u001b[0m\u001b[1mDuring: typing of intrinsic-call at /var/folders/ds/4lcv95w11y7brm6dqhc04s240000gn/T/ipykernel_25056/3292066271.py (4)\u001b[0m\n\u001b[1m\nFile \"../../../../var/folders/ds/4lcv95w11y7brm6dqhc04s240000gn/T/ipykernel_25056/3292066271.py\", line 4:\u001b[0m\n\u001b[1m<source missing, REPL/exec in use?>\u001b[0m\n\n\u001b[0m\u001b[1mDuring: resolving callee type: type(CPUDispatcher(<function p_all_action at 0x7f8e6a4ca9d0>))\u001b[0m\n\u001b[0m\u001b[1mDuring: typing of call at /Users/trancatkhanh/Downloads/GAME/base/Splendor_v3/env.py (621)\n\u001b[0m\n\u001b[0m\u001b[1mDuring: resolving callee type: type(CPUDispatcher(<function p_all_action at 0x7f8e6a4ca9d0>))\u001b[0m\n\u001b[0m\u001b[1mDuring: typing of call at /Users/trancatkhanh/Downloads/GAME/base/Splendor_v3/env.py (641)\n\u001b[0m\n\u001b[0m\u001b[1mDuring: resolving callee type: type(CPUDispatcher(<function p_all_action at 0x7f8e6a4ca9d0>))\u001b[0m\n\u001b[0m\u001b[1mDuring: typing of call at /Users/trancatkhanh/Downloads/GAME/base/Splendor_v3/env.py (621)\n\u001b[0m\n\u001b[0m\u001b[1mDuring: resolving callee type: type(CPUDispatcher(<function p_all_action at 0x7f8e6a4ca9d0>))\u001b[0m\n\u001b[0m\u001b[1mDuring: typing of call at /Users/trancatkhanh/Downloads/GAME/base/Splendor_v3/env.py (641)\n\u001b[0m\n\u001b[0m\u001b[1mDuring: resolving callee type: type(CPUDispatcher(<function p_all_action at 0x7f8e6a4ca9d0>))\u001b[0m\n\u001b[0m\u001b[1mDuring: typing of call at /Users/trancatkhanh/Downloads/GAME/base/Splendor_v3/env.py (621)\n\u001b[0m\n\u001b[1m\nFile \"base/Splendor_v3/env.py\", line 621:\u001b[0m\n\u001b[1mdef one_game_numba(p0, list_other, per_player):\n    <source elided>\n        if list_other[idx] == -1:\n\u001b[1m            action, per_player = p0(player_state,per_player)\n\u001b[0m            \u001b[1m^\u001b[0m\u001b[0m\n\n\u001b[0m\u001b[1mDuring: resolving callee type: type(CPUDispatcher(<function one_game_numba at 0x7f8e695b89d0>))\u001b[0m\n\u001b[0m\u001b[1mDuring: typing of call at /Users/trancatkhanh/Downloads/GAME/base/Splendor_v3/env.py (658)\n\u001b[0m\n\u001b[0m\u001b[1mDuring: resolving callee type: type(CPUDispatcher(<function one_game_numba at 0x7f8e695b89d0>))\u001b[0m\n\u001b[0m\u001b[1mDuring: typing of call at /Users/trancatkhanh/Downloads/GAME/base/Splendor_v3/env.py (658)\n\u001b[0m\n\u001b[1m\nFile \"base/Splendor_v3/env.py\", line 658:\u001b[0m\n\u001b[1mdef n_game_numba(p0, num_game, per_player, level):\n    <source elided>\n        np.random.shuffle(list_other)\n\u001b[1m        winner,per_player  = one_game_numba(p0, list_other, per_player)\n\u001b[0m        \u001b[1m^\u001b[0m\u001b[0m\n",
     "output_type": "error",
     "traceback": [
      "\u001b[0;31m---------------------------------------------------------------------------\u001b[0m",
      "\u001b[0;31mTypingError\u001b[0m                               Traceback (most recent call last)",
      "\u001b[0;32m/var/folders/ds/4lcv95w11y7brm6dqhc04s240000gn/T/ipykernel_25056/3292066271.py\u001b[0m in \u001b[0;36m<module>\u001b[0;34m\u001b[0m\n\u001b[1;32m     24\u001b[0m             \u001b[0maction\u001b[0m \u001b[0;34m=\u001b[0m \u001b[0mactions\u001b[0m\u001b[0;34m[\u001b[0m\u001b[0mnp\u001b[0m\u001b[0;34m.\u001b[0m\u001b[0mrandom\u001b[0m\u001b[0;34m.\u001b[0m\u001b[0mrandint\u001b[0m\u001b[0;34m(\u001b[0m\u001b[0mlen\u001b[0m\u001b[0;34m(\u001b[0m\u001b[0mactions\u001b[0m\u001b[0;34m)\u001b[0m\u001b[0;34m)\u001b[0m\u001b[0;34m]\u001b[0m\u001b[0;34m\u001b[0m\u001b[0;34m\u001b[0m\u001b[0m\n\u001b[1;32m     25\u001b[0m     \u001b[0;32mreturn\u001b[0m \u001b[0maction\u001b[0m\u001b[0;34m,\u001b[0m\u001b[0mper\u001b[0m\u001b[0;34m\u001b[0m\u001b[0;34m\u001b[0m\u001b[0m\n\u001b[0;32m---> 26\u001b[0;31m \u001b[0mwin\u001b[0m\u001b[0;34m,\u001b[0m \u001b[0mx\u001b[0m \u001b[0;34m=\u001b[0m \u001b[0mnumba_main_2\u001b[0m\u001b[0;34m(\u001b[0m\u001b[0mp_all_action\u001b[0m\u001b[0;34m,\u001b[0m \u001b[0;36m1000\u001b[0m\u001b[0;34m,\u001b[0m\u001b[0mperx1\u001b[0m\u001b[0;34m,\u001b[0m\u001b[0;36m0\u001b[0m\u001b[0;34m)\u001b[0m\u001b[0;34m\u001b[0m\u001b[0;34m\u001b[0m\u001b[0m\n\u001b[0m\u001b[1;32m     27\u001b[0m \u001b[0mprint\u001b[0m\u001b[0;34m(\u001b[0m\u001b[0;34m'tỷ lệ thắng'\u001b[0m\u001b[0;34m,\u001b[0m\u001b[0;34m(\u001b[0m\u001b[0mwin\u001b[0m\u001b[0;34m/\u001b[0m\u001b[0;36m1000\u001b[0m\u001b[0;34m)\u001b[0m\u001b[0;34m*\u001b[0m\u001b[0;36m100\u001b[0m\u001b[0;34m)\u001b[0m\u001b[0;34m\u001b[0m\u001b[0;34m\u001b[0m\u001b[0m\n",
      "\u001b[0;32m~/Downloads/GAME/base/Splendor_v3/env.py\u001b[0m in \u001b[0;36mnumba_main_2\u001b[0;34m(p0, n_game, per_player, level)\u001b[0m\n\u001b[1;32m    663\u001b[0m \u001b[0;34m\u001b[0m\u001b[0m\n\u001b[1;32m    664\u001b[0m \u001b[0;32mdef\u001b[0m \u001b[0mnumba_main_2\u001b[0m\u001b[0;34m(\u001b[0m\u001b[0mp0\u001b[0m\u001b[0;34m,\u001b[0m \u001b[0mn_game\u001b[0m\u001b[0;34m,\u001b[0m \u001b[0mper_player\u001b[0m\u001b[0;34m,\u001b[0m \u001b[0mlevel\u001b[0m\u001b[0;34m)\u001b[0m\u001b[0;34m:\u001b[0m\u001b[0;34m\u001b[0m\u001b[0;34m\u001b[0m\u001b[0m\n\u001b[0;32m--> 665\u001b[0;31m     \u001b[0;32mreturn\u001b[0m \u001b[0mn_game_numba\u001b[0m\u001b[0;34m(\u001b[0m\u001b[0mp0\u001b[0m\u001b[0;34m,\u001b[0m \u001b[0mn_game\u001b[0m\u001b[0;34m,\u001b[0m \u001b[0mper_player\u001b[0m\u001b[0;34m,\u001b[0m \u001b[0mlevel\u001b[0m\u001b[0;34m)\u001b[0m\u001b[0;34m\u001b[0m\u001b[0;34m\u001b[0m\u001b[0m\n\u001b[0m\u001b[1;32m    666\u001b[0m \u001b[0;34m\u001b[0m\u001b[0m\n\u001b[1;32m    667\u001b[0m \u001b[0;34m\u001b[0m\u001b[0m\n",
      "\u001b[0;32m~/opt/anaconda3/lib/python3.9/site-packages/numba/core/dispatcher.py\u001b[0m in \u001b[0;36m_compile_for_args\u001b[0;34m(self, *args, **kws)\u001b[0m\n\u001b[1;32m    480\u001b[0m                 \u001b[0me\u001b[0m\u001b[0;34m.\u001b[0m\u001b[0mpatch_message\u001b[0m\u001b[0;34m(\u001b[0m\u001b[0mmsg\u001b[0m\u001b[0;34m)\u001b[0m\u001b[0;34m\u001b[0m\u001b[0;34m\u001b[0m\u001b[0m\n\u001b[1;32m    481\u001b[0m \u001b[0;34m\u001b[0m\u001b[0m\n\u001b[0;32m--> 482\u001b[0;31m             \u001b[0merror_rewrite\u001b[0m\u001b[0;34m(\u001b[0m\u001b[0me\u001b[0m\u001b[0;34m,\u001b[0m \u001b[0;34m'typing'\u001b[0m\u001b[0;34m)\u001b[0m\u001b[0;34m\u001b[0m\u001b[0;34m\u001b[0m\u001b[0m\n\u001b[0m\u001b[1;32m    483\u001b[0m         \u001b[0;32mexcept\u001b[0m \u001b[0merrors\u001b[0m\u001b[0;34m.\u001b[0m\u001b[0mUnsupportedError\u001b[0m \u001b[0;32mas\u001b[0m \u001b[0me\u001b[0m\u001b[0;34m:\u001b[0m\u001b[0;34m\u001b[0m\u001b[0;34m\u001b[0m\u001b[0m\n\u001b[1;32m    484\u001b[0m             \u001b[0;31m# Something unsupported is present in the user code, add help info\u001b[0m\u001b[0;34m\u001b[0m\u001b[0;34m\u001b[0m\u001b[0m\n",
      "\u001b[0;32m~/opt/anaconda3/lib/python3.9/site-packages/numba/core/dispatcher.py\u001b[0m in \u001b[0;36merror_rewrite\u001b[0;34m(e, issue_type)\u001b[0m\n\u001b[1;32m    421\u001b[0m                 \u001b[0;32mraise\u001b[0m \u001b[0me\u001b[0m\u001b[0;34m\u001b[0m\u001b[0;34m\u001b[0m\u001b[0m\n\u001b[1;32m    422\u001b[0m             \u001b[0;32melse\u001b[0m\u001b[0;34m:\u001b[0m\u001b[0;34m\u001b[0m\u001b[0;34m\u001b[0m\u001b[0m\n\u001b[0;32m--> 423\u001b[0;31m                 \u001b[0;32mraise\u001b[0m \u001b[0me\u001b[0m\u001b[0;34m.\u001b[0m\u001b[0mwith_traceback\u001b[0m\u001b[0;34m(\u001b[0m\u001b[0;32mNone\u001b[0m\u001b[0;34m)\u001b[0m\u001b[0;34m\u001b[0m\u001b[0;34m\u001b[0m\u001b[0m\n\u001b[0m\u001b[1;32m    424\u001b[0m \u001b[0;34m\u001b[0m\u001b[0m\n\u001b[1;32m    425\u001b[0m         \u001b[0margtypes\u001b[0m \u001b[0;34m=\u001b[0m \u001b[0;34m[\u001b[0m\u001b[0;34m]\u001b[0m\u001b[0;34m\u001b[0m\u001b[0;34m\u001b[0m\u001b[0m\n",
      "\u001b[0;31mTypingError\u001b[0m: Failed in nopython mode pipeline (step: nopython frontend)\n\u001b[1m\u001b[1m\u001b[1m\u001b[1mFailed in nopython mode pipeline (step: nopython frontend)\n\u001b[1m\u001b[1m\u001b[1m\u001b[1m\u001b[1m\u001b[1m\u001b[1m\u001b[1m\u001b[1m\u001b[1mFailed in nopython mode pipeline (step: nopython frontend)\n\u001b[1m\u001b[1mNo implementation of function Function(<built-in function matmul>) found for signature:\n \n >>> matmul(float64, array(float64, 1d, C))\n \nThere are 2 candidate implementations:\n\u001b[1m   - Of which 2 did not match due to:\n   Overload of function 'matmul': File: numba/core/typing/npydecl.py: Line 1022.\n     With argument(s): '(float64, array(float64, 1d, C))':\u001b[0m\n\u001b[1m    No match.\u001b[0m\n\u001b[0m\n\u001b[0m\u001b[1mDuring: typing of intrinsic-call at /var/folders/ds/4lcv95w11y7brm6dqhc04s240000gn/T/ipykernel_25056/3292066271.py (4)\u001b[0m\n\u001b[1m\nFile \"../../../../var/folders/ds/4lcv95w11y7brm6dqhc04s240000gn/T/ipykernel_25056/3292066271.py\", line 4:\u001b[0m\n\u001b[1m<source missing, REPL/exec in use?>\u001b[0m\n\n\u001b[0m\u001b[1mDuring: resolving callee type: type(CPUDispatcher(<function p_all_action at 0x7f8e6a4ca9d0>))\u001b[0m\n\u001b[0m\u001b[1mDuring: typing of call at /Users/trancatkhanh/Downloads/GAME/base/Splendor_v3/env.py (621)\n\u001b[0m\n\u001b[0m\u001b[1mDuring: resolving callee type: type(CPUDispatcher(<function p_all_action at 0x7f8e6a4ca9d0>))\u001b[0m\n\u001b[0m\u001b[1mDuring: typing of call at /Users/trancatkhanh/Downloads/GAME/base/Splendor_v3/env.py (641)\n\u001b[0m\n\u001b[0m\u001b[1mDuring: resolving callee type: type(CPUDispatcher(<function p_all_action at 0x7f8e6a4ca9d0>))\u001b[0m\n\u001b[0m\u001b[1mDuring: typing of call at /Users/trancatkhanh/Downloads/GAME/base/Splendor_v3/env.py (621)\n\u001b[0m\n\u001b[0m\u001b[1mDuring: resolving callee type: type(CPUDispatcher(<function p_all_action at 0x7f8e6a4ca9d0>))\u001b[0m\n\u001b[0m\u001b[1mDuring: typing of call at /Users/trancatkhanh/Downloads/GAME/base/Splendor_v3/env.py (641)\n\u001b[0m\n\u001b[0m\u001b[1mDuring: resolving callee type: type(CPUDispatcher(<function p_all_action at 0x7f8e6a4ca9d0>))\u001b[0m\n\u001b[0m\u001b[1mDuring: typing of call at /Users/trancatkhanh/Downloads/GAME/base/Splendor_v3/env.py (621)\n\u001b[0m\n\u001b[1m\nFile \"base/Splendor_v3/env.py\", line 621:\u001b[0m\n\u001b[1mdef one_game_numba(p0, list_other, per_player):\n    <source elided>\n        if list_other[idx] == -1:\n\u001b[1m            action, per_player = p0(player_state,per_player)\n\u001b[0m            \u001b[1m^\u001b[0m\u001b[0m\n\n\u001b[0m\u001b[1mDuring: resolving callee type: type(CPUDispatcher(<function one_game_numba at 0x7f8e695b89d0>))\u001b[0m\n\u001b[0m\u001b[1mDuring: typing of call at /Users/trancatkhanh/Downloads/GAME/base/Splendor_v3/env.py (658)\n\u001b[0m\n\u001b[0m\u001b[1mDuring: resolving callee type: type(CPUDispatcher(<function one_game_numba at 0x7f8e695b89d0>))\u001b[0m\n\u001b[0m\u001b[1mDuring: typing of call at /Users/trancatkhanh/Downloads/GAME/base/Splendor_v3/env.py (658)\n\u001b[0m\n\u001b[1m\nFile \"base/Splendor_v3/env.py\", line 658:\u001b[0m\n\u001b[1mdef n_game_numba(p0, num_game, per_player, level):\n    <source elided>\n        np.random.shuffle(list_other)\n\u001b[1m        winner,per_player  = one_game_numba(p0, list_other, per_player)\n\u001b[0m        \u001b[1m^\u001b[0m\u001b[0m\n"
     ]
    }
   ],
   "source": [
    "@njit\n",
    "def p_all_action(state,per):\n",
    "    actions = getValidActions(state)\n",
    "    matran1 = per[0][1]@state   \n",
    "    matran2 = per[0][0]@state     \n",
    "    for i in range(len(matran1)):\n",
    "        matran1[i] = int(matran1[i] >= 0)\n",
    "    for i in range(len(matran2)):\n",
    "        matran2[i] = int(matran2[i] >= 0)\n",
    "\n",
    "    if matran1 == 1 and matran2 == 0:\n",
    "        action = 1\n",
    "    elif matran2 == 1 and matran1 == 0 :\n",
    "        action = 0\n",
    "    elif matran2 == matran1 and matran1 == 1:\n",
    "        if per[0][0]+1 > per[0][1]+1:\n",
    "            action = 0\n",
    "        else:\n",
    "            action = 1\n",
    "    else:\n",
    "        actions = np.where(actions == 1)[0]\n",
    "        action = actions[np.random.randint(len(actions))]\n",
    "        while action== 1 or action == 0:\n",
    "            action = actions[np.random.randint(len(actions))]\n",
    "    return action,per\n",
    "win, x = numba_main_2(p_all_action, 1000,perx1,0)\n",
    "print('tỷ lệ thắng',(win/1000)*100)"
   ]
  }
 ],
 "metadata": {
  "kernelspec": {
   "display_name": "Python 3.9.7 ('base')",
   "language": "python",
   "name": "python3"
  },
  "language_info": {
   "codemirror_mode": {
    "name": "ipython",
    "version": 3
   },
   "file_extension": ".py",
   "mimetype": "text/x-python",
   "name": "python",
   "nbconvert_exporter": "python",
   "pygments_lexer": "ipython3",
   "version": "3.9.7"
  },
  "orig_nbformat": 4,
  "vscode": {
   "interpreter": {
    "hash": "ff2136a0fe6bc790f1b40d257e6b1bba23119827483ea2b7c12c8cc23c661a47"
   }
  }
 },
 "nbformat": 4,
 "nbformat_minor": 2
}
