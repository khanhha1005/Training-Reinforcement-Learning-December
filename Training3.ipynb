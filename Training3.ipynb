{
 "cells": [
  {
   "cell_type": "markdown",
   "metadata": {},
   "source": [
    "# Lấy bias của từng action"
   ]
  },
  {
   "cell_type": "code",
   "execution_count": 109,
   "metadata": {},
   "outputs": [
    {
     "name": "stdout",
     "output_type": "stream",
     "text": [
      "/Users/trancatkhanh/Downloads/GAME\n"
     ]
    }
   ],
   "source": [
    "%cd /Users/trancatkhanh/Downloads/GAME"
   ]
  },
  {
   "cell_type": "code",
   "execution_count": 111,
   "metadata": {},
   "outputs": [
    {
     "name": "stdout",
     "output_type": "stream",
     "text": [
      "[0.93416695 0.95055215 1.         0.99461681 0.9098014  0.90772496\n",
      " 0.92009333 0.88449282 0.90616824 0.9128886  0.89605652 0.87289172\n",
      " 0.93425995 0.91965533 0.87920116]\n"
     ]
    }
   ],
   "source": [
    "from base.Splendor_v3.env import *\n",
    "import numpy as np\n",
    "bias1 = [np.random.rand(getActionSize()),np.zeros(getActionSize())]\n",
    "@njit()\n",
    "def p_bias(state,per):\n",
    "    actions = getValidActions(state)\n",
    "    actions *= per[0]\n",
    "    action = np.argmax(actions)\n",
    "    if getReward(state) == 1:\n",
    "        per[1] += per[0]\n",
    "    if getReward(state) == 0:\n",
    "        per[0] = np.random.rand(getActionSize())\n",
    "    return action,per\n",
    "\n",
    "win, bias = numba_main_2(p_bias, 10000,bias1,0)\n",
    "# Bias tối ưu \n",
    "bias_greedy = (bias[1]/np.max(bias[1]))\n",
    "print(bias_greedy)\n"
   ]
  },
  {
   "cell_type": "code",
   "execution_count": 117,
   "metadata": {},
   "outputs": [
    {
     "name": "stdout",
     "output_type": "stream",
     "text": [
      "518\n"
     ]
    }
   ],
   "source": [
    "# Check tỷ lệ thắng của bias tối ưu \n",
    "@njit()\n",
    "def p_bias_optim(state,per):\n",
    "    actions = getValidActions(state)\n",
    "    actions *= bias_greedy\n",
    "    action = np.argmax(actions)\n",
    "    return action,per\n",
    "win, bias = numba_main_2(p_bias_optim, 1000,bias1,0)\n",
    "print(win)"
   ]
  },
  {
   "cell_type": "markdown",
   "metadata": {},
   "source": [
    "# Bài tập 1 : Tìm ra feature hoặc bộ feature cho từng action để tỉ lệ +value khi active = 1 \n"
   ]
  },
  {
   "cell_type": "code",
   "execution_count": 173,
   "metadata": {},
   "outputs": [
    {
     "name": "stdout",
     "output_type": "stream",
     "text": [
      "[1.]\n",
      "[4933.]\n"
     ]
    }
   ],
   "source": [
    "def get_feature(i):\n",
    "  #State old là state Hiện tại \n",
    "  #State new là state Mới \n",
    "  rate = 0 \n",
    "  while rate !=1 :\n",
    "    old = np.load('old'+f'{i}'+'.npy')\n",
    "    new = np.load('new'+f'{i}'+'.npy')\n",
    "    # state mà có cả Value của old and new (1,0)\n",
    "    o = (new>old)\n",
    "    o= 1*o\n",
    "    i = np.zeros((old.shape[0],1))\n",
    "    for u in range(old.shape[0]) :\n",
    "        if sum(o[u])>0 :\n",
    "            # print(o[u])\n",
    "            i[u] = 1\n",
    "    #  a matrix with random value\n",
    "    l = np.random.uniform(-1,1,(161,1))\n",
    "    #state mà kích hoạt (1,0)\n",
    "    k = 1*((new@l)>=0)\n",
    "    # state mà kích hoạt và có reward (1,0)\n",
    "    y = np.zeros((old.shape[0],1))\n",
    "    for p in range(old.shape[0]):\n",
    "        if sum(k[p]) >= 1 and sum(i[p])>= 1:\n",
    "            y[p] = 1\n",
    "        else:\n",
    "            y[p] = 0\n",
    "    rate = (sum(y)/sum(k))\n",
    "  return l,rate,sum(y)\n",
    "matrix , rate , sum = (get_feature(0))\n",
    "matrix =  matrix.reshape(1,161)\n",
    "print(rate)\n",
    "print(sum)"
   ]
  },
  {
   "cell_type": "markdown",
   "metadata": {},
   "source": [
    "# Bài tập 2 : Khi dùng bộ feature đó cho từng action, tỉ lệ thắng >35% \n"
   ]
  },
  {
   "cell_type": "code",
   "execution_count": 175,
   "metadata": {},
   "outputs": [
    {
     "name": "stdout",
     "output_type": "stream",
     "text": [
      "tỷ lệ thắng 26.6\n"
     ]
    }
   ],
   "source": [
    "perx=[0]\n",
    "@njit\n",
    "def p0(state,per):\n",
    "    actions = getValidActions(state)\n",
    "    matran1 = matrix@state    \n",
    "    for i in range(len(matran1)):\n",
    "        matran1[i] = int(matran1[i] >= 0)\n",
    "    if matran1 == 1 :\n",
    "        action = 0 \n",
    "    else:\n",
    "        actions = np.where(actions == 1)[0]\n",
    "        action = actions[np.random.randint(len(actions))]\n",
    "        while action== 0:\n",
    "            action = actions[np.random.randint(len(actions))]\n",
    "    return action,per\n",
    "win, x = numba_main_2(p0, 1000,perx,0)\n",
    "print('tỷ lệ thắng',(win/1000)*100)"
   ]
  },
  {
   "cell_type": "code",
   "execution_count": null,
   "metadata": {},
   "outputs": [],
   "source": [
    "#State old là state Hiện tại \n",
    "#State new là state Mới \n",
    "old = np.load('old0.npy')\n",
    "new = np.load('new0.npy')\n",
    "# state mà có cả Value của old and new (1,0)\n",
    "o = (new>old)\n",
    "o= 1*o\n",
    "i = np.zeros((245142,1))\n",
    "for u in range(245142) :\n",
    "    if sum(o[u])>0 :\n",
    "        # print(o[u])\n",
    "        i[u] = 1\n",
    "#  a matrix with random value\n",
    "l = np.random.uniform(-1,1,(161,1))\n",
    "#state mà kích hoạt (1,0)\n",
    "k = 1*((new@l)>=0)\n",
    "# state mà kích hoạt và có reward (1,0)\n",
    "y = np.zeros((245142,1))\n",
    "for p in range(245142):\n",
    "    if sum(k[p]) >= 1 and sum(i[p])>= 1:\n",
    "        y[p] = 1\n",
    "    else:\n",
    "        y[p] = 0\n",
    "        \n",
    "print(sum(y)/sum(k))\n",
    "# print(old.shape)\n",
    "print(sum(y))\n",
    "l = l.reshape(1,161)"
   ]
  },
  {
   "cell_type": "markdown",
   "metadata": {},
   "source": [
    "#  feature cho các action 1\n"
   ]
  },
  {
   "cell_type": "code",
   "execution_count": 118,
   "metadata": {},
   "outputs": [
    {
     "name": "stdout",
     "output_type": "stream",
     "text": [
      "[0.9491954]\n",
      "[171176.]\n"
     ]
    }
   ],
   "source": [
    "old1 = np.load('old1.npy')\n",
    "new1 = np.load('new1.npy')\n",
    "# state mà có cả Value của old and new (1,0)\n",
    "o1 = (new1>old1)\n",
    "o1= 1*o1\n",
    "i1 = np.zeros((245378,1))\n",
    "for u1 in range(245378) :\n",
    "    if sum(o1[u1])>0 :\n",
    "        i1[u1] = 1\n",
    "\n",
    "        \n",
    "#  a matrix with random value\n",
    "l1 = np.random.uniform(-1,1,(161,1))\n",
    "\n",
    "#state mà kích hoạt (1,0)\n",
    "k1 = 1*((new1@l1)>=0)\n",
    "# state mà kích hoạt và có reward (1,0)\n",
    "y1 = np.zeros((245378,1))\n",
    "for p1 in range(245378):\n",
    "    if sum(k1[p1]) >= 1 and sum(i1[p1])>= 1:\n",
    "        y1[p1] = 1\n",
    "    else:\n",
    "        y1[p1] = 0\n",
    "print(sum(y1)/sum(k1))\n",
    "# print(old.shape)\n",
    "print(sum(y1))\n",
    "l1 = l1.reshape(1,161)"
   ]
  },
  {
   "cell_type": "code",
   "execution_count": 169,
   "metadata": {},
   "outputs": [
    {
     "name": "stdout",
     "output_type": "stream",
     "text": [
      "tỷ lệ thắng 37.62\n"
     ]
    }
   ],
   "source": [
    "@njit\n",
    "def p_action1(state,per):\n",
    "    actions = getValidActions(state)\n",
    "    matran1 = l1@state    \n",
    "    for i in range(len(matran1)):\n",
    "        matran1[i] = int(matran1[i] >= 0)\n",
    "    if matran1 == 1 :\n",
    "        action = 1\n",
    "    else:\n",
    "        actions = np.where(actions == 1)[0]\n",
    "        action = actions[np.random.randint(len(actions))]\n",
    "        while action== 1:\n",
    "            action = actions[np.random.randint(len(actions))]\n",
    "    return action,per\n",
    "win, x = numba_main_2(p_action1, 10000,perx,0)\n",
    "print('tỷ lệ thắng',(win/10000)*100)"
   ]
  },
  {
   "cell_type": "markdown",
   "metadata": {},
   "source": [
    "# Lấy bias của từng action"
   ]
  },
  {
   "cell_type": "code",
   "execution_count": null,
   "metadata": {},
   "outputs": [
    {
     "name": "stdout",
     "output_type": "stream",
     "text": [
      "/Users/trancatkhanh/Downloads/GAME\n"
     ]
    }
   ],
   "source": [
    "%cd /Users/trancatkhanh/Downloads/GAME"
   ]
  },
  {
   "cell_type": "code",
   "execution_count": null,
   "metadata": {},
   "outputs": [
    {
     "name": "stdout",
     "output_type": "stream",
     "text": [
      "[0.93416695 0.95055215 1.         0.99461681 0.9098014  0.90772496\n",
      " 0.92009333 0.88449282 0.90616824 0.9128886  0.89605652 0.87289172\n",
      " 0.93425995 0.91965533 0.87920116]\n"
     ]
    }
   ],
   "source": [
    "from base.Splendor_v3.env import *\n",
    "import numpy as np\n",
    "bias1 = [np.random.rand(getActionSize()),np.zeros(getActionSize())]\n",
    "@njit()\n",
    "def p_bias(state,per):\n",
    "    actions = getValidActions(state)\n",
    "    actions *= per[0]\n",
    "    action = np.argmax(actions)\n",
    "    if getReward(state) == 1:\n",
    "        per[1] += per[0]\n",
    "    if getReward(state) == 0:\n",
    "        per[0] = np.random.rand(getActionSize())\n",
    "    return action,per\n",
    "\n",
    "win, bias = numba_main_2(p_bias, 10000,bias1,0)\n",
    "# Bias tối ưu \n",
    "bias_greedy = (bias[1]/np.max(bias[1]))\n",
    "print(bias_greedy)\n"
   ]
  },
  {
   "cell_type": "code",
   "execution_count": null,
   "metadata": {},
   "outputs": [
    {
     "name": "stdout",
     "output_type": "stream",
     "text": [
      "518\n"
     ]
    }
   ],
   "source": [
    "# Check tỷ lệ thắng của bias tối ưu \n",
    "@njit()\n",
    "def p_bias_optim(state,per):\n",
    "    actions = getValidActions(state)\n",
    "    actions *= bias_greedy\n",
    "    action = np.argmax(actions)\n",
    "    return action,per\n",
    "win, bias = numba_main_2(p_bias_optim, 1000,bias1,0)\n",
    "print(win)"
   ]
  },
  {
   "cell_type": "markdown",
   "metadata": {},
   "source": [
    "# Ghép các action với nhau "
   ]
  },
  {
   "cell_type": "code",
   "execution_count": 120,
   "metadata": {},
   "outputs": [],
   "source": [
    "perx1 = [bias_greedy]"
   ]
  },
  {
   "cell_type": "code",
   "execution_count": 122,
   "metadata": {},
   "outputs": [
    {
     "name": "stdout",
     "output_type": "stream",
     "text": [
      "tỷ lệ thắng 41.199999999999996\n"
     ]
    }
   ],
   "source": [
    "@njit\n",
    "def p_all_action(state,per):\n",
    "    actions = getValidActions(state)\n",
    "    matran1 = l1@state   \n",
    "    matran2 = l@state     \n",
    "    for i in range(len(matran1)):\n",
    "        matran1[i] = int(matran1[i] >= 0)\n",
    "    for i in range(len(matran2)):\n",
    "        matran2[i] = int(matran2[i] >= 0)\n",
    "\n",
    "    if matran1 == 1 and matran2 == 0:\n",
    "        action = 1\n",
    "    elif matran2 == 1 and matran1 == 0 :\n",
    "        action = 0\n",
    "    elif matran2 == matran1 and matran1 == 1:\n",
    "        if per[0][0]+1 > per[0][1]+1:\n",
    "            action = 0\n",
    "        else:\n",
    "            action = 1\n",
    "    else:\n",
    "        actions = np.where(actions == 1)[0]\n",
    "        action = actions[np.random.randint(len(actions))]\n",
    "        while action== 1 or action == 0:\n",
    "            action = actions[np.random.randint(len(actions))]\n",
    "    return action,per\n",
    "win, x = numba_main_2(p_all_action, 1000,perx1,0)\n",
    "print('tỷ lệ thắng',(win/1000)*100)"
   ]
  },
  {
   "cell_type": "markdown",
   "metadata": {},
   "source": [
    "# Homework 1:\n",
    "\n",
    "*  **1.For each action , save at least 200k state both old and new state** \n",
    "*  **2.Label the state  which change 0 and 1** \n",
    "*  **3.Predict what state will get reward** \n",
    "\n",
    "\n"
   ]
  },
  {
   "cell_type": "markdown",
   "metadata": {},
   "source": [
    "**1.For each action , save at least 200k state both old and new state** "
   ]
  },
  {
   "cell_type": "code",
   "execution_count": null,
   "metadata": {},
   "outputs": [],
   "source": [
    "import numpy as np\n",
    "from base.Splendor_v3.env import *\n",
    "for k in range(2,16):\n",
    "  @njit()\n",
    "  def p0(state,per):\n",
    "    # Choose an action\n",
    "    actions = getValidActions(state)\n",
    "    actions = np.where(actions == 1)[0]\n",
    "    action = actions[np.random.randint(len(actions))]\n",
    "    # Lưu new state\n",
    "    if  per[3][0][0] == 1: \n",
    "      if int(per[4][0][0])<=10:\n",
    "        j = int(per[4][0][0])\n",
    "        for i in range(getStateSize()):\n",
    "          per[2][j][i] += state[i]\n",
    "        print('lưu state sau khi action '+f'{k}',per[2][j])\n",
    "        # trigger action 2\n",
    "        per[3][0][0] = 0\n",
    "        per[4][0][0] += 1\n",
    "        print(\"action sau khi action \"+f'{k}',action)\n",
    "\n",
    "    #Lưu old state \n",
    "    if action == k :\n",
    "      if int(per[1][0][0])<=10:\n",
    "        # save state\n",
    "        j = int(per[1][0][0])\n",
    "        for i in range(getStateSize()):\n",
    "          per[0][j][i] += state[i]\n",
    "        print('lưu state trước khi action '+f'{k}',per[0][j])\n",
    "        # count number of state\n",
    "        per[1][0][0] += 1\n",
    "        per[3][0][0] = 1\n",
    "        print(\"action \",action)\n",
    "      \n",
    "    return action,per\n",
    "\n",
    "          #0                                  #1                #2                              #3            #4\n",
    "  perx = [np.zeros((200000,getStateSize())),np.zeros((1,1)),np.zeros((200000,getStateSize())),np.zeros((1,1)),np.zeros((1,1))]\n",
    "            #state old                      #số trận của old       #state new                  # trigger      # số trận của new\n",
    "  win, x = numba_main_2(p0, 10,perx , 0)\n",
    "  np.save('old'+f'{k}'+'.npy',x[0])\n",
    "  np.save('new'+f'{k}'+'.npy',x[2])"
   ]
  },
  {
   "cell_type": "markdown",
   "metadata": {},
   "source": [
    "*  **2.Label the state  which change 0 and 1** \n",
    "*  **3.Predict what value in state will change** "
   ]
  },
  {
   "cell_type": "markdown",
   "metadata": {},
   "source": [
    "**Logistic regression**"
   ]
  },
  {
   "cell_type": "code",
   "execution_count": 46,
   "metadata": {},
   "outputs": [
    {
     "data": {
      "text/plain": [
       "0.9730130655559993"
      ]
     },
     "execution_count": 46,
     "metadata": {},
     "output_type": "execute_result"
    }
   ],
   "source": [
    "from sklearn.datasets import load_iris\n",
    "from sklearn.linear_model import LogisticRegression\n",
    "from sklearn.model_selection import train_test_split\n",
    "train_img, test_img, train_lbl, test_lbl = train_test_split(old1, i1, test_size=1/7.0, random_state=0)\n",
    "\n",
    "clf1 = LogisticRegression(random_state=0).fit(train_img, train_lbl)\n",
    "clf1.score(test_img, test_lbl)\n"
   ]
  },
  {
   "cell_type": "code",
   "execution_count": 92,
   "metadata": {},
   "outputs": [],
   "source": [
    "old1 = np.load('old1.npy')\n",
    "new1 = np.load('new1.npy')\n",
    "# state mà có cả Value của old and new (1,0)\n",
    "o1 = (new1>old1)\n",
    "o1= 1*o1\n",
    "i1 = np.zeros((245378,1))\n",
    "for u1 in range(245378) :\n",
    "    if sum(o1[u1])>0 :\n",
    "        i1[u1] = 1"
   ]
  },
  {
   "cell_type": "code",
   "execution_count": 97,
   "metadata": {},
   "outputs": [
    {
     "name": "stdout",
     "output_type": "stream",
     "text": [
      "[    30     32     52 ... 245287 245348 245366]\n",
      "[ 2.  1.  0.  0.  0.  3.  1.  3.  2.  3.  0.  0.  2.  1.  3.  4.  3.  6.\n",
      "  2.  2.  0.  5.  3.  0.  0.  3.  3.  0.  0.  0.  6.  0.  2.  3.  0.  0.\n",
      "  0.  0.  5.  2.  0.  0.  4.  2.  0.  1.  3.  3.  3.  3.  5.  0.  3.  5.\n",
      "  3.  7.  0.  0.  3.  0.  3.  1.  3.  0.  3.  5.  3.  4.  3.  6.  0.  3.\n",
      "  3.  0.  0.  0.  0.  0.  0.  0.  0.  0.  0.  0.  0.  0.  0.  0.  0.  0.\n",
      "  0.  0.  0.  0.  0.  0.  0.  0.  0.  0.  0.  0.  3.  3.  3.  0.  0.  4.\n",
      "  0.  4.  0.  0.  0.  0.  0.  0.  0.  0.  0.  0.  0.  0.  0.  0.  0.  0.\n",
      "  0.  2.  1.  0.  3.  0.  0.  5.  2.  0.  0.  0.  0.  5.  3.  5.  0.  3.\n",
      "  0.  7.  0.  0.  0.  0.  0.  0.  0.  8. 19.  5.  0.  1.  1.  8.  0.]\n",
      "[ 0.  0.  0.  0.  1.  4.  1.  1.  2.  1.  2.  1.  1.  1.  3.  0.  0.  2.\n",
      "  0.  1.  2.  0.  2.  0.  1.  0.  3.  0.  0.  3.  0.  0.  0.  0.  0.  0.\n",
      "  1.  2.  2.  0.  3.  1.  2.  0.  0.  2.  2.  3.  3.  0.  5.  0.  0.  2.\n",
      "  0.  0.  0.  0.  5.  0.  2.  4.  4.  0.  1.  2.  0.  1.  1.  3.  2.  2.\n",
      "  0.  0.  5.  1.  0.  3.  0.  0.  7.  3.  0.  0.  5.  3.  3.  3.  5.  0.\n",
      "  3.  0.  7.  0.  0.  3.  1.  3.  0.  3.  5.  3.  0.  4.  4.  0.  0.  3.\n",
      "  3.  3.  0.  0.  0.  3.  0.  3.  3.  4.  0.  4.  0.  0.  0.  4.  0.  0.\n",
      "  4.  3.  4.  0.  0.  0.  0.  6.  1.  3.  0.  0.  3.  2.  3.  3.  4.  5.\n",
      "  3.  3.  3.  0.  0.  0.  0.  0.  0.  0.  1.  3.  1.  1.  1. 12.  0.]\n"
     ]
    }
   ],
   "source": [
    "print(np.where(i1==0)[0])\n",
    "print(old1[30])\n",
    "print(new[30])\n"
   ]
  },
  {
   "cell_type": "code",
   "execution_count": 106,
   "metadata": {},
   "outputs": [
    {
     "name": "stdout",
     "output_type": "stream",
     "text": [
      "[0.]\n"
     ]
    }
   ],
   "source": [
    "print(clf1.predict(old1[52].reshape(1,161)))"
   ]
  },
  {
   "cell_type": "markdown",
   "metadata": {},
   "source": [
    "# Homework 2:\n",
    "**Tìm bộ feature cho từng action sao cho**\n",
    "* **(tỷ lệ state vừa kích hoạt vừa có value /tỷ lệ state vừa kích hoạt) luôn bằng 1**\n",
    "* **check xem từng action tỷ lệ thắng có trên 30%**"
   ]
  },
  {
   "cell_type": "code",
   "execution_count": null,
   "metadata": {},
   "outputs": [],
   "source": []
  },
  {
   "cell_type": "markdown",
   "metadata": {},
   "source": [
    "# Homework 3:\n",
    "**1 agent tổng quán sử dụng bộ feature và bias có tỷ lệ thắng trên 60%**"
   ]
  },
  {
   "cell_type": "code",
   "execution_count": null,
   "metadata": {},
   "outputs": [],
   "source": [
    "@njit\n",
    "def p_all_action(state,per):\n",
    "    actions = getValidActions(state)\n",
    "    matran1 = l1@state   \n",
    "    matran2 = l@state     \n",
    "    for i in range(len(matran1)):\n",
    "        matran1[i] = int(matran1[i] >= 0)\n",
    "    for i in range(len(matran2)):\n",
    "        matran2[i] = int(matran2[i] >= 0)\n",
    "\n",
    "    if matran1 == 1 and matran2 == 0:\n",
    "        action = 1\n",
    "    elif matran2 == 1 and matran1 == 0 :\n",
    "        action = 0\n",
    "    elif matran2 == matran1 and matran1 == 1:\n",
    "        if per[0][0]+1 > per[0][1]+1:\n",
    "            action = 0\n",
    "        else:\n",
    "            action = 1\n",
    "    else:\n",
    "        actions = np.where(actions == 1)[0]\n",
    "        action = actions[np.random.randint(len(actions))]\n",
    "        while action== 1 or action == 0:\n",
    "            action = actions[np.random.randint(len(actions))]\n",
    "    return action,per\n",
    "win, x = numba_main_2(p_all_action, 1000,perx1,0)\n",
    "print('tỷ lệ thắng',(win/1000)*100)"
   ]
  },
  {
   "cell_type": "code",
   "execution_count": 154,
   "metadata": {},
   "outputs": [],
   "source": [
    "# import numpy as np\n",
    "# from numba import njit \n",
    "# #Khởi tạo weight \n",
    "# perx = [np.zeros((getActionSize()*5,getStateSize())),np.zeros((getActionSize(),getActionSize()*5))]\n",
    "# for i in range(0,getActionSize()):\n",
    "#     for j in range(5):\n",
    "#         perx[0][i*5+j][6+j] = 1\n",
    "#         perx[0][i*5+j][11] = 0 \n",
    "#         perx[0][i*5+j][12+j] = 1\n",
    "#         perx[0][i*5+j][20+i*7+j] = -1\n",
    "# for i in range(0,getActionSize()):\n",
    "#     for j in range(5):\n",
    "#         perx[1][i][i*5+j] = 1\n",
    "\n",
    "from base.Splendor_v3.env import *\n",
    "@njit\n",
    "def p0(state,per):\n",
    "    actions = getValidActions(state)\n",
    "    matran1 = per[0]@state\n",
    "    for i in range(len(matran1)):\n",
    "        matran1[i] = int(matran1[i] >= 0)\n",
    "    matran2 = per[1]@matran1\n",
    "    matran2 *= actions\n",
    "    if len(np.where(matran2 == matran2[np.argmax(matran2)])[0])>1:\n",
    "        matran2 += bias_greedy\n",
    "        # print(matran2)\n",
    "        action = np.argmax(matran2)\n",
    "    else:\n",
    "        action = np.argmax(matran2)\n",
    "    return action,per\n",
    "\n",
    "win, x = numba_main_2(p0, 10000,perx,0)"
   ]
  },
  {
   "cell_type": "code",
   "execution_count": 156,
   "metadata": {},
   "outputs": [
    {
     "name": "stdout",
     "output_type": "stream",
     "text": [
      "9379\n",
      "15\n"
     ]
    }
   ],
   "source": [
    "print(win)\n",
    "print(getActionSize())"
   ]
  }
 ],
 "metadata": {
  "kernelspec": {
   "display_name": "Python 3.9.7 ('base')",
   "language": "python",
   "name": "python3"
  },
  "language_info": {
   "codemirror_mode": {
    "name": "ipython",
    "version": 3
   },
   "file_extension": ".py",
   "mimetype": "text/x-python",
   "name": "python",
   "nbconvert_exporter": "python",
   "pygments_lexer": "ipython3",
   "version": "3.9.7"
  },
  "orig_nbformat": 4,
  "vscode": {
   "interpreter": {
    "hash": "ff2136a0fe6bc790f1b40d257e6b1bba23119827483ea2b7c12c8cc23c661a47"
   }
  }
 },
 "nbformat": 4,
 "nbformat_minor": 2
}
