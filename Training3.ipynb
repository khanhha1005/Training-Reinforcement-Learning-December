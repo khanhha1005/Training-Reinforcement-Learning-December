{
 "cells": [
  {
   "cell_type": "markdown",
   "metadata": {},
   "source": [
    "# Work 1 "
   ]
  },
  {
   "cell_type": "code",
   "execution_count": 6,
   "metadata": {},
   "outputs": [
    {
     "name": "stdout",
     "output_type": "stream",
     "text": [
      "/Users/trancatkhanh/Downloads/GAME\n"
     ]
    }
   ],
   "source": [
    "%cd /Users/trancatkhanh/Downloads/GAME"
   ]
  },
  {
   "cell_type": "code",
   "execution_count": 3,
   "metadata": {},
   "outputs": [
    {
     "name": "stdout",
     "output_type": "stream",
     "text": [
      "[array([0.95601184, 0.63128161, 0.21370226, 0.93855318, 0.25896422,\n",
      "       0.78917384, 0.34944675, 0.7950311 , 0.30753868, 0.5858444 ,\n",
      "       0.97048198, 0.34978868, 0.53048482, 0.30381641, 0.73454347]), array([0., 0., 0., 0., 0., 0., 0., 0., 0., 0., 0., 0., 0., 0., 0.])]\n"
     ]
    }
   ],
   "source": [
    "from base.Splendor_v3.env import *\n",
    "\n",
    "import numpy as np\n",
    "bias1 = [np.random.rand(getActionSize()),np.zeros(getActionSize())]\n",
    "\n",
    "print(bias1)"
   ]
  },
  {
   "cell_type": "code",
   "execution_count": 4,
   "metadata": {},
   "outputs": [
    {
     "name": "stdout",
     "output_type": "stream",
     "text": [
      "[1829.69409367 1922.22825074 1953.99464563 2022.34509348 1789.22846338\n",
      " 1782.02932609 1770.88381396 1830.42989835 1784.67195658 1767.03420773\n",
      " 1816.3629286  1838.01724178 1904.32226534 1818.85065626 1784.67235139]\n"
     ]
    }
   ],
   "source": [
    "@njit()\n",
    "def p_bias(state,per):\n",
    "    actions = getValidActions(state)\n",
    "    actions *= per[0]\n",
    "    action = np.argmax(actions)\n",
    "    if getReward(state) == 1:\n",
    "        per[1] += per[0]\n",
    "    if getReward(state) == 0:\n",
    "        per[0] = np.random.rand(getActionSize())\n",
    "    return action,per\n",
    "\n",
    "win, bias = numba_main_2(p_bias, 10000,bias1,0)\n",
    "# Bias tối ưu \n",
    "bias_greedy = (bias[1]/np.max(bias[1]))\n",
    "print(bias_greedy)\n"
   ]
  },
  {
   "cell_type": "code",
   "execution_count": 24,
   "metadata": {},
   "outputs": [
    {
     "name": "stdout",
     "output_type": "stream",
     "text": [
      "5624\n"
     ]
    }
   ],
   "source": [
    "# Check tỷ lệ thắng của bias tối ưu \n",
    "@njit()\n",
    "def p_bias_optim(state,per):\n",
    "    actions = getValidActions(state)\n",
    "    actions *= bias_greedy\n",
    "    action = np.argmax(actions)\n",
    "    return action,per\n",
    "win, bias = numba_main_2(p_bias_optim, 1000,bias1,0)\n",
    "print(win)"
   ]
  },
  {
   "cell_type": "markdown",
   "metadata": {},
   "source": [
    "#  feature cho các action 0 \n"
   ]
  },
  {
   "cell_type": "code",
   "execution_count": 14,
   "metadata": {},
   "outputs": [
    {
     "name": "stdout",
     "output_type": "stream",
     "text": [
      "[0.9996475]\n",
      "[201349.]\n"
     ]
    }
   ],
   "source": [
    "#State old là state Hiện tại \n",
    "#State new là state Mới \n",
    "old = np.load('old0.npy')\n",
    "new = np.load('new0.npy')\n",
    "# state mà có cả Value của old and new (1,0)\n",
    "new = np.load('new0.npy')\n",
    "o = (new>old)\n",
    "o= 1*o\n",
    "i = np.zeros((245142,1))\n",
    "for u in range(245142) :\n",
    "    if sum(o[u])>0 :\n",
    "        # print(o[u])\n",
    "        i[u] = 1\n",
    "#  a matrix with random value\n",
    "l = np.random.uniform(-1,1,(161,1))\n",
    "#state mà kích hoạt (1,0)\n",
    "k = 1*((new@l)>=0)\n",
    "# state mà kích hoạt và có reward (1,0)\n",
    "y = np.zeros((245142,1))\n",
    "for p in range(245142):\n",
    "    if sum(k[p]) >= 1 and sum(i[p])>= 1:\n",
    "        y[p] = 1\n",
    "    else:\n",
    "        y[p] = 0\n",
    "        \n",
    "print(sum(y)/sum(k))\n",
    "# print(old.shape)\n",
    "print(sum(y))\n",
    "l = l.reshape(1,161)"
   ]
  },
  {
   "cell_type": "code",
   "execution_count": 16,
   "metadata": {},
   "outputs": [
    {
     "name": "stdout",
     "output_type": "stream",
     "text": [
      "tỷ lệ thắng 37.4\n"
     ]
    }
   ],
   "source": [
    "perx=[0]\n",
    "@njit\n",
    "def p0(state,per):\n",
    "    actions = getValidActions(state)\n",
    "    matran1 = l@state    \n",
    "    for i in range(len(matran1)):\n",
    "        matran1[i] = int(matran1[i] >= 0)\n",
    "    if matran1 == 1 :\n",
    "        action = 0 \n",
    "    else:\n",
    "        actions = np.where(actions == 1)[0]\n",
    "        action = actions[np.random.randint(len(actions))]\n",
    "        while action== 0:\n",
    "            action = actions[np.random.randint(len(actions))]\n",
    "    return action,per\n",
    "win, x = numba_main_2(p0, 1000,perx,0)\n",
    "print('tỷ lệ thắng',(win/1000)*100)"
   ]
  },
  {
   "cell_type": "markdown",
   "metadata": {},
   "source": [
    "#  feature cho các action 1\n"
   ]
  },
  {
   "cell_type": "code",
   "execution_count": 17,
   "metadata": {},
   "outputs": [
    {
     "name": "stdout",
     "output_type": "stream",
     "text": [
      "[0.998856]\n",
      "[205184.]\n"
     ]
    }
   ],
   "source": [
    "old1 = np.load('old1.npy')\n",
    "new1 = np.load('new1.npy')\n",
    "# state mà có cả Value của old and new (1,0)\n",
    "o1 = (new1>old1)\n",
    "o1= 1*o1\n",
    "i1 = np.zeros((245142,1))\n",
    "for u1 in range(245142) :\n",
    "    if sum(o1[u1])>0 :\n",
    "        i1[u1] = 1\n",
    "#  a matrix with random value\n",
    "l1 = np.random.uniform(-1,1,(161,1))\n",
    "#state mà kích hoạt (1,0)\n",
    "k1 = 1*((new1@l1)>=0)\n",
    "# state mà kích hoạt và có reward (1,0)\n",
    "y1 = np.zeros((245142,1))\n",
    "for p1 in range(245142):\n",
    "    if sum(k1[p1]) >= 1 and sum(i1[p1])>= 1:\n",
    "        y1[p1] = 1\n",
    "    else:\n",
    "        y1[p1] = 0\n",
    "print(sum(y1)/sum(k1))\n",
    "# print(old.shape)\n",
    "print(sum(y1))\n",
    "l1 = l1.reshape(1,161)"
   ]
  },
  {
   "cell_type": "code",
   "execution_count": 22,
   "metadata": {},
   "outputs": [
    {
     "name": "stdout",
     "output_type": "stream",
     "text": [
      "tỷ lệ thắng 45.300000000000004\n"
     ]
    }
   ],
   "source": [
    "@njit\n",
    "def p_action1(state,per):\n",
    "    actions = getValidActions(state)\n",
    "    matran1 = l1@state    \n",
    "    for i in range(len(matran1)):\n",
    "        matran1[i] = int(matran1[i] >= 0)\n",
    "    if matran1 == 1 :\n",
    "        action = 1\n",
    "    else:\n",
    "        actions = np.where(actions == 1)[0]\n",
    "        action = actions[np.random.randint(len(actions))]\n",
    "        while action== 1:\n",
    "            action = actions[np.random.randint(len(actions))]\n",
    "    return action,per\n",
    "win, x = numba_main_2(p_action1, 1000,perx,0)\n",
    "print('tỷ lệ thắng',(win/1000)*100)"
   ]
  },
  {
   "cell_type": "markdown",
   "metadata": {},
   "source": [
    "# Ghép 2 action với nhau "
   ]
  },
  {
   "cell_type": "code",
   "execution_count": 28,
   "metadata": {},
   "outputs": [
    {
     "name": "stdout",
     "output_type": "stream",
     "text": [
      "0.9504946791405442\n"
     ]
    }
   ],
   "source": [
    "perx1 = [bias_greedy]"
   ]
  },
  {
   "cell_type": "code",
   "execution_count": null,
   "metadata": {},
   "outputs": [],
   "source": [
    "@njit\n",
    "def p_all_action(state,per):\n",
    "    actions = getValidActions(state)\n",
    "    matran1 = l1@state   \n",
    "    matran2 = l@state    \n",
    " \n",
    "    for i in range(len(matran1)):\n",
    "        matran1[i] = int(matran1[i] >= 0)\n",
    "    for i in range(len(matran2)):\n",
    "        matran2[i] = int(matran2[i] >= 0)\n",
    "\n",
    "    if matran1 == 1 and matran2 == 0:\n",
    "        action = 1\n",
    "    elif matran2 == 1 and matran1 == 0 :\n",
    "        action = 0\n",
    "    elif matran2 == matran1 and matran1 == 1:\n",
    "        if per[0][0]+1 > per[0][1]+1:\n",
    "            action = 0\n",
    "        else:\n",
    "            action = 1\n",
    "    else:\n",
    "        actions = np.where(actions == 1)[0]\n",
    "        action = actions[np.random.randint(len(actions))]\n",
    "        while action== 1 or action == 0:\n",
    "            action = actions[np.random.randint(len(actions))]\n",
    "    return action,per\n",
    "win, x = numba_main_2(p_all_action, 1000,perx1,0)\n",
    "print('tỷ lệ thắng',(win/1000)*100)"
   ]
  },
  {
   "cell_type": "markdown",
   "metadata": {},
   "source": [
    "# Homework 1:\n",
    "\n",
    "*  **1.For each action , save at least 200k state both old and new state** \n",
    "*  **2.Predict what value in state will change from 0 to 1** \n",
    "*  **3.Label the state index which change** \n",
    "\n"
   ]
  },
  {
   "cell_type": "code",
   "execution_count": 7,
   "metadata": {},
   "outputs": [
    {
     "name": "stdout",
     "output_type": "stream",
     "text": [
      "[0.92078632 0.96461228 1.         0.99014747 0.90232291 0.90178851\n",
      " 0.89813277 0.90902076 0.920929   0.88228035 0.90348654 0.889742\n",
      " 0.87964966 0.89754577 0.90426253]\n"
     ]
    }
   ],
   "source": [
    "@njit()\n",
    "def p_bias(state,per):\n",
    "    actions = getValidActions(state)\n",
    "    actions *= per[0]\n",
    "    action = np.argmax(actions)\n",
    "    if getReward(state) == 1:\n",
    "        per[1] += per[0]\n",
    "    if getReward(state) == 0:\n",
    "        per[0] = np.random.rand(getActionSize())\n",
    "    return action,per\n",
    "\n",
    "win, bias = numba_main_2(p_bias, 1,bias1,0)\n",
    "# Bias tối ưu \n",
    "bias_greedy = (bias[1]/np.max(bias[1]))\n",
    "print(bias_greedy)\n"
   ]
  },
  {
   "cell_type": "code",
   "execution_count": 81,
   "metadata": {},
   "outputs": [
    {
     "name": "stdout",
     "output_type": "stream",
     "text": [
      "action  2\n",
      "action sau khi action 2 2\n",
      "action  2\n",
      "action sau khi action 2 2\n",
      "action  2\n",
      "action sau khi action 2 6\n",
      "action  2\n",
      "action sau khi action 2 10\n",
      "action  2\n",
      "action sau khi action 2 1\n",
      "action  2\n",
      "action sau khi action 2 10\n",
      "action  2\n",
      "action sau khi action 2 5\n",
      "action  2\n",
      "action sau khi action 2 13\n",
      "action  2\n",
      "action sau khi action 2 13\n",
      "action  2\n",
      "action sau khi action 2 14\n",
      "action  2\n",
      "action sau khi action 2 7\n",
      "action  2\n",
      "action sau khi action 2 5\n",
      "action  2\n",
      "action sau khi action 2 1\n",
      "action  2\n",
      "action sau khi action 2 5\n",
      "action  2\n",
      "action sau khi action 2 10\n",
      "action  2\n",
      "action sau khi action 2 10\n",
      "action  2\n",
      "action sau khi action 2 1\n",
      "action  2\n",
      "action sau khi action 2 14\n",
      "action  2\n",
      "action sau khi action 2 4\n",
      "action  2\n",
      "action sau khi action 2 6\n",
      "action  2\n",
      "action sau khi action 2 13\n",
      "action  2\n",
      "action sau khi action 2 3\n",
      "action  2\n",
      "action sau khi action 2 1\n",
      "action  2\n",
      "action sau khi action 2 2\n",
      "action  2\n",
      "action sau khi action 2 14\n",
      "action  2\n",
      "action sau khi action 2 0\n",
      "action  2\n",
      "action sau khi action 2 4\n",
      "action  2\n",
      "action sau khi action 2 7\n",
      "action  2\n",
      "action sau khi action 2 11\n",
      "action  2\n",
      "action sau khi action 2 14\n",
      "action  2\n",
      "action sau khi action 2 13\n"
     ]
    }
   ],
   "source": [
    "import numpy as np\n",
    "from base.Splendor_v3.env import *\n",
    "@njit()\n",
    "def p0(state,per):\n",
    "  # Choose an action\n",
    "  actions = getValidActions(state)\n",
    "  actions = np.where(actions == 1)[0]\n",
    "  action = actions[np.random.randint(len(actions))]\n",
    "  # Lưu new state\n",
    "  if  per[3][0][0] == 1: \n",
    "    if int(per[1][0][0])<200001:\n",
    "      j = int(per[1][0][0])\n",
    "      # print('state sau khi action ',state)\n",
    "      for i in range(getStateSize()):\n",
    "        per[2][j][i] += state[i]\n",
    "      # print('lưu state sau khi action ',per[2][j])\n",
    "      # trigger action 2\n",
    "      per[3][0][0] = 0\n",
    "      print(\"action sau khi action 2\",action)\n",
    "  #Lưu old state \n",
    "  if action == 2 :\n",
    "    if int(per[1][0][0])<200001:\n",
    "      # save state\n",
    "      j = int(per[1][0][0])\n",
    "      # print('state trước khi action ',state)\n",
    "      for i in range(getStateSize()):\n",
    "        per[0][j][i] += state[i]\n",
    "      # print('lưu state trước khi action ',per[0][j])\n",
    "      # count number of state\n",
    "      per[1][0][0] += 1\n",
    "      per[3][0][0] = 1\n",
    "      print(\"action \",action)\n",
    "    \n",
    "  return action,per\n",
    "\n",
    "\n",
    "perx = [np.zeros((200000,getStateSize())),np.zeros((1,1)),np.zeros((200000,getStateSize())),np.zeros((1,1))]\n",
    "          #state old                         #số trận         #state new                      # trigger\n",
    "win, x = numba_main_2(p0, 1000000,perx , 0)\n",
    "np.save('old2.npy',x[0])\n",
    "np.save('new2.npy',x[2])"
   ]
  },
  {
   "cell_type": "code",
   "execution_count": null,
   "metadata": {},
   "outputs": [],
   "source": []
  },
  {
   "cell_type": "code",
   "execution_count": 83,
   "metadata": {},
   "outputs": [
    {
     "name": "stdout",
     "output_type": "stream",
     "text": [
      "[[0. 0. 0. ... 0. 0. 0.]\n",
      " [0. 0. 0. ... 0. 0. 0.]\n",
      " [0. 0. 0. ... 0. 0. 0.]\n",
      " ...\n",
      " [0. 0. 0. ... 0. 0. 0.]\n",
      " [0. 0. 0. ... 0. 0. 0.]\n",
      " [0. 0. 0. ... 0. 0. 0.]]\n"
     ]
    }
   ],
   "source": [
    "k = np.load('old2.npy')\n",
    "print(k-x[0])"
   ]
  },
  {
   "cell_type": "markdown",
   "metadata": {},
   "source": [
    "# Homework 2:\n",
    "**Tìm bộ feature cho từng action sao cho**\n",
    "* **(tỷ lệ state vừa kích hoạt vừa có value /tỷ lệ state vừa kích hoạt) luôn bằng 1**\n",
    "* **check xem từng action tỷ lệ thắng có trên 30%**"
   ]
  },
  {
   "cell_type": "markdown",
   "metadata": {},
   "source": [
    "# Homework 3:\n",
    "**1 agent tổng quán sử dụng bộ feature và bias có tỷ lệ thắng trên 60%**"
   ]
  }
 ],
 "metadata": {
  "kernelspec": {
   "display_name": "Python 3.9.7 ('base')",
   "language": "python",
   "name": "python3"
  },
  "language_info": {
   "codemirror_mode": {
    "name": "ipython",
    "version": 3
   },
   "file_extension": ".py",
   "mimetype": "text/x-python",
   "name": "python",
   "nbconvert_exporter": "python",
   "pygments_lexer": "ipython3",
   "version": "3.9.7"
  },
  "orig_nbformat": 4,
  "vscode": {
   "interpreter": {
    "hash": "ff2136a0fe6bc790f1b40d257e6b1bba23119827483ea2b7c12c8cc23c661a47"
   }
  }
 },
 "nbformat": 4,
 "nbformat_minor": 2
}
