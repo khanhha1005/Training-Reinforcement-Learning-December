{
 "cells": [
  {
   "cell_type": "code",
   "execution_count": 1,
   "metadata": {},
   "outputs": [
    {
     "name": "stdout",
     "output_type": "stream",
     "text": [
      "/Users/trancatkhanh/Downloads/GAME\n"
     ]
    }
   ],
   "source": [
    "%cd /Users/trancatkhanh/Downloads/GAME\n",
    "from base.Splendor_v3.env import *\n"
   ]
  },
  {
   "cell_type": "markdown",
   "metadata": {},
   "source": [
    "# Homework 3:\n",
    "**1 agent tổng quán sử dụng bộ feature và bias có tỷ lệ thắng trên 60%**"
   ]
  },
  {
   "cell_type": "markdown",
   "metadata": {},
   "source": [
    "# Bước 1 :Lấy bias của các action"
   ]
  },
  {
   "cell_type": "code",
   "execution_count": 2,
   "metadata": {},
   "outputs": [
    {
     "name": "stdout",
     "output_type": "stream",
     "text": [
      "[0.96463848 0.94899909 1.         0.99217976 0.89586445 0.90616839\n",
      " 0.91950055 0.92973951 0.88693796 0.9118531  0.92083089 0.9239534\n",
      " 0.93158299 0.89188172 0.91427949]\n",
      "525\n"
     ]
    }
   ],
   "source": [
    "from base.Splendor_v3.env import *\n",
    "import numpy as np\n",
    "bias1 = [np.random.rand(getActionSize()),np.zeros(getActionSize())]\n",
    "@njit()\n",
    "def p_bias(state,per):\n",
    "    actions = getValidActions(state)\n",
    "    actions *= per[0]\n",
    "    action = np.argmax(actions)\n",
    "    if getReward(state) == 1:\n",
    "        per[1] += per[0]\n",
    "    if getReward(state) == 0:\n",
    "        per[0] = np.random.rand(getActionSize())\n",
    "    return action,per\n",
    "\n",
    "win, bias = numba_main_2(p_bias, 10000,bias1,0)\n",
    "# Bias tối ưu \n",
    "bias_greedy = (bias[1]/np.max(bias[1]))\n",
    "print(bias_greedy)\n",
    "# Check tỷ lệ thắng của bias tối ưu \n",
    "@njit()\n",
    "def p_bias_optim(state,per):\n",
    "    actions = getValidActions(state)\n",
    "    actions *= bias_greedy\n",
    "    action = np.argmax(actions)\n",
    "    return action,per\n",
    "win, bias = numba_main_2(p_bias_optim, 1000,bias1,0)\n",
    "print(win)"
   ]
  },
  {
   "cell_type": "markdown",
   "metadata": {},
   "source": [
    "# Bước 2: Ghép các feature với nhau "
   ]
  },
  {
   "cell_type": "code",
   "execution_count": null,
   "metadata": {},
   "outputs": [],
   "source": [
    "def get_feature5(i):\n",
    "  #State old là state Hiện tại \n",
    "  #State new là state Mới \n",
    "  old = np.load('old'+f'{i}'+'.npy')\n",
    "  new = np.load('new'+f'{i}'+'.npy')\n",
    "  rate = 0 \n",
    "  while rate<0.2 :\n",
    "\n",
    "    # state mà có cả Value của old and new (1,0)\n",
    "    o = (new>old)\n",
    "    o= 1*o\n",
    "    i = np.zeros((old.shape[0],1))\n",
    "    for u in range(old.shape[0]) :\n",
    "        if sum(o[u])>0 :\n",
    "            # print(o[u])\n",
    "            i[u] = 1\n",
    "    #  a matrix with random value\n",
    "    l = np.random.uniform(-1,1,(161,5))\n",
    "    for j in range(getStateSize()):\n",
    "      for vl in range(0,5):\n",
    "        l[j][vl] = np.random.choice([-1,0,1], 1, p=[0.05, 0.75, 0.2])\n",
    "\n",
    "        # if l[j][vl] > np.random.randn(1):\n",
    "        #     l[j][vl] = 1\n",
    "        # elif l[j][vl] < np.random.randn(1):\n",
    "        #     l[j][vl] =  0\n",
    "        # else:\n",
    "        #     l[j][vl] = -1\n",
    "    #state mà kích hoạt (1,0)\n",
    "    \n",
    "    k = 1*((new@l)>=0)\n",
    "    # state mà kích hoạt và có reward (1,0)\n",
    "    y = np.zeros((old.shape[0],1))\n",
    "    for p in range(old.shape[0]):\n",
    "        if sum(k[p]) >= 1 and sum(i[p])>= 1:\n",
    "            y[p] = 1\n",
    "        else:\n",
    "            y[p] = 0\n",
    "      \n",
    "    rate = (np.sum(y)/np.sum(k))\n",
    "\n",
    "  return l.reshape(5,161)\n",
    "matrix_feature_check_win_rate = []\n",
    "for k in range(0,15): \n",
    "  matrix  = get_feature5(k)\n",
    "  matrix_feature = []\n",
    "  matrix_feature.append(matrix)\n",
    "  perx=[np.zeros((5,getStateSize())),np.zeros((1,5))]\n",
    "  for i in range(0,5):\n",
    "      for j in range(getStateSize()):\n",
    "          perx[0][i][j] += matrix_feature[0][0][j]\n",
    "  @njit\n",
    "  def p0(state,per):\n",
    "      actions = getValidActions(state)\n",
    "      matran1 = per[0]@state    \n",
    "      matran1 = 1*(matran1 >= 0)\n",
    "      actions = np.where(actions == 1)[0]\n",
    "      if np.sum(matran1) == 5 and k in actions :\n",
    "          action = k\n",
    "      else:\n",
    "          actions = np.where(actions == 1)[0]\n",
    "          action = actions[np.random.randint(len(actions))]\n",
    "      return action,per\n",
    "  win, x = numba_main_2(p0, 1000,perx,0)\n",
    "  while  win<350 :\n",
    "    matrix  = get_feature5(k)\n",
    "    matrix_feature = []\n",
    "    matrix_feature.append(matrix)\n",
    "    perx=[np.zeros((5,getStateSize())),np.zeros((1,5))]\n",
    "    for i in range(0,5):\n",
    "        for j in range(getStateSize()):\n",
    "            perx[0][i][j] += matrix_feature[0][0][j]\n",
    "    win, x = numba_main_2(p0, 1000,perx,0)\n",
    "    print('số trận thắng của action '+f'{k}',win)\n",
    "\n",
    "  print('số trận thắng của action '+f'{k}',win)\n",
    "\n",
    "  matrix_feature_check_win_rate.append(matrix)\n",
    "\n"
   ]
  },
  {
   "cell_type": "code",
   "execution_count": 290,
   "metadata": {},
   "outputs": [
    {
     "name": "stdout",
     "output_type": "stream",
     "text": [
      "246\n"
     ]
    }
   ],
   "source": [
    "@njit\n",
    "def p0(state,per):\n",
    "    actions = getValidActions(state)\n",
    "    matran1 = per[0][0:5]@state    \n",
    "    matran1 = 1*(matran1 >= 0)\n",
    "    actions = np.where(actions == 1)[0]\n",
    "\n",
    "    if np.sum(matran1) == 5 and 0 in actions :\n",
    "        action = 0\n",
    "    else:\n",
    "        action = actions[np.random.randint(len(actions))]\n",
    "    return action,per\n",
    "win, x = numba_main_2(p0, 1000,perx,0)\n",
    "print(win)"
   ]
  },
  {
   "cell_type": "code",
   "execution_count": null,
   "metadata": {},
   "outputs": [],
   "source": [
    "perx=[np.zeros((75,getStateSize())),np.zeros((getActionSize(),75))]\n",
    "for vk in range(len(matrix_feature_check_win_rate)):\n",
    "  for i in range(0,5):\n",
    "      for j in range(getStateSize()):\n",
    "          perx[0][vk*5+i][j] += matrix_feature_check_win_rate[vk][i][j]\n",
    "for i in range(0,15):\n",
    "    for j in range(5):\n",
    "        perx[1][i][i*5+j] = 1\n",
    "        \n",
    "from base.Splendor_v3.env import *\n",
    "@njit\n",
    "def p0(state,per):\n",
    "    actions = getValidActions(state)\n",
    "    matran1 = per[0]@state\n",
    "    matran1 = 1*(matran1 >= 0)\n",
    "    matran2 = per[1]@matran1\n",
    "    matran2 *= actions\n",
    "    print(matran2)\n",
    "    if len(np.where(matran2 == matran2[np.argmax(matran2)])[0])>1 and np.max(matran2) == 5:\n",
    "        matran2 += bias_greedy\n",
    "        action = np.argmax(matran2)\n",
    "    else:\n",
    "        action = np.argmax(matran2)\n",
    "    return action,per\n",
    "win, x = numba_main_2(p0, 1,perx,0)"
   ]
  },
  {
   "cell_type": "code",
   "execution_count": 252,
   "metadata": {},
   "outputs": [
    {
     "name": "stdout",
     "output_type": "stream",
     "text": [
      "4991\n"
     ]
    }
   ],
   "source": [
    "print(win)"
   ]
  },
  {
   "cell_type": "code",
   "execution_count": 223,
   "metadata": {},
   "outputs": [
    {
     "name": "stdout",
     "output_type": "stream",
     "text": [
      "[0.]\n"
     ]
    }
   ],
   "source": [
    "perx=[np.zeros((75,getStateSize())),np.zeros((getActionSize(),75)),np.zeros((2,1))]\n",
    "for i in range(0,75):\n",
    "    for j in range(getStateSize()):\n",
    "        perx[0][i][j] = np.random.choice([-1,0,1], 1, p=[0.1, 0.7, 0.2])\n",
    "\n",
    "for i in range(0,getActionSize()):\n",
    "    for j in range(5):\n",
    "        perx[1][i][i*5+j] = 1\n",
    "\n",
    "# for i in range(0,getActionSize()):\n",
    "#     for j in range(75):\n",
    "#         if perx[1][i][j] > np.random.randn(1):\n",
    "#             perx[1][i][j] = 1\n",
    "#         else:\n",
    "#             perx[1][i][j] =  0\n",
    "print(perx[2][0])"
   ]
  },
  {
   "cell_type": "code",
   "execution_count": 238,
   "metadata": {},
   "outputs": [
    {
     "ename": "IndexError",
     "evalue": "getitem out of range",
     "output_type": "error",
     "traceback": [
      "\u001b[0;31m---------------------------------------------------------------------------\u001b[0m",
      "\u001b[0;31mIndexError\u001b[0m                                Traceback (most recent call last)",
      "\u001b[0;32m/var/folders/ds/4lcv95w11y7brm6dqhc04s240000gn/T/ipykernel_29584/1389078212.py\u001b[0m in \u001b[0;36m<module>\u001b[0;34m\u001b[0m\n\u001b[1;32m     33\u001b[0m         \u001b[0mper\u001b[0m\u001b[0;34m[\u001b[0m\u001b[0;36m2\u001b[0m\u001b[0;34m]\u001b[0m\u001b[0;34m[\u001b[0m\u001b[0;36m0\u001b[0m\u001b[0;34m]\u001b[0m\u001b[0;34m[\u001b[0m\u001b[0;36m1\u001b[0m\u001b[0;34m]\u001b[0m \u001b[0;34m+=\u001b[0m \u001b[0;36m1\u001b[0m\u001b[0;34m\u001b[0m\u001b[0;34m\u001b[0m\u001b[0m\n\u001b[1;32m     34\u001b[0m     \u001b[0;32mreturn\u001b[0m \u001b[0maction\u001b[0m\u001b[0;34m,\u001b[0m\u001b[0mper\u001b[0m\u001b[0;34m\u001b[0m\u001b[0;34m\u001b[0m\u001b[0m\n\u001b[0;32m---> 35\u001b[0;31m \u001b[0mwin\u001b[0m\u001b[0;34m,\u001b[0m \u001b[0mx\u001b[0m \u001b[0;34m=\u001b[0m \u001b[0mnumba_main_2\u001b[0m\u001b[0;34m(\u001b[0m\u001b[0mp0\u001b[0m\u001b[0;34m,\u001b[0m \u001b[0;36m100000\u001b[0m\u001b[0;34m,\u001b[0m\u001b[0mperx\u001b[0m\u001b[0;34m,\u001b[0m\u001b[0;36m0\u001b[0m\u001b[0;34m)\u001b[0m\u001b[0;34m\u001b[0m\u001b[0;34m\u001b[0m\u001b[0m\n\u001b[0m",
      "\u001b[0;32m~/Downloads/GAME/base/Splendor_v3/env.py\u001b[0m in \u001b[0;36mnumba_main_2\u001b[0;34m(p0, n_game, per_player, level)\u001b[0m\n\u001b[1;32m    663\u001b[0m \u001b[0;34m\u001b[0m\u001b[0m\n\u001b[1;32m    664\u001b[0m \u001b[0;32mdef\u001b[0m \u001b[0mnumba_main_2\u001b[0m\u001b[0;34m(\u001b[0m\u001b[0mp0\u001b[0m\u001b[0;34m,\u001b[0m \u001b[0mn_game\u001b[0m\u001b[0;34m,\u001b[0m \u001b[0mper_player\u001b[0m\u001b[0;34m,\u001b[0m \u001b[0mlevel\u001b[0m\u001b[0;34m)\u001b[0m\u001b[0;34m:\u001b[0m\u001b[0;34m\u001b[0m\u001b[0;34m\u001b[0m\u001b[0m\n\u001b[0;32m--> 665\u001b[0;31m     \u001b[0;32mreturn\u001b[0m \u001b[0mn_game_numba\u001b[0m\u001b[0;34m(\u001b[0m\u001b[0mp0\u001b[0m\u001b[0;34m,\u001b[0m \u001b[0mn_game\u001b[0m\u001b[0;34m,\u001b[0m \u001b[0mper_player\u001b[0m\u001b[0;34m,\u001b[0m \u001b[0mlevel\u001b[0m\u001b[0;34m)\u001b[0m\u001b[0;34m\u001b[0m\u001b[0;34m\u001b[0m\u001b[0m\n\u001b[0m\u001b[1;32m    666\u001b[0m \u001b[0;34m\u001b[0m\u001b[0m\n\u001b[1;32m    667\u001b[0m \u001b[0;34m\u001b[0m\u001b[0m\n",
      "\u001b[0;31mIndexError\u001b[0m: getitem out of range"
     ]
    }
   ],
   "source": [
    "from base.Splendor_v3.env import *\n",
    "@njit\n",
    "def p0(state,per):\n",
    "    actions = getValidActions(state)\n",
    "    matran1 = per[0]@state\n",
    "    # if per[2][0][1] >10  and per[2][0][0]/per[2][0][1] > 0.6:\n",
    "    #     perx = [np.random.randn(5,getStateSize())]\n",
    "    #     for i in range(0,5):\n",
    "    #         for j in range(getStateSize()):\n",
    "    #             if per[0][i][j] > np.random.randn(1):\n",
    "    #                 per[0][i][j] = 1\n",
    "    #             elif per[0][i][j] < np.random.randn(1):\n",
    "    #                 per[0][i][j] =  0\n",
    "    #             else:\n",
    "    #                 per[0][i][j] = -1\n",
    "    #     per[2][0][0] = 0\n",
    "    #     per[2][0][1] = 0\n",
    "\n",
    "    for i in range(len(matran1)):\n",
    "        matran1[i] = int(matran1[i] >= 0)\n",
    "    matran2 = per[1]@matran1\n",
    "    matran2 *= actions\n",
    "    if len(np.where(matran2 == matran2[np.argmax(matran2)])[0])>1 and np.max(matran2) == 5:\n",
    "        matran2 += bias_greedy\n",
    "        action = np.argmax(matran2)\n",
    "    else:\n",
    "        action = np.argmax(matran2)\n",
    "    # if getReward(state)==1:\n",
    "    #     per[2][0][0] += 1\n",
    "    #     per[2][0][1] += 1\n",
    "    # elif getReward(state)==0:\n",
    "    #     per[2][0][1] += 1\n",
    "    return action,per\n",
    "win, x = numba_main_2(p0, 100000,perx,0)"
   ]
  },
  {
   "cell_type": "code",
   "execution_count": null,
   "metadata": {},
   "outputs": [
    {
     "name": "stdout",
     "output_type": "stream",
     "text": [
      "4839\n"
     ]
    }
   ],
   "source": [
    "print(win)"
   ]
  },
  {
   "cell_type": "code",
   "execution_count": 194,
   "metadata": {},
   "outputs": [
    {
     "name": "stdout",
     "output_type": "stream",
     "text": [
      "[1.14614932]\n"
     ]
    }
   ],
   "source": [
    "print(np.random.randn(1))"
   ]
  }
 ],
 "metadata": {
  "kernelspec": {
   "display_name": "Python 3.9.7 ('base')",
   "language": "python",
   "name": "python3"
  },
  "language_info": {
   "codemirror_mode": {
    "name": "ipython",
    "version": 3
   },
   "file_extension": ".py",
   "mimetype": "text/x-python",
   "name": "python",
   "nbconvert_exporter": "python",
   "pygments_lexer": "ipython3",
   "version": "3.9.7"
  },
  "orig_nbformat": 4,
  "vscode": {
   "interpreter": {
    "hash": "ff2136a0fe6bc790f1b40d257e6b1bba23119827483ea2b7c12c8cc23c661a47"
   }
  }
 },
 "nbformat": 4,
 "nbformat_minor": 2
}
