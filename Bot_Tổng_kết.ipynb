{
 "cells": [
  {
   "cell_type": "code",
   "execution_count": 1,
   "metadata": {},
   "outputs": [
    {
     "name": "stdout",
     "output_type": "stream",
     "text": [
      "/Users/trancatkhanh/Downloads/GAME\n"
     ]
    }
   ],
   "source": [
    "%cd /Users/trancatkhanh/Downloads/GAME\n",
    "from base.Splendor_v3.env import *\n"
   ]
  },
  {
   "cell_type": "markdown",
   "metadata": {},
   "source": [
    "# Homework 3:\n",
    "**1 agent tổng quán sử dụng bộ feature và bias có tỷ lệ thắng trên 60%**"
   ]
  },
  {
   "cell_type": "markdown",
   "metadata": {},
   "source": [
    "# Bước 1 :Lấy bias của các action"
   ]
  },
  {
   "cell_type": "code",
   "execution_count": 2,
   "metadata": {},
   "outputs": [],
   "source": [
    "from base.Splendor_v3.env import *\n",
    "import numpy as np\n",
    "bias1 = [np.random.rand(getActionSize()),np.zeros(getActionSize())]\n",
    "@njit()\n",
    "def p_bias(state,per):\n",
    "    actions = getValidActions(state)\n",
    "    actions *= per[0]\n",
    "    action = np.argmax(actions)\n",
    "    if getReward(state) == 1:\n",
    "        per[1] += per[0]\n",
    "    if getReward(state) == 0:\n",
    "        per[0] = np.random.rand(getActionSize())\n",
    "    return action,per\n",
    "\n",
    "win, bias = numba_main_2(p_bias, 300000,bias1,0)\n",
    "# Bias tối ưu \n",
    "bias_greedy = (bias[1]/np.max(bias[1]))\n",
    "print(bias_greedy)\n",
    "# Check tỷ lệ thắng của bias tối ưu \n",
    "@njit()\n",
    "def p_bias_optim(state,per):\n",
    "    actions = getValidActions(state)\n",
    "    actions *= bias_greedy\n",
    "    action = np.argmax(actions)\n",
    "    return action,per\n",
    "win, bias = numba_main_2(p_bias_optim, 1000,bias1,0)\n",
    "print(win)"
   ]
  },
  {
   "cell_type": "markdown",
   "metadata": {},
   "source": [
    "# Bước 2: Ghép các feature với nhau "
   ]
  },
  {
   "cell_type": "markdown",
   "metadata": {},
   "source": [
    "# Cách 1"
   ]
  },
  {
   "cell_type": "code",
   "execution_count": null,
   "metadata": {},
   "outputs": [],
   "source": [
    "def get_feature5(old,new):\n",
    "  #State old là state Hiện tại \n",
    "  #State new là state Mới \n",
    "  rate = 0 \n",
    "  while rate<=0.999:\n",
    "\n",
    "    # state mà có cả Value của old and new (1,0)\n",
    "    o = (new>old)\n",
    "    o= 1*o\n",
    "    i = np.zeros((old.shape[0],1))\n",
    "    for u in range(old.shape[0]) :\n",
    "        if sum(o[u])>0 :\n",
    "            # print(o[u])\n",
    "            i[u] = 1\n",
    "    #  a matrix with random value\n",
    "    l = np.zeros((5,getStateSize()))\n",
    "    for ii in range(0,5):\n",
    "        rd1 = np.random.randint(getStateSize())\n",
    "        rd2 = np.random.randint(getStateSize())\n",
    "        while rd2 == rd1:\n",
    "          rd2 = np.random.randint(getStateSize())\n",
    "        rd3 = np.random.randint(getStateSize())\n",
    "        while rd3 == rd2 or rd3 == rd1:\n",
    "          rd3 = np.random.randint(getStateSize())\n",
    "        l[ii][rd1] = 1\n",
    "        l[ii][rd2] = 1\n",
    "        l[ii][rd3] = -1\n",
    "    l=l.reshape(161,5)\n",
    "    #state mà kích hoạt (1,0)\n",
    "    \n",
    "    k = 1*((new@l)>=0)\n",
    "    # state mà kích hoạt và có reward (1,0)\n",
    "    y = np.zeros((old.shape[0],1))\n",
    "    for p in range(old.shape[0]):\n",
    "        if sum(k[p]) >= 1 and sum(i[p])>= 1:\n",
    "            y[p] = 1\n",
    "        else:\n",
    "            y[p] = 0\n",
    "      \n",
    "    rate = (np.sum(y)/np.min(k))\n",
    "\n",
    "  return l.reshape(5,161)"
   ]
  },
  {
   "cell_type": "code",
   "execution_count": null,
   "metadata": {},
   "outputs": [
    {
     "name": "stdout",
     "output_type": "stream",
     "text": [
      "phần trăm trận thắng của action 0 0.421\n",
      "phần trăm trận thắng của action 1 0.472\n",
      "phần trăm trận thắng của action 2 0.493\n",
      "số trận thắng để đạt 60% 54\n",
      "phần trăm trận thắng của action 0 0.432\n",
      "phần trăm trận thắng của action 1 0.443\n",
      "phần trăm trận thắng của action 2 0.48\n",
      "số trận thắng để đạt 60% 57\n",
      "phần trăm trận thắng của action 0 0.444\n",
      "phần trăm trận thắng của action 1 0.46\n",
      "phần trăm trận thắng của action 2 0.53\n",
      "số trận thắng để đạt 60% 48\n",
      "phần trăm trận thắng của action 0 0.391\n",
      "phần trăm trận thắng của action 1 0.46\n",
      "phần trăm trận thắng của action 2 0.504\n",
      "số trận thắng để đạt 60% 43\n",
      "phần trăm trận thắng của action 0 0.441\n",
      "phần trăm trận thắng của action 1 0.48\n",
      "phần trăm trận thắng của action 2 0.516\n",
      "số trận thắng để đạt 60% 51\n",
      "phần trăm trận thắng của action 0 0.43\n",
      "phần trăm trận thắng của action 1 0.443\n",
      "phần trăm trận thắng của action 2 0.513\n",
      "số trận thắng để đạt 60% 44\n",
      "phần trăm trận thắng của action 0 0.411\n",
      "phần trăm trận thắng của action 1 0.434\n",
      "phần trăm trận thắng của action 2 0.495\n",
      "số trận thắng để đạt 60% 49\n",
      "phần trăm trận thắng của action 0 0.404\n",
      "phần trăm trận thắng của action 1 0.464\n",
      "phần trăm trận thắng của action 2 0.508\n",
      "số trận thắng để đạt 60% 51\n",
      "phần trăm trận thắng của action 0 0.413\n",
      "phần trăm trận thắng của action 1 0.464\n",
      "phần trăm trận thắng của action 2 0.49\n",
      "số trận thắng để đạt 60% 41\n",
      "phần trăm trận thắng của action 0 0.436\n",
      "phần trăm trận thắng của action 1 0.452\n",
      "phần trăm trận thắng của action 2 0.486\n",
      "số trận thắng để đạt 60% 48\n",
      "phần trăm trận thắng của action 0 0.434\n",
      "phần trăm trận thắng của action 1 0.463\n",
      "phần trăm trận thắng của action 2 0.528\n",
      "số trận thắng để đạt 60% 44\n",
      "phần trăm trận thắng của action 0 0.398\n",
      "phần trăm trận thắng của action 1 0.479\n",
      "phần trăm trận thắng của action 2 0.518\n",
      "số trận thắng để đạt 60% 52\n",
      "phần trăm trận thắng của action 0 0.427\n",
      "phần trăm trận thắng của action 1 0.469\n",
      "phần trăm trận thắng của action 2 0.498\n",
      "số trận thắng để đạt 60% 43\n",
      "phần trăm trận thắng của action 0 0.41\n"
     ]
    },
    {
     "ename": "KeyboardInterrupt",
     "evalue": "",
     "output_type": "error",
     "traceback": [
      "\u001b[0;31m---------------------------------------------------------------------------\u001b[0m",
      "\u001b[0;31mKeyboardInterrupt\u001b[0m                         Traceback (most recent call last)",
      "\u001b[0;32m/var/folders/ds/4lcv95w11y7brm6dqhc04s240000gn/T/ipykernel_49065/1680693186.py\u001b[0m in \u001b[0;36m<module>\u001b[0;34m\u001b[0m\n\u001b[1;32m      5\u001b[0m     \u001b[0mold\u001b[0m \u001b[0;34m=\u001b[0m \u001b[0mnp\u001b[0m\u001b[0;34m.\u001b[0m\u001b[0mload\u001b[0m\u001b[0;34m(\u001b[0m\u001b[0;34m'old'\u001b[0m\u001b[0;34m+\u001b[0m\u001b[0;34mf'{k}'\u001b[0m\u001b[0;34m+\u001b[0m\u001b[0;34m'.npy'\u001b[0m\u001b[0;34m)\u001b[0m\u001b[0;34m\u001b[0m\u001b[0;34m\u001b[0m\u001b[0m\n\u001b[1;32m      6\u001b[0m     \u001b[0mnew\u001b[0m \u001b[0;34m=\u001b[0m \u001b[0mnp\u001b[0m\u001b[0;34m.\u001b[0m\u001b[0mload\u001b[0m\u001b[0;34m(\u001b[0m\u001b[0;34m'new'\u001b[0m\u001b[0;34m+\u001b[0m\u001b[0;34mf'{k}'\u001b[0m\u001b[0;34m+\u001b[0m\u001b[0;34m'.npy'\u001b[0m\u001b[0;34m)\u001b[0m\u001b[0;34m\u001b[0m\u001b[0;34m\u001b[0m\u001b[0m\n\u001b[0;32m----> 7\u001b[0;31m     \u001b[0mmatrix\u001b[0m  \u001b[0;34m=\u001b[0m \u001b[0mget_feature5\u001b[0m\u001b[0;34m(\u001b[0m\u001b[0mold\u001b[0m\u001b[0;34m,\u001b[0m\u001b[0mnew\u001b[0m\u001b[0;34m)\u001b[0m\u001b[0;34m\u001b[0m\u001b[0;34m\u001b[0m\u001b[0m\n\u001b[0m\u001b[1;32m      8\u001b[0m     \u001b[0mmatrix_feature\u001b[0m \u001b[0;34m=\u001b[0m \u001b[0;34m[\u001b[0m\u001b[0;34m]\u001b[0m\u001b[0;34m\u001b[0m\u001b[0;34m\u001b[0m\u001b[0m\n\u001b[1;32m      9\u001b[0m     \u001b[0mmatrix_feature\u001b[0m\u001b[0;34m.\u001b[0m\u001b[0mappend\u001b[0m\u001b[0;34m(\u001b[0m\u001b[0mmatrix\u001b[0m\u001b[0;34m)\u001b[0m\u001b[0;34m\u001b[0m\u001b[0;34m\u001b[0m\u001b[0m\n",
      "\u001b[0;32m/var/folders/ds/4lcv95w11y7brm6dqhc04s240000gn/T/ipykernel_49065/3974302439.py\u001b[0m in \u001b[0;36mget_feature5\u001b[0;34m(old, new)\u001b[0m\n\u001b[1;32m     10\u001b[0m     \u001b[0mi\u001b[0m \u001b[0;34m=\u001b[0m \u001b[0mnp\u001b[0m\u001b[0;34m.\u001b[0m\u001b[0mzeros\u001b[0m\u001b[0;34m(\u001b[0m\u001b[0;34m(\u001b[0m\u001b[0mold\u001b[0m\u001b[0;34m.\u001b[0m\u001b[0mshape\u001b[0m\u001b[0;34m[\u001b[0m\u001b[0;36m0\u001b[0m\u001b[0;34m]\u001b[0m\u001b[0;34m,\u001b[0m\u001b[0;36m1\u001b[0m\u001b[0;34m)\u001b[0m\u001b[0;34m)\u001b[0m\u001b[0;34m\u001b[0m\u001b[0;34m\u001b[0m\u001b[0m\n\u001b[1;32m     11\u001b[0m     \u001b[0;32mfor\u001b[0m \u001b[0mu\u001b[0m \u001b[0;32min\u001b[0m \u001b[0mrange\u001b[0m\u001b[0;34m(\u001b[0m\u001b[0mold\u001b[0m\u001b[0;34m.\u001b[0m\u001b[0mshape\u001b[0m\u001b[0;34m[\u001b[0m\u001b[0;36m0\u001b[0m\u001b[0;34m]\u001b[0m\u001b[0;34m)\u001b[0m \u001b[0;34m:\u001b[0m\u001b[0;34m\u001b[0m\u001b[0;34m\u001b[0m\u001b[0m\n\u001b[0;32m---> 12\u001b[0;31m         \u001b[0;32mif\u001b[0m \u001b[0msum\u001b[0m\u001b[0;34m(\u001b[0m\u001b[0mo\u001b[0m\u001b[0;34m[\u001b[0m\u001b[0mu\u001b[0m\u001b[0;34m]\u001b[0m\u001b[0;34m)\u001b[0m\u001b[0;34m>\u001b[0m\u001b[0;36m0\u001b[0m \u001b[0;34m:\u001b[0m\u001b[0;34m\u001b[0m\u001b[0;34m\u001b[0m\u001b[0m\n\u001b[0m\u001b[1;32m     13\u001b[0m             \u001b[0;31m# print(o[u])\u001b[0m\u001b[0;34m\u001b[0m\u001b[0;34m\u001b[0m\u001b[0m\n\u001b[1;32m     14\u001b[0m             \u001b[0mi\u001b[0m\u001b[0;34m[\u001b[0m\u001b[0mu\u001b[0m\u001b[0;34m]\u001b[0m \u001b[0;34m=\u001b[0m \u001b[0;36m1\u001b[0m\u001b[0;34m\u001b[0m\u001b[0;34m\u001b[0m\u001b[0m\n",
      "\u001b[0;31mKeyboardInterrupt\u001b[0m: "
     ]
    }
   ],
   "source": [
    "win = 0\n",
    "while win<60:\n",
    "  matrix_feature_check_win_rate = []\n",
    "  for k in range(0,3): \n",
    "    old = np.load('old'+f'{k}'+'.npy')\n",
    "    new = np.load('new'+f'{k}'+'.npy')\n",
    "    matrix  = get_feature5(old,new)\n",
    "    matrix_feature = []\n",
    "    matrix_feature.append(matrix)\n",
    "    perx1=[np.zeros((5,getStateSize())),np.zeros((1,5))]\n",
    "    for i in range(0,5):\n",
    "        for j in range(getStateSize()):\n",
    "            perx1[0][i][j] += matrix_feature[0][0][j]\n",
    "    @njit\n",
    "    def p0(state,per):\n",
    "        actions = getValidActions(state)\n",
    "        matran1 = per[0]@state    \n",
    "        matran1 = 1*(matran1 >= 0)\n",
    "        actions = np.where(actions == 1)[0]\n",
    "        if np.sum(matran1) == 5 and k in actions :\n",
    "            action = k\n",
    "        else:\n",
    "            list_action2 = getValidActions(state)\n",
    "            actions2 = np.where(actions == 1)[0]\n",
    "            action = actions2[np.random.randint(len(actions2))]\n",
    "        return action,per\n",
    "    win, x = numba_main_2(p0, 1000,perx1,0)\n",
    "    while  win<350 :\n",
    "      matrix  = get_feature5(old,new)\n",
    "      matrix_feature = []\n",
    "      matrix_feature.append(matrix)\n",
    "      perx2=[np.zeros((5,getStateSize())),np.zeros((1,5))]\n",
    "      for i in range(0,5):\n",
    "          for j in range(getStateSize()):\n",
    "              perx2[0][i][j] += matrix_feature[0][0][j]\n",
    "      win, x = numba_main_2(p0, 1000,perx2,0)\n",
    "\n",
    "    print('phần trăm trận thắng của action '+f'{k}',win/1000)\n",
    "\n",
    "    matrix_feature_check_win_rate.append(matrix)\n",
    "  perx=[np.zeros((15,getStateSize())),np.zeros((3,15))]\n",
    "\n",
    "  for vk in range(0,3):\n",
    "    for i in range(0,5):\n",
    "        for j in range(getStateSize()):\n",
    "            perx[0][vk*5+i][j] = matrix_feature_check_win_rate[vk][i][j]\n",
    "            \n",
    "  for i in range(0,3):\n",
    "      for j in range(5):\n",
    "          perx[1][i][i*5+j] = 1\n",
    "  # print(perx[0][0:5])\n",
    "\n",
    "  from base.Splendor_v3.env import *\n",
    "  @njit\n",
    "  def p_all_action(state,per):\n",
    "      actions = getValidActions(state)\n",
    "      matran1 = per[0]@state\n",
    "      for i in range(len(matran1)):\n",
    "          matran1[i] = int(matran1[i] >= 0)\n",
    "      matran2 = per[1]@matran1\n",
    "      matran2 *= actions\n",
    "      if  np.sum(matran2) == 15 and np.max(matran2) ==5 :\n",
    "          matran2 += bias_greedy\n",
    "          action = np.argmax(matran2)\n",
    "      elif np.sum(matran2) < 15 and np.max(matran2) ==5 and np.sum(matran2) >=10 :\n",
    "          matran2 += bias_greedy\n",
    "          action = np.argmax(matran2)\n",
    "      else:        \n",
    "          action = np.argmax(matran2)\n",
    "      return action,per\n",
    "  win, x = numba_main_2(p_all_action, 100,perx,0)\n",
    "  print('số trận thắng để đạt 60%',win)\n",
    "print('số trận thắng  60%',win)"
   ]
  }
 ],
 "metadata": {
  "kernelspec": {
   "display_name": "Python 3.9.7 ('base')",
   "language": "python",
   "name": "python3"
  },
  "language_info": {
   "codemirror_mode": {
    "name": "ipython",
    "version": 3
   },
   "file_extension": ".py",
   "mimetype": "text/x-python",
   "name": "python",
   "nbconvert_exporter": "python",
   "pygments_lexer": "ipython3",
   "version": "3.9.7"
  },
  "orig_nbformat": 4,
  "vscode": {
   "interpreter": {
    "hash": "ff2136a0fe6bc790f1b40d257e6b1bba23119827483ea2b7c12c8cc23c661a47"
   }
  }
 },
 "nbformat": 4,
 "nbformat_minor": 2
}
