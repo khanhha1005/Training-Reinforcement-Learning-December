{
 "cells": [
  {
   "cell_type": "code",
   "execution_count": 1,
   "metadata": {},
   "outputs": [
    {
     "name": "stdout",
     "output_type": "stream",
     "text": [
      "/Users/trancatkhanh/Downloads/GAME\n"
     ]
    }
   ],
   "source": [
    "%cd /Users/trancatkhanh/Downloads/GAME\n",
    "from base.Splendor_v3.env import *\n"
   ]
  },
  {
   "cell_type": "markdown",
   "metadata": {},
   "source": [
    "# Homework 3:\n",
    "**1 agent tổng quán sử dụng bộ feature và bias có tỷ lệ thắng trên 60%**"
   ]
  },
  {
   "cell_type": "markdown",
   "metadata": {},
   "source": [
    "# Bước 1 :Lấy bias của các action"
   ]
  },
  {
   "cell_type": "code",
   "execution_count": 2,
   "metadata": {},
   "outputs": [
    {
     "name": "stdout",
     "output_type": "stream",
     "text": [
      "[0.96463848 0.94899909 1.         0.99217976 0.89586445 0.90616839\n",
      " 0.91950055 0.92973951 0.88693796 0.9118531  0.92083089 0.9239534\n",
      " 0.93158299 0.89188172 0.91427949]\n",
      "525\n"
     ]
    }
   ],
   "source": [
    "from base.Splendor_v3.env import *\n",
    "import numpy as np\n",
    "bias1 = [np.random.rand(getActionSize()),np.zeros(getActionSize())]\n",
    "@njit()\n",
    "def p_bias(state,per):\n",
    "    actions = getValidActions(state)\n",
    "    actions *= per[0]\n",
    "    action = np.argmax(actions)\n",
    "    if getReward(state) == 1:\n",
    "        per[1] += per[0]\n",
    "    if getReward(state) == 0:\n",
    "        per[0] = np.random.rand(getActionSize())\n",
    "    return action,per\n",
    "\n",
    "win, bias = numba_main_2(p_bias, 10000,bias1,0)\n",
    "# Bias tối ưu \n",
    "bias_greedy = (bias[1]/np.max(bias[1]))\n",
    "print(bias_greedy)\n",
    "# Check tỷ lệ thắng của bias tối ưu \n",
    "@njit()\n",
    "def p_bias_optim(state,per):\n",
    "    actions = getValidActions(state)\n",
    "    actions *= bias_greedy\n",
    "    action = np.argmax(actions)\n",
    "    return action,per\n",
    "win, bias = numba_main_2(p_bias_optim, 1000,bias1,0)\n",
    "print(win)"
   ]
  },
  {
   "cell_type": "markdown",
   "metadata": {},
   "source": [
    "# Bước 2: Ghép các feature với nhau "
   ]
  },
  {
   "cell_type": "code",
   "execution_count": null,
   "metadata": {},
   "outputs": [],
   "source": [
    "def get_feature5(i):\n",
    "  #State old là state Hiện tại \n",
    "  #State new là state Mới \n",
    "  old = np.load('old'+f'{i}'+'.npy')\n",
    "  new = np.load('new'+f'{i}'+'.npy')\n",
    "  rate = 0 \n",
    "  while rate<0.2 :\n",
    "\n",
    "    # state mà có cả Value của old and new (1,0)\n",
    "    o = (new>old)\n",
    "    o= 1*o\n",
    "    i = np.zeros((old.shape[0],1))\n",
    "    for u in range(old.shape[0]) :\n",
    "        if sum(o[u])>0 :\n",
    "            # print(o[u])\n",
    "            i[u] = 1\n",
    "    #  a matrix with random value\n",
    "    l = np.random.uniform(-1,1,(161,5))\n",
    "    for j in range(getStateSize()):\n",
    "      for vl in range(0,5):\n",
    "        if l[j][vl] > np.random.randn(1):\n",
    "            l[j][vl] = 1\n",
    "        elif l[j][vl] < np.random.randn(1):\n",
    "            l[j][vl] =  0\n",
    "        else:\n",
    "            l[j][vl] = -1\n",
    "    #state mà kích hoạt (1,0)\n",
    "    \n",
    "    k = 1*((new@l)>=0)\n",
    "    print(k)\n",
    "    # state mà kích hoạt và có reward (1,0)\n",
    "    y = np.zeros((old.shape[0],1))\n",
    "    for p in range(old.shape[0]):\n",
    "        if sum(k[p]) >= 1 and sum(i[p])>= 1:\n",
    "            y[p] = 1\n",
    "        else:\n",
    "            y[p] = 0\n",
    "      \n",
    "    rate = (np.sum(y)/np.sum(k))\n",
    "    print(rate)\n",
    "\n",
    "  return l.reshape(5,161)\n",
    "matrix_feature_check_win_rate = []\n",
    "for k in range(0,1): \n",
    "  matrix  = get_feature5(k)\n",
    "  matrix_feature = []\n",
    "  matrix_feature.append(matrix)\n",
    "  perx=[np.zeros((len(matrix_feature),getStateSize())),np.zeros((getActionSize(),(len(matrix_feature))*5))]\n",
    "  for i in range(0,len(matrix_feature)):\n",
    "      for j in range(getStateSize()):\n",
    "          perx[0][i][j] += matrix_feature[i][0][j]\n",
    "  @njit\n",
    "  def p0(state,per):\n",
    "      actions = getValidActions(state)\n",
    "      matran1 = per[0][0]@state    \n",
    "      matran1 = int(matran1 >= 0)\n",
    "      actions = np.where(actions == 1)[0]\n",
    "      if matran1 == 1 and k in actions :\n",
    "          action = k\n",
    "      else:\n",
    "          actions = np.where(actions == 1)[0]\n",
    "          action = actions[np.random.randint(len(actions))]\n",
    "      return action,per\n",
    "  win, x = numba_main_2(p0, 1000,perx,0)\n",
    "  print('actiom'+f'{k}',win)\n",
    "  while  win<310 :\n",
    "    matrix  = get_feature5(k)\n",
    "    matrix_feature = []\n",
    "    matrix_feature.append(matrix)\n",
    "    perx=[np.zeros((len(matrix_feature),getStateSize())),np.zeros((getActionSize(),(len(matrix_feature))*5))]\n",
    "    for i in range(0,len(matrix_feature)):\n",
    "        for j in range(getStateSize()):\n",
    "            perx[0][i][j] += matrix_feature[i][0][j]\n",
    "    win, x = numba_main_2(p0, 1000,perx,0)\n",
    "    print('actiom'+f'{k}',win)\n",
    "\n",
    "  matrix_feature_check_win_rate.append(matrix)\n",
    "\n"
   ]
  },
  {
   "cell_type": "code",
   "execution_count": 168,
   "metadata": {},
   "outputs": [
    {
     "name": "stdout",
     "output_type": "stream",
     "text": [
      "[ 0.  0.  0.  0.  0.  1.  0.  0.  0.  0. -1.  0.  0.  0.  0.  0.  0.  0.\n",
      "  0.  0.  0.  0.  0.  0.  0.  0.  1.  0.  0.  0.  0.  0.  0.  0.  0.  0.\n",
      "  0.  0.  0.  0.  0.  0.  0.  0.  0.  0.  0.  0.  0.  0.  0.  0.  0.  0.\n",
      "  0.  0.  0.  0.  0.  0.  0.  0.  0.  0.  0.  0.  0.  0.  0.  0.  0.  0.\n",
      "  0.  0.  0.  0.  0.  0.  0.  0.  0.  0.  0.  0.  0.  0.  0.  0.  0.  0.\n",
      "  0.  0.  0.  0.  0.  0.  0.  0.  0.  0.  0.  0.  0.  0.  0.  0.  0.  0.\n",
      "  0.  0.  0.  0.  0.  0.  0.  0.  0.  0.  0.  0.  0.  0.  0.  0.  0.  0.\n",
      "  0.  0.  0.  0.  0.  0.  0.  0.  0.  0.  0.  0.  0.  0.  0.  0.  0.  0.\n",
      "  0.  0.  0.  0.  0.  1.  0.  0.  0.  0.  0.  0.  0.  0.  0.  0.  0.]\n",
      "[1. 1. 1. 1. 1. 0. 0. 0. 0. 0. 0. 0. 0. 0. 0. 0. 0. 0. 0. 0. 0. 0. 0. 0.\n",
      " 0. 0. 0. 0. 0. 0. 0. 0. 0. 0. 0. 0. 0. 0. 0. 0. 0. 0. 0. 0. 0. 0. 0. 0.\n",
      " 0. 0. 0. 0. 0. 0. 0. 0. 0. 0. 0. 0. 0. 0. 0. 0. 0. 0. 0. 0. 0. 0. 0. 0.\n",
      " 0. 0. 0.]\n"
     ]
    }
   ],
   "source": [
    "perx=[np.zeros((75,getStateSize())),np.zeros((getActionSize(),75))]\n",
    "for i in range(0,75):\n",
    "    for j in range(getStateSize()):\n",
    "        perx[0][i][j] = np.random.choice([-1,0,1], 1, p=[0.003, 0.99, 0.007])\n",
    "\n",
    "for i in range(0,getActionSize()):\n",
    "    for j in range(5):\n",
    "        perx[1][i][i*5+j] = 1\n",
    "\n",
    "# for i in range(0,getActionSize()):\n",
    "#     for j in range(75):\n",
    "#         if perx[1][i][j] > np.random.randn(1):\n",
    "#             perx[1][i][j] = 1\n",
    "#         else:\n",
    "#             perx[1][i][j] =  0\n",
    "print(perx[0][0])\n",
    "print(perx[1][0])"
   ]
  },
  {
   "cell_type": "code",
   "execution_count": 169,
   "metadata": {},
   "outputs": [
    {
     "name": "stdout",
     "output_type": "stream",
     "text": [
      "[[ 0.  0.  0.  0.  0.  1.  0.  0.  0.  0. -1.  0.  0.  0.  0.  0.  0.  0.\n",
      "   0.  0.  0.  0.  0.  0.  0.  0.  1.  0.  0.  0.  0.  0.  0.  0.  0.  0.\n",
      "   0.  0.  0.  0.  0.  0.  0.  0.  0.  0.  0.  0.  0.  0.  0.  0.  0.  0.\n",
      "   0.  0.  0.  0.  0.  0.  0.  0.  0.  0.  0.  0.  0.  0.  0.  0.  0.  0.\n",
      "   0.  0.  0.  0.  0.  0.  0.  0.  0.  0.  0.  0.  0.  0.  0.  0.  0.  0.\n",
      "   0.  0.  0.  0.  0.  0.  0.  0.  0.  0.  0.  0.  0.  0.  0.  0.  0.  0.\n",
      "   0.  0.  0.  0.  0.  0.  0.  0.  0.  0.  0.  0.  0.  0.  0.  0.  0.  0.\n",
      "   0.  0.  0.  0.  0.  0.  0.  0.  0.  0.  0.  0.  0.  0.  0.  0.  0.  0.\n",
      "   0.  0.  0.  0.  0.  1.  0.  0.  0.  0.  0.  0.  0.  0.  0.  0.  0.]\n",
      " [ 0.  0.  0.  0.  0.  0.  0.  0.  0.  0.  0.  0.  0.  0.  0.  0.  0.  0.\n",
      "   0.  0.  0.  0.  0.  1.  0.  0.  0.  0.  0.  0.  0.  0.  0.  0.  0.  0.\n",
      "   0.  0.  0.  0.  0.  0.  0.  0.  0.  0.  0.  0.  0.  0.  0.  0.  0.  0.\n",
      "   0.  0.  0.  0.  0.  0.  1.  0.  0.  0.  0.  0.  0.  0.  0.  0.  0.  0.\n",
      "   1.  0.  0.  0.  0.  0.  0.  0.  0.  0.  0.  0.  0.  0.  0.  1.  0.  0.\n",
      "   1.  1.  0.  0.  0.  0.  0.  0.  0.  0.  0.  0.  0.  0.  0.  0.  0.  0.\n",
      "   0.  1.  0.  0.  0.  0.  0.  0.  0.  0.  0.  0.  1.  0.  0.  0.  0.  0.\n",
      "   0.  0.  0.  0.  0.  0.  0.  0. -1.  0.  0.  0.  0.  0.  0.  0.  0.  0.\n",
      "   0.  0.  0.  0.  0.  0.  0.  0.  0.  0.  0.  0.  0.  1.  0.  0.  0.]\n",
      " [ 0.  0.  0.  0.  0.  0. -1.  0.  0.  0.  0.  0.  0.  0.  0.  0.  0.  0.\n",
      "   0.  0.  0.  0.  0.  0.  1.  0.  0.  0.  0.  0.  0.  0.  0.  0.  0.  0.\n",
      "   0.  0.  0.  0.  0.  0.  0.  0.  0.  0.  0.  0.  0.  0.  0.  0.  0.  0.\n",
      "   0.  0.  0.  0.  0.  0.  0.  0.  0.  0.  0.  0.  0.  0.  0.  0.  0.  0.\n",
      "   0.  0.  0.  0.  0.  0.  0.  0.  0.  0.  0.  0.  0.  0.  0.  0.  0.  0.\n",
      "   0.  0.  0.  0.  0.  0.  0.  0.  0.  0.  0.  0.  0.  0.  0.  0.  0.  0.\n",
      "   0.  0.  0.  0.  0.  0.  0.  0.  0.  0.  0.  0.  0.  0.  0.  0.  0.  0.\n",
      "   0.  0.  0.  0.  0.  0.  0.  0.  0.  0.  0.  0.  0.  0.  0.  0.  0.  0.\n",
      "   0.  0.  0.  0.  0. -1.  0.  0.  0.  0.  0.  0.  0.  0.  0.  0.  0.]\n",
      " [ 0.  0.  0.  0.  0.  0.  0.  0.  0.  0.  0.  0.  0.  0.  0.  0.  0.  0.\n",
      "   0.  0.  0.  0.  0.  0.  0.  0.  0.  0.  0.  0.  0.  0.  0.  0.  0.  0.\n",
      "   0.  0.  0.  0.  0.  0.  0.  0.  0.  0.  0.  0.  0.  0.  0.  0.  0.  0.\n",
      "   0.  0.  0.  0.  0.  0.  0.  0.  0.  0.  0.  0.  0.  0.  0.  0.  0.  0.\n",
      "   0.  0.  0.  0.  0.  0.  0.  0.  0.  0.  0.  0.  0.  0.  0.  0.  0.  0.\n",
      "   0.  0.  0.  0.  0.  0.  0.  0.  0.  0.  0.  0.  0.  0.  0.  0.  0.  0.\n",
      "   0.  0.  0.  0.  0.  0.  0.  0.  0.  0.  0.  0.  0.  0.  0.  0.  0.  0.\n",
      "   0.  0.  0.  0.  0.  0.  0.  0.  0.  0.  0.  0.  0.  0.  0.  0.  0.  0.\n",
      "   0.  0.  0.  0.  0.  0.  0.  0.  0.  0.  0.  0.  0. -1.  0.  0.  0.]\n",
      " [ 0.  0.  0.  0.  0.  0.  0.  0.  0.  0.  0.  0.  0.  0.  0.  0.  0.  0.\n",
      "   0.  0.  0.  0.  0.  0.  0.  0.  0.  0.  0.  0.  0.  0.  0.  0.  0.  0.\n",
      "   0.  0.  0.  0.  0.  0.  0.  0.  0.  0.  0.  0.  0.  0.  0.  0.  0.  0.\n",
      "   0.  0.  0.  0.  0.  0.  0.  0.  0.  0.  0.  0.  0.  0.  0.  0.  0.  0.\n",
      "   0.  0.  0.  0.  0.  0.  0.  0.  0.  0.  0.  0.  0.  0.  0.  0.  0.  0.\n",
      "   0.  0.  0.  0.  0.  0.  0.  0.  0.  0.  0.  0.  1.  0.  0.  0.  0.  0.\n",
      "   0.  0.  0.  0.  0.  0.  0.  0.  0.  1.  0.  0.  0.  0.  0.  0.  0.  0.\n",
      "   0.  0.  0.  0.  0.  0.  0.  0.  0.  0.  0.  0.  0.  0.  0.  0.  0.  0.\n",
      "   0.  0.  0.  0.  0.  0.  0.  0.  0.  0.  0.  0.  0.  0.  0.  0.  0.]]\n"
     ]
    }
   ],
   "source": [
    "print(perx[0][0:5])"
   ]
  },
  {
   "cell_type": "code",
   "execution_count": 195,
   "metadata": {},
   "outputs": [
    {
     "name": "stdout",
     "output_type": "stream",
     "text": [
      "[4. 4. 4. 4. 4. 5. 5. 5. 4. 4. 5. 5. 0. 0. 0.]\n",
      "5\n",
      "[4. 4. 4. 4. 4. 5. 5. 5. 4. 4. 5. 5. 0. 0. 0.]\n",
      "5\n",
      "[4. 4. 4. 4. 4. 5. 5. 5. 4. 4. 5. 5. 0. 0. 0.]\n",
      "5\n",
      "[3. 4. 5. 4. 4. 5. 4. 5. 4. 5. 5. 5. 0. 0. 0.]\n",
      "6\n",
      "[3. 4. 4. 5. 5. 5. 5. 5. 4. 5. 5. 5. 4. 0. 0.]\n",
      "8\n",
      "[3. 5. 5. 5. 5. 5. 4. 4. 4. 5. 5. 5. 5. 0. 0.]\n",
      "9\n",
      "[3. 5. 4. 5. 5. 5. 4. 5. 4. 5. 5. 4. 5. 0. 0.]\n",
      "8\n",
      "[3. 5. 4. 5. 5. 5. 4. 5. 4. 5. 5. 4. 5. 5. 0.]\n",
      "9\n",
      "[3. 5. 4. 5. 5. 5. 4. 5. 4. 5. 5. 4. 5. 5. 5.]\n",
      "10\n",
      "[3. 5. 4. 5. 5. 5. 4. 5. 4. 5. 5. 4. 5. 5. 4.]\n",
      "9\n",
      "[3. 5. 4. 5. 5. 5. 4. 5. 4. 5. 5. 4. 5. 5. 5.]\n",
      "10\n",
      "[3. 5. 4. 5. 5. 5. 4. 5. 4. 5. 5. 4. 5. 5. 5.]\n",
      "10\n",
      "[3. 5. 4. 5. 5. 5. 4. 5. 3. 5. 5. 4. 5. 5. 4.]\n",
      "9\n",
      "[3. 5. 4. 5. 5. 5. 4. 5. 4. 5. 5. 4. 5. 5. 4.]\n",
      "9\n",
      "[3. 5. 4. 5. 5. 5. 4. 5. 4. 5. 5. 4. 5. 5. 4.]\n",
      "9\n",
      "[3. 5. 4. 5. 5. 5. 4. 5. 4. 5. 5. 4. 5. 5. 4.]\n",
      "9\n",
      "[3. 5. 4. 5. 4. 5. 4. 5. 4. 5. 5. 4. 5. 5. 4.]\n",
      "8\n",
      "[3. 5. 4. 5. 5. 5. 4. 5. 4. 5. 5. 4. 5. 5. 4.]\n",
      "9\n",
      "[3. 5. 4. 5. 5. 5. 4. 5. 4. 5. 5. 4. 5. 5. 4.]\n",
      "9\n",
      "[3. 5. 4. 5. 5. 5. 4. 5. 4. 5. 5. 4. 5. 5. 4.]\n",
      "9\n",
      "[3. 5. 4. 5. 5. 5. 4. 5. 4. 5. 5. 4. 5. 5. 4.]\n",
      "9\n",
      "[3. 5. 4. 5. 5. 5. 4. 5. 4. 5. 5. 4. 5. 5. 4.]\n",
      "9\n",
      "[3. 5. 4. 5. 5. 5. 5. 5. 4. 5. 5. 4. 5. 5. 3.]\n",
      "10\n",
      "[4. 4. 4. 5. 5. 4. 4. 5. 4. 4. 5. 0. 5. 5. 4.]\n",
      "6\n",
      "[3. 4. 5. 5. 4. 5. 5. 4. 3. 0. 0. 0. 5. 5. 3.]\n",
      "6\n",
      "[3. 4. 5. 5. 4. 5. 5. 5. 0. 0. 0. 0. 5. 5. 3.]\n",
      "7\n",
      "[3. 4. 5. 5. 4. 5. 5. 3. 0. 0. 0. 0. 5. 5. 0.]\n",
      "6\n",
      "[3. 4. 5. 5. 5. 5. 4. 3. 0. 0. 0. 0. 5. 5. 3.]\n",
      "6\n",
      "[3. 5. 5. 5. 5. 5. 5. 4. 0. 0. 0. 0. 5. 5. 3.]\n",
      "8\n",
      "[3. 5. 5. 5. 4. 5. 4. 3. 0. 0. 0. 0. 5. 5. 3.]\n",
      "6\n",
      "[3. 5. 5. 5. 4. 5. 4. 3. 0. 0. 0. 0. 5. 5. 3.]\n",
      "6\n",
      "[3. 5. 5. 5. 4. 5. 4. 3. 0. 0. 0. 0. 5. 5. 4.]\n",
      "6\n"
     ]
    }
   ],
   "source": [
    "from base.Splendor_v3.env import *\n",
    "@njit\n",
    "def p0(state,per):\n",
    "    actions = getValidActions(state)\n",
    "    matran1 = per[0]@state\n",
    "    for i in range(len(matran1)):\n",
    "        matran1[i] = int(matran1[i] >= 0)\n",
    "    matran2 = per[1]@matran1\n",
    "    matran2 *= actions\n",
    "    print(matran2)\n",
    "    print(len(np.where(matran2 == matran2[np.argmax(matran2)])[0]))\n",
    "    if len(np.where(matran2 == matran2[np.argmax(matran2)])[0])>1 and np.max(matran2) == 5:\n",
    "        matran2 += bias_greedy\n",
    "        action = np.argmax(matran2)\n",
    "    else:\n",
    "        action = np.argmax(matran2)\n",
    "    return action,per\n",
    "win, x = numba_main_2(p0, 1,perx,0)"
   ]
  },
  {
   "cell_type": "code",
   "execution_count": 184,
   "metadata": {},
   "outputs": [
    {
     "name": "stdout",
     "output_type": "stream",
     "text": [
      "5155\n"
     ]
    }
   ],
   "source": [
    "print(win)"
   ]
  },
  {
   "cell_type": "code",
   "execution_count": 194,
   "metadata": {},
   "outputs": [
    {
     "name": "stdout",
     "output_type": "stream",
     "text": [
      "[1.14614932]\n"
     ]
    }
   ],
   "source": [
    "print(np.random.randn(1))"
   ]
  }
 ],
 "metadata": {
  "kernelspec": {
   "display_name": "Python 3.9.7 ('base')",
   "language": "python",
   "name": "python3"
  },
  "language_info": {
   "codemirror_mode": {
    "name": "ipython",
    "version": 3
   },
   "file_extension": ".py",
   "mimetype": "text/x-python",
   "name": "python",
   "nbconvert_exporter": "python",
   "pygments_lexer": "ipython3",
   "version": "3.9.7"
  },
  "orig_nbformat": 4,
  "vscode": {
   "interpreter": {
    "hash": "ff2136a0fe6bc790f1b40d257e6b1bba23119827483ea2b7c12c8cc23c661a47"
   }
  }
 },
 "nbformat": 4,
 "nbformat_minor": 2
}
