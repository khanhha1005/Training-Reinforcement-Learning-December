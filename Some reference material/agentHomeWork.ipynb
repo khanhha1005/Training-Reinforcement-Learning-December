{
 "cells": [
  {
   "cell_type": "code",
   "execution_count": 65,
   "metadata": {},
   "outputs": [],
   "source": [
    "import numpy as np\n",
    "import numba\n",
    "from numba.typed import List"
   ]
  },
  {
   "cell_type": "code",
   "execution_count": 66,
   "metadata": {},
   "outputs": [],
   "source": [
    "from base.Sheriff.env import *"
   ]
  },
  {
   "cell_type": "code",
   "execution_count": 67,
   "metadata": {},
   "outputs": [
    {
     "data": {
      "text/plain": [
       "83"
      ]
     },
     "execution_count": 67,
     "metadata": {},
     "output_type": "execute_result"
    }
   ],
   "source": [
    "getActionSize()"
   ]
  },
  {
   "cell_type": "code",
   "execution_count": 68,
   "metadata": {},
   "outputs": [],
   "source": [
    "@numba.njit\n",
    "def agent_random(state,temp,per):\n",
    "    action = np.random.choice(np.where(getValidActions(state)==1)[0])\n",
    "    per[0] = np.maximum(per[0],state)\n",
    "    per[1] = np.minimum(per[1],state)\n",
    "    return action,temp,per"
   ]
  },
  {
   "cell_type": "code",
   "execution_count": 69,
   "metadata": {},
   "outputs": [],
   "source": [
    "perx = [np.full(getStateSize(),-100,dtype=np.float64),np.full(getStateSize(),100,dtype=np.float64)] # [max,min]"
   ]
  },
  {
   "cell_type": "code",
   "execution_count": 70,
   "metadata": {},
   "outputs": [
    {
     "data": {
      "text/plain": [
       "2525"
      ]
     },
     "execution_count": 70,
     "metadata": {},
     "output_type": "execute_result"
    }
   ],
   "source": [
    "numba_main_2(agent_random,10000,perx,0)[0]"
   ]
  },
  {
   "cell_type": "code",
   "execution_count": 71,
   "metadata": {},
   "outputs": [],
   "source": [
    "@numba.njit\n",
    "def agent_value(state,temp,per): # per = [max,min,value]\n",
    "    action = np.random.choice(np.where(getValidActions(state)==1)[0])\n",
    "    if getReward(state)!=-1:\n",
    "        for i in range(getStateSize()):\n",
    "            state_new = state.copy()\n",
    "            state_new[i] = per[0][i]\n",
    "            if getReward(state_new)==1 and  getReward(state)==0:\n",
    "                per[2][i]+=1\n",
    "            elif getReward(state_new)==0 and getReward(state)==1:\n",
    "                per[2][i]-=1\n",
    "            elif getReward(state_new)==-1 and getReward(state)==0:\n",
    "                per[2][i]+=0.1\n",
    "            elif getReward(state_new)==-1 and getReward(state)==1:\n",
    "                per[2][i]-=0.1\n",
    "        \n",
    "            state_new2 = state.copy()\n",
    "            state_new2[i] = per[1][i]\n",
    "            if getReward(state_new2)==1 and getReward(state)==0:\n",
    "                per[2][i]-=1\n",
    "            elif getReward(state_new2)==0 and getReward(state)==1:\n",
    "                per[2][i]+=1\n",
    "            elif getReward(state_new2)==-1 and getReward(state)==0:\n",
    "                per[2][i]-=0.1\n",
    "            elif getReward(state_new2)==-1 and getReward(state)==1:\n",
    "                per[2][i]+=0.1\n",
    "\n",
    "    return action,temp,per\n"
   ]
  },
  {
   "cell_type": "code",
   "execution_count": 72,
   "metadata": {},
   "outputs": [],
   "source": [
    "perx2 = perx\n",
    "perx2.append(np.zeros(getStateSize(),dtype=np.float64))"
   ]
  },
  {
   "cell_type": "code",
   "execution_count": 73,
   "metadata": {},
   "outputs": [
    {
     "data": {
      "text/plain": [
       "[2474, 2504, 2460, 2562]"
      ]
     },
     "execution_count": 73,
     "metadata": {},
     "output_type": "execute_result"
    }
   ],
   "source": [
    "numba_main(agent_value,agent_value,agent_value,agent_value,10000,perx)[0]"
   ]
  },
  {
   "cell_type": "code",
   "execution_count": 74,
   "metadata": {},
   "outputs": [],
   "source": [
    "value = perx2[2] / np.max(perx2[2])"
   ]
  },
  {
   "cell_type": "code",
   "execution_count": 75,
   "metadata": {},
   "outputs": [],
   "source": [
    "@numba.njit\n",
    "def agent_bias(state,temp,per): #per = [bias1,bias2,bias3,bias4,bias5,value1,value2,value3,value4,value5,turn,[score]]4\n",
    "    turn  = per[10].astype(np.int64)[0]%5\n",
    "    list_action = np.where(getValidActions(state)==1)[0]\n",
    "    action = list_action[np.argmax(per[turn][list_action])]\n",
    "    if getReward(state)!=-1:\n",
    "        per[10][0]+=1\n",
    "        per[5:10][turn][0]+= np.sum(state * value)\n",
    "        if getReward(state)==1:\n",
    "            per[11][turn]+=1\n",
    "    \n",
    "    return action,temp,per\n",
    "    "
   ]
  },
  {
   "cell_type": "code",
   "execution_count": 86,
   "metadata": {},
   "outputs": [],
   "source": [
    "per_bias = []\n",
    "for i in range(5):\n",
    "    per_bias.append(np.random.randn(getActionSize()))\n",
    "for i in range(5):\n",
    "    per_bias.append(np.array([0.]))\n",
    "per_bias.append(np.array([0.]))\n",
    "per_bias.append(np.zeros(5,dtype=np.float64))\n",
    "    "
   ]
  },
  {
   "cell_type": "code",
   "execution_count": 87,
   "metadata": {},
   "outputs": [
    {
     "data": {
      "text/plain": [
       "1367"
      ]
     },
     "execution_count": 87,
     "metadata": {},
     "output_type": "execute_result"
    }
   ],
   "source": [
    "numba_main_2(agent_bias,5000,per_bias,0)[0]"
   ]
  },
  {
   "cell_type": "code",
   "execution_count": 88,
   "metadata": {},
   "outputs": [
    {
     "name": "stdout",
     "output_type": "stream",
     "text": [
      "PLayer 0 : Rank: 5; Win: 0; State value: -149924.10 \n",
      "PLayer 1 : Rank: 4; Win: 1; State value: -54849.69 \n",
      "PLayer 2 : Rank: 3; Win: 273; State value: -16869.77 \n",
      "PLayer 3 : Rank: 2; Win: 360; State value: 23341.81 \n",
      "PLayer 4 : Rank: 1; Win: 733; State value: 73362.58 \n"
     ]
    }
   ],
   "source": [
    "state_value = per_bias[5:10]\n",
    "for i in range(5):\n",
    "    print(f'PLayer {i} : Rank: {5-i}; Win: {per_bias[11][np.argsort(per_bias[11])][i]:.0f}; State value: {np.array(state_value)[np.argsort(per_bias[11])][i][0]:.2f} ')"
   ]
  }
 ],
 "metadata": {
  "kernelspec": {
   "display_name": "pytorchenv",
   "language": "python",
   "name": "python3"
  },
  "language_info": {
   "codemirror_mode": {
    "name": "ipython",
    "version": 3
   },
   "file_extension": ".py",
   "mimetype": "text/x-python",
   "name": "python",
   "nbconvert_exporter": "python",
   "pygments_lexer": "ipython3",
   "version": "3.9.15"
  },
  "orig_nbformat": 4,
  "vscode": {
   "interpreter": {
    "hash": "5581cd8f8e7f555d1c7b7d5c73b743c62e9c35962a29bf47b3ccdfb22fa58433"
   }
  }
 },
 "nbformat": 4,
 "nbformat_minor": 2
}
