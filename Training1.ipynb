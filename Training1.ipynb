{
  "cells": [
    {
      "cell_type": "code",
      "execution_count": null,
      "metadata": {
        "colab": {
          "base_uri": "https://localhost:8080/"
        },
        "id": "L5GX4nr6hL6e",
        "outputId": "8356c896-c98c-466f-b940-7a88b3367181"
      },
      "outputs": [
        {
          "name": "stdout",
          "output_type": "stream",
          "text": [
            "Cloning into 'GAME'...\n",
            "remote: Enumerating objects: 2564, done.\u001b[K\n",
            "remote: Counting objects: 100% (639/639), done.\u001b[K\n",
            "remote: Compressing objects: 100% (342/342), done.\u001b[K\n",
            "remote: Total 2564 (delta 261), reused 522 (delta 240), pack-reused 1925\u001b[K\n",
            "Receiving objects: 100% (2564/2564), 206.58 MiB | 31.41 MiB/s, done.\n",
            "Resolving deltas: 100% (1064/1064), done.\n"
          ]
        }
      ],
      "source": [
        "#!git clone https://github.com/ngoxuanphong/GAME.git"
      ]
    },
    {
      "cell_type": "code",
      "execution_count": 1,
      "metadata": {
        "id": "YANyrS5qh7kD"
      },
      "outputs": [
        {
          "name": "stdout",
          "output_type": "stream",
          "text": [
            "/Users/trancatkhanh/Downloads/GAME\n"
          ]
        }
      ],
      "source": [
        "%cd /Users/trancatkhanh/Downloads/GAME"
      ]
    },
    {
      "cell_type": "markdown",
      "metadata": {
        "id": "msye9AmwZGr5"
      },
      "source": [
        "# Tiến hành làm bài tập 1"
      ]
    },
    {
      "cell_type": "markdown",
      "metadata": {
        "id": "8nPPOYwiZGr6"
      },
      "source": [
        "**Bài tập 1 :**"
      ]
    },
    {
      "cell_type": "code",
      "execution_count": null,
      "metadata": {
        "id": "Zi3GxsUaZGr7"
      },
      "outputs": [],
      "source": [
        "@njit()\n",
        "def p0(state,per):\n",
        "  # Choose an action\n",
        "  actions = getValidActions(state)\n",
        "  actions = np.where(actions == 1)[0]\n",
        "  action = actions[np.random.randint(len(actions))]\n",
        "\n",
        "  # Save the state in per[0] done \n",
        "  if per[3][0] == 0 :\n",
        "    for i in range(len(state)):\n",
        "      per[0][i] = state[i]\n",
        "    per[3][0] +=1\n",
        "    \n",
        "  elif per[3][0] == 1:\n",
        "    for i in range(len(state)):\n",
        "        per[1][i] = np.minimum(per[0],state)[i]\n",
        "        per[2][i] = np.maximum(per[0],state)[i]\n",
        "    per[3][0] +=1\n",
        "  else:\n",
        "    for i in range(len(state)):\n",
        "        per[1][i] = np.minimum(per[1],state)[i]\n",
        "        per[2][i] = np.maximum(per[2],state)[i]\n",
        "\n",
        "  # Create an array of -1,0,-1\n",
        "  if getReward(state) == 1 :\n",
        "    per[4][0] += 1\n",
        "    if per[4][0]> 5000 :\n",
        "      for i in range(len(state)):\n",
        "        per[0][i] = state[i]\n",
        "      for i in range(len(state)):\n",
        "        per[0][i] = per[1][i]\n",
        "        if getReward(per[0]) <= 0 :\n",
        "          per[5][i] = -1\n",
        "        per[0][i] = per[2][i]\n",
        "        if getReward(per[0]) <= 0 :\n",
        "          per[5][i] = -1\n",
        "        per[0][i] = state[i]\n",
        "        \n",
        "  elif getReward(state) == 0 :\n",
        "    per[4][0] += 1\n",
        "    if per[4][0]> 5000 :\n",
        "      for i in range(len(state)):\n",
        "        per[0][i] = state[i]\n",
        "      for i in range(len(state)):\n",
        "        per[0][i] = per[1][i]\n",
        "        if getReward(per[0]) == 1 :\n",
        "          per[5][i] = 1\n",
        "        per[0][i] = per[2][i]\n",
        "        if getReward(per[0]) == 1  :\n",
        "          per[5][i] = 1\n",
        "        per[0][i] = state[i]\n",
        "  # Change the value of array to 1 or -1\n",
        "  if per[4][0]> 100 and per[4][0]<9900:\n",
        "    for i in range(len(state)):\n",
        "      if per[5][i]!=0:\n",
        "        per[5][i] = per[5][i] / np.abs(per[5][i])\n",
        "  return action,per\n",
        "\n",
        "\n",
        "\n",
        "\n",
        "#0 : Save previous state\n",
        "#1 : Save min state\n",
        "#2 : Save max state\n",
        "#3 : Save number of game\n",
        "#5 : Save the array decide which index is -1 , 0, 1"
      ]
    },
    {
      "cell_type": "markdown",
      "metadata": {
        "id": "JYXV_IvcZGsA"
      },
      "source": [
        "# Check tất cả các game bài tập 1 \n",
        "\n",
        "\n"
      ]
    },
    {
      "cell_type": "markdown",
      "metadata": {
        "id": "UfWA_nVTZGsB"
      },
      "source": [
        "**Check Game Splendor_v3**"
      ]
    },
    {
      "cell_type": "code",
      "execution_count": null,
      "metadata": {
        "colab": {
          "base_uri": "https://localhost:8080/"
        },
        "id": "jgopp1COgi_u",
        "outputId": "c470ab98-3d44-452c-865f-4e52fd0bf8fb"
      },
      "outputs": [
        {
          "name": "stdout",
          "output_type": "stream",
          "text": [
            "[ 0  0  0  0  0  0  0  0  0  0  0  0  0  0  0  0  0  1  0  0  0  0  0  0\n",
            "  0  0  0  0  0  0  0  0  0  0  0  0  0  0  0  0  0  0  0  0  0  0  0  0\n",
            "  0  0  0  0  0  0  0  0  0  0  0  0  0  0  0  0  0  0  0  0  0  0  0  0\n",
            "  0  0  0  0  0  0  0  0  0  0  0  0  0  0  0  0  0  0  0  0  0  0  0  0\n",
            "  0  0  0  0  0  0  0  0  0  0  0  0  0  0  0  0  0  0  0  0  0  0  0  0\n",
            "  0  0  0  0  0  0  0  0  0  0  0  0  0  0  0  0  0  0  0  0  0  0  0  0\n",
            "  0  0  0  0  0  0  0  0  0 -1 -1 -1  0  0  0  0  0]\n",
            "benefit (array([17]),)\n",
            "negative (array([153, 154, 155]),)\n"
          ]
        }
      ],
      "source": [
        "import numpy as np\n",
        "from base.Splendor_v3.env import *\n",
        "perx = [np.full(getStateSize(),0),np.full(getStateSize(),0),np.full(getStateSize(),0),np.full(getStateSize(),0),np.full(getStateSize(),0),np.full(getStateSize(),0)]\n",
        "          #0                            #1                       #2                       #3                      #4                          #5\n",
        "win, x = numba_main_2(p0, 10000,perx , 0)\n",
        "# Print the array decide which index is -1 , 0, 1\n",
        "print(x[5])\n",
        "# Print the index == 1\n",
        "print('benefit',np.where(x[5]==1))\n",
        "# Print the index == -1\n",
        "print('negative',np.where(x[5]==-1))"
      ]
    },
    {
      "cell_type": "markdown",
      "metadata": {
        "id": "2yGhQ7pmZGsB"
      },
      "source": [
        " **Check game TLMN_v2**"
      ]
    },
    {
      "cell_type": "code",
      "execution_count": null,
      "metadata": {
        "colab": {
          "base_uri": "https://localhost:8080/"
        },
        "id": "HFTSLdf0otLX",
        "outputId": "2fdacbbc-828d-4f32-f2b5-696a41d3f82b"
      },
      "outputs": [
        {
          "name": "stdout",
          "output_type": "stream",
          "text": [
            "2521\n"
          ]
        }
      ],
      "source": [
        "import numpy as np\n",
        "from base.TLMN_v2.env import *\n",
        "perx = [np.full(getStateSize(),0),np.full(getStateSize(),0),np.full(getStateSize(),0),np.full(getStateSize(),0),np.full(getStateSize(),0),np.full(getStateSize(),0)]\n",
        "          #0                            #1                       #2                       #3                      #4                          #5\n",
        "win, x = numba_main_2(p0, 10000,perx , 0)\n",
        "# Print the array decide which index is -1 , 0, 1\n",
        "print(x[5])\n",
        "\n",
        "# Print the index == 1\n",
        "print('benefit',np.where(x[5]==1))\n",
        "# Print the index == -1\n",
        "print('negative',np.where(x[5]==-1))\n",
        "\n"
      ]
    },
    {
      "cell_type": "markdown",
      "metadata": {
        "id": "k79008G8ZGsB"
      },
      "source": [
        "**Check Game TLMN**"
      ]
    },
    {
      "cell_type": "code",
      "execution_count": null,
      "metadata": {
        "id": "4-Wg_gHbZGsB",
        "outputId": "004226a2-bd42-4346-e623-a761f865d2c6"
      },
      "outputs": [
        {
          "name": "stdout",
          "output_type": "stream",
          "text": [
            "12319\n"
          ]
        }
      ],
      "source": [
        "import numpy as np\n",
        "from base.TLMN.env import *\n",
        "perx = [np.full(getStateSize(),0),np.full(getStateSize(),0),np.full(getStateSize(),0),np.full(getStateSize(),0),np.full(getStateSize(),0),np.full(getStateSize(),0)]\n",
        "          #0                            #1                       #2                       #3                      #4                          #5\n",
        "win, x = numba_main_2(p0, 50000,perx , 0)\n",
        "# Print the array decide which index is -1 , 0, 1\n",
        "print(x[5])\n",
        "\n",
        "# Print the index == 1\n",
        "print('benefit',np.where(x[5]==1))\n",
        "# Print the index == -1\n",
        "print('negative',np.where(x[5]==-1))"
      ]
    },
    {
      "cell_type": "markdown",
      "metadata": {
        "id": "ogklFJnLZGsC"
      },
      "source": [
        "**Check Game SushiGO**"
      ]
    },
    {
      "cell_type": "code",
      "execution_count": null,
      "metadata": {
        "id": "_jjBpd9TZGsC",
        "outputId": "d63ddba0-d340-4426-c060-953a316fe676"
      },
      "outputs": [
        {
          "ename": "",
          "evalue": "",
          "output_type": "error",
          "traceback": [
            "\u001b[1;31mThe Kernel crashed while executing code in the the current cell or a previous cell. Please review the code in the cell(s) to identify a possible cause of the failure. Click <a href='https://aka.ms/vscodeJupyterKernelCrash'>here</a> for more info. View Jupyter <a href='command:jupyter.viewOutput'>log</a> for further details."
          ]
        },
        {
          "ename": "",
          "evalue": "",
          "output_type": "error",
          "traceback": [
            "\u001b[1;31mCanceled future for execute_request message before replies were done"
          ]
        }
      ],
      "source": [
        "import numpy as np\n",
        "from base.SushiGo.env import *\n",
        "perx = [np.full(getStateSize(),0),np.full(getStateSize(),0),np.full(getStateSize(),0),np.full(getStateSize(),0),np.full(getStateSize(),0),np.full(getStateSize(),0)]\n",
        "          #0                            #1                       #2                       #3                      #4                          #5\n",
        "win, x = numba_main_2(p0, 10000,perx , 0)\n",
        "# Print the array decide which index is -1 , 0, 1\n",
        "print(x[5])\n",
        "\n",
        "# Print the index == 1\n",
        "print('benefit',np.where(x[5]==1))\n",
        "# Print the index == -1\n",
        "print('negative',np.where(x[5]==-1))"
      ]
    },
    {
      "cell_type": "markdown",
      "metadata": {
        "id": "sNd1nl01ZGsC"
      },
      "source": [
        "**Check MachiKoro**"
      ]
    },
    {
      "cell_type": "code",
      "execution_count": null,
      "metadata": {
        "id": "TFsEP2zWZGsC",
        "outputId": "77ddd332-738f-4a43-be4e-909831a4955e"
      },
      "outputs": [
        {
          "name": "stdout",
          "output_type": "stream",
          "text": [
            "2515\n"
          ]
        }
      ],
      "source": [
        "import numpy as np\n",
        "from base.MachiKoro.env import *\n",
        "perx = [np.full(getStateSize(),0),np.full(getStateSize(),0),np.full(getStateSize(),0),np.full(getStateSize(),0),np.full(getStateSize(),0),np.full(getStateSize(),0)]\n",
        "          #0                            #1                       #2                       #3                      #4                          #5\n",
        "win, x = numba_main_2(p0, 10000,perx , 0)\n",
        "# Print the array decide which index is -1 , 0, 1\n",
        "print(x[5])\n",
        "\n",
        "# Print the index == 1\n",
        "print('benefit',np.where(x[5]==1))\n",
        "# Print the index == -1\n",
        "print('negative',np.where(x[5]==-1))"
      ]
    },
    {
      "cell_type": "markdown",
      "metadata": {
        "id": "DtsMdBB5ZGsC"
      },
      "source": [
        "**Check Game Splendor**"
      ]
    },
    {
      "cell_type": "code",
      "execution_count": null,
      "metadata": {
        "id": "RzJpDmFJZGsC"
      },
      "outputs": [],
      "source": [
        "import numpy as np\n",
        "from base.Splendor.env import *\n",
        "perx = [np.full(getStateSize(),0),np.full(getStateSize(),0),np.full(getStateSize(),0),np.full(getStateSize(),0),np.full(getStateSize(),0),np.full(getStateSize(),0)]\n",
        "          #0                            #1                       #2                       #3                      #4                          #5\n",
        "win, x = numba_main_2(p0, 10000,perx , 0)\n",
        "# Print the array decide which index is -1 , 0, 1\n",
        "print(x[5])\n",
        "\n",
        "# Print the index == 1\n",
        "print('benefit',np.where(x[5]==1))\n",
        "# Print the index == -1\n",
        "print('negative',np.where(x[5]==-1))"
      ]
    },
    {
      "cell_type": "markdown",
      "metadata": {
        "id": "vNoVQbYIZGsC"
      },
      "source": [
        "**Check Game Splendor_v2**"
      ]
    },
    {
      "cell_type": "code",
      "execution_count": null,
      "metadata": {
        "id": "0InWyM-zZGsC"
      },
      "outputs": [],
      "source": [
        "import numpy as np\n",
        "from base.Splendor_v2.env import *\n",
        "perx = [np.full(getStateSize(),0),np.full(getStateSize(),0),np.full(getStateSize(),0),np.full(getStateSize(),0),np.full(getStateSize(),0),np.full(getStateSize(),0)]\n",
        "          #0                            #1                       #2                       #3                      #4                          #5\n",
        "win, x = numba_main_2(p0, 10000,perx , 0)\n",
        "# Print the array decide which index is -1 , 0, 1\n",
        "print(x[5])\n",
        "\n",
        "# Print the index == 1\n",
        "print('benefit',np.where(x[5]==1))\n",
        "# Print the index == -1\n",
        "print('negative',np.where(x[5]==-1))"
      ]
    },
    {
      "cell_type": "markdown",
      "metadata": {
        "id": "QMd7P80iZGsD"
      },
      "source": [
        "Game Sheriff"
      ]
    },
    {
      "cell_type": "code",
      "execution_count": null,
      "metadata": {
        "id": "APoC4Th5ZGsD"
      },
      "outputs": [],
      "source": [
        "import numpy as np\n",
        "from base.Sheriff.env import *\n",
        "perx = [np.full(getStateSize(),0),np.full(getStateSize(),0),np.full(getStateSize(),0),np.full(getStateSize(),0),np.full(getStateSize(),0),np.full(getStateSize(),0)]\n",
        "          #0                            #1                       #2                       #3                      #4                          #5\n",
        "win, x = numba_main_2(p0, 10000,perx , 0)\n",
        "# Print the array decide which index is -1 , 0, 1\n",
        "print(x[5])\n",
        "\n",
        "# Print the index == 1\n",
        "print('benefit',np.where(x[5]==1))\n",
        "# Print the index == -1\n",
        "print('negative',np.where(x[5]==-1))"
      ]
    },
    {
      "cell_type": "markdown",
      "metadata": {
        "id": "Rk2VD2vcZGsD"
      },
      "source": [
        "Game Century"
      ]
    },
    {
      "cell_type": "code",
      "execution_count": null,
      "metadata": {
        "id": "O9NtQQAlZGsD"
      },
      "outputs": [],
      "source": [
        "import numpy as np\n",
        "from base.Century.env import *\n",
        "perx = [np.full(getStateSize(),0),np.full(getStateSize(),0),np.full(getStateSize(),0),np.full(getStateSize(),0),np.full(getStateSize(),0),np.full(getStateSize(),0)]\n",
        "          #0                            #1                       #2                       #3                      #4                          #5\n",
        "win, x = numba_main_2(p0, 10000,perx , 0)\n",
        "# Print the array decide which index is -1 , 0, 1\n",
        "print(x[5])\n",
        "\n",
        "# Print the index == 1\n",
        "print('benefit',np.where(x[5]==1))\n",
        "# Print the index == -1\n",
        "print('negative',np.where(x[5]==-1))"
      ]
    },
    {
      "cell_type": "markdown",
      "metadata": {
        "id": "D-5IKxCpZGr8"
      },
      "source": [
        "# Tiến hành bài tập 2\n",
        "Bằng 1 code, train array value thành các giá trị trong khoảng từ -1 đến 1\n",
        "\n",
        "\n",
        "Sao cho khi tính giá trị trung bình của np.sum(state endgame * value) (trong 100 trận), thì agent mạnh nhất luôn có giá trị cao nhất. (Làm để áp dụng với mọi game)"
      ]
    },
    {
      "cell_type": "markdown",
      "metadata": {
        "id": "RCOkCpFaZGr9"
      },
      "source": [
        "**Bước 1** :Tìm 5 con agent mạnh nhất"
      ]
    },
    {
      "cell_type": "code",
      "execution_count": 9,
      "metadata": {
        "id": "Vl9H45EHZGr9"
      },
      "outputs": [
        {
          "name": "stdout",
          "output_type": "stream",
          "text": [
            "[[2763. 2806. 4316. 2945. 2905.]]\n",
            "[[7237. 7194. 5684. 7055. 7095.]]\n",
            "[[10000. 10000. 10000. 10000. 10000.]]\n",
            "[[0 1 4 3 2]]\n",
            "[[0.2763 0.2806 0.4316 0.2945 0.2905]]\n"
          ]
        }
      ],
      "source": [
        "from base.Splendor_v3.env import *\n",
        "@njit()\n",
        "def p0(state,per):\n",
        "    if per[3][0][0] == 0:\n",
        "        a = per[2][0]\n",
        "        b = per[1][0]\n",
        "        choice = np.where(a+b < 10000)[0][0]\n",
        "        per[3][0][0] = choice\n",
        "\n",
        "    idmt = int(per[3][0][0])\n",
        "    mt = per[0][idmt]\n",
        "    actions = getValidActions(state)\n",
        "    actions *= mt\n",
        "    action = np.argmax(actions)\n",
        "    if getReward(state) == 1:\n",
        "        per[1][0][idmt] += 1\n",
        "        per[3][0][0] = 0\n",
        "    if getReward(state) == 0:\n",
        "        per[2][0][idmt] += 1\n",
        "        per[3][0][0] = 0\n",
        "    return action,per\n",
        "\n",
        "\n",
        "\n",
        "perx1 = [np.array([np.random.rand(getActionSize()) for _ in range(5)]),np.zeros((1,5)),np.zeros((1,5)),np.zeros((1,100))]\n",
        "win, x1 = numba_main_2(p0,  50000,perx1 ,0)\n",
        "# in số trận thắng\n",
        "print(x1[1])\n",
        "# in số trận thua\n",
        "print(x1[2])\n",
        "# lưu các con agent\n",
        "l1 = x1[0][0]\n",
        "l2 = x1[0][1]\n",
        "l3 = x1[0][2]\n",
        "l4 = x1[0][3]\n",
        "l5 = x1[0][4]\n",
        "import numpy as np\n",
        "# Print the rank of agent based on win rate\n",
        "print(x1[1]+x1[2])\n",
        "print(np.argsort(x1[1]/(x1[1]+x1[2])))\n",
        "print(x1[1]/(x1[1]+x1[2]))"
      ]
    },
    {
      "cell_type": "markdown",
      "metadata": {
        "id": "g4yPgTb9ZGr_"
      },
      "source": [
        "**Bước 2** : Tìm số lần xuất hiện giá trị max và min của index value 1 và -1 trong state\n",
        "\n",
        "\n",
        "**Bước 3** : Sử dụng giá trị đó để tạo ra array value từ -1 đến 1\n",
        "\n",
        "\n",
        "**Bước 4** : Check xem giá trị của state_end_game * array value có lớn nhất không \n"
      ]
    },
    {
      "cell_type": "code",
      "execution_count": 97,
      "metadata": {
        "id": "N8WW85eMZGr_"
      },
      "outputs": [
        {
          "name": "stdout",
          "output_type": "stream",
          "text": [
            "2652\n"
          ]
        }
      ],
      "source": [
        "from base.Splendor_v3.env import *\n",
        "\n",
        "\n",
        "@njit()\n",
        "def p0(state,per):\n",
        "  # Choose an action\n",
        "  actions = getValidActions(state)\n",
        "  actions *= l1\n",
        "  action = np.argmax(actions)\n",
        "\n",
        "  # Save the state in per[0] done \n",
        "  if per[3][0] == 0 :\n",
        "    for i in range(len(state)):\n",
        "      per[0][i] = state[i]\n",
        "    per[3][0] +=1\n",
        "    \n",
        "  elif per[3][0] == 1:\n",
        "    for i in range(len(state)):\n",
        "        per[1][i] = np.minimum(per[0],state)[i]\n",
        "        per[2][i] = np.maximum(per[0],state)[i]\n",
        "    per[3][0] +=1\n",
        "  else:\n",
        "    for i in range(len(state)):\n",
        "        per[1][i] = np.minimum(per[1],state)[i]\n",
        "        per[2][i] = np.maximum(per[2],state)[i]\n",
        "  # Create an array of -1,0,-1\n",
        "  if getReward(state) == 1 :\n",
        "    per[4][0] += 1\n",
        "    if per[4][0]> 100 and per[4][0]<9900:\n",
        "\n",
        "      for i in range(len(state)):\n",
        "        per[0][i] = state[i]\n",
        "      for i in range(len(state)):\n",
        "        per[0][i] = per[1][i]\n",
        "        if getReward(per[0]) <= 0 :\n",
        "          per[5][i] -= 1\n",
        "        per[0][i] = per[2][i]\n",
        "        if getReward(per[0]) <= 0 :\n",
        "          per[5][i] -= 1\n",
        "        per[0][i] = state[i]\n",
        "        \n",
        "  elif getReward(state) == 0 :\n",
        "    per[4][0] += 1\n",
        "    if per[4][0]> 100 and per[4][0]<9900:\n",
        "\n",
        "      for i in range(len(state)):\n",
        "        per[0][i] = state[i]\n",
        "      for i in range(len(state)):\n",
        "        per[0][i] = per[1][i]\n",
        "        if getReward(per[0]) == 1 :\n",
        "          per[5][i] += 1\n",
        "        per[0][i] = per[2][i]\n",
        "        if getReward(per[0]) == 1  :\n",
        "          per[5][i] += 1\n",
        "        per[0][i] = state[i]\n",
        "  # Change the value of array to 1 or -1\n",
        "  if per[4][0]> 100 and per[4][0]<9900:\n",
        "    for i in range(len(state)):\n",
        "      if per[5][i]!=0:\n",
        "        per[5][i] = per[5][i] / np.abs(per[5][i])\n",
        "  \n",
        "  if getReward(state) != -1:\n",
        "    if  per[4][0] > 100 and per[4][0] < 9900 :\n",
        " # Save the number of time each index which value is 1 or -1 get max or min \n",
        "      for i in range(len(state)):\n",
        "        if per[5][i] == 1 or per[5][i] == -1: \n",
        "          if per[1][i] == state[i]  or per[2][i] == state[i]:\n",
        "            per[7][i] += 1  \n",
        "\n",
        " # Save the total reward of state*value in 100 game only\n",
        "    if per[4][0]>= 9900 :\n",
        "      k = int(np.sum(per[7]))\n",
        "      array_mul = (per[7]*per[5])\n",
        "#Save the array with range from -1 to 1 \n",
        "      for i in range(len(state)):\n",
        "        per[8][i] =  array_mul[i]/np.abs(k)\n",
        "\n",
        "      for i in range(len(state)):\n",
        "        per[6][i] += (per[8][i]*state[i])\n",
        "            \n",
        "\n",
        "  return action,per\n",
        "\n",
        "#0 biểu diễn state quá khứ\n",
        "#1 biểu diễn minmum của state \n",
        "#2 biểu diễn maximum của state\n",
        "#3 biểu diễn trigger\n",
        "#4 biểu diễn số trận chơi\n",
        "#5 array chỉ có 1,0,-1\n",
        "#6 biểu diễn tổng thưởng của state*value trong 100 trận\n",
        "#7 biểu diễn số lần các index 1,-1,0 xuất hiện\n",
        "#8 array giá trị từ -1 đến 1\n",
        "\n",
        "\n",
        "perx = [np.zeros(getStateSize()),np.zeros(getStateSize()),np.zeros(getStateSize()),np.zeros(getStateSize()),np.zeros(getStateSize()),np.zeros(getStateSize()),np.zeros(getStateSize()),np.zeros(getStateSize()),np.zeros(getStateSize())]\n",
        "\n",
        "          #0                            #1                       #2                       #3                      #4                          #5                    #6.                       #7                          #8\n",
        "win, x = numba_main_2(p0,  10000,perx ,0)\n",
        "print(win)"
      ]
    },
    {
      "cell_type": "code",
      "execution_count": 98,
      "metadata": {},
      "outputs": [
        {
          "name": "stdout",
          "output_type": "stream",
          "text": [
            "[ 0.  0.  0.  0.  0.  0.  0.  0.  0.  0.  0.  0.  0.  0.  0.  0.  0.  1.\n",
            "  0.  0.  0.  0.  0.  0.  0.  0.  0.  0.  0.  0.  0.  0.  0.  0.  0.  0.\n",
            "  0.  0.  0.  0.  0.  0.  0.  0.  0.  0.  0.  0.  0.  0.  0.  0.  0.  0.\n",
            "  0.  0.  0.  0.  0.  0.  0.  0.  0.  0.  0.  0.  0.  0.  0.  0.  0.  0.\n",
            "  0.  0.  0.  0.  0.  0.  0.  0.  0.  0.  0.  0.  0.  0.  0.  0.  0.  0.\n",
            "  0.  0.  0.  0.  0.  0.  0.  0.  0.  0.  0.  0.  0.  0.  0.  0.  0.  0.\n",
            "  0.  0.  0.  0.  0.  0.  0.  0.  0.  0.  0.  0.  0.  0.  0.  0.  0.  0.\n",
            "  0.  0.  0.  0.  0.  0.  0.  0.  0.  0.  0.  0.  0.  0.  0.  0.  0.  0.\n",
            "  0.  0.  0.  0.  0.  0.  0.  0.  0. -1. -1. -1.  0.  0.  0.  0.  0.]\n"
          ]
        }
      ],
      "source": [
        "print(perx[5])"
      ]
    },
    {
      "cell_type": "code",
      "execution_count": 99,
      "metadata": {
        "id": "1yr-NWlxZGr_"
      },
      "outputs": [
        {
          "name": "stdout",
          "output_type": "stream",
          "text": [
            "[ 0.  0.  0.  0.  0.  0.  0.  0.  0.  0.  0.  0.  0.  0.  0.  0.  0.  1.\n",
            "  0.  0.  0.  0.  0.  0.  0.  0.  0.  0.  0.  0.  0.  0.  0.  0.  0.  0.\n",
            "  0.  0.  0.  0.  0.  0.  0.  0.  0.  0.  0.  0.  0.  0.  0.  0.  0.  0.\n",
            "  0.  0.  0.  0.  0.  0.  0.  0.  0.  0.  0.  0.  0.  0.  0.  0.  0.  0.\n",
            "  0.  0.  0.  0.  0.  0.  0.  0.  0.  0.  0.  0.  0.  0.  0.  0.  0.  0.\n",
            "  0.  0.  0.  0.  0.  0.  0.  0.  0.  0.  0.  0.  0.  0.  0.  0.  0.  0.\n",
            "  0.  0.  0.  0.  0.  0.  0.  0.  0.  0.  0.  0.  0.  0.  0.  0.  0.  0.\n",
            "  0.  0.  0.  0.  0.  0.  0.  0.  0.  0.  0.  0.  0.  0.  0.  0.  0.  0.\n",
            "  0.  0.  0.  0.  0.  0.  0.  0.  0. -1. -1. -1.  0.  0.  0.  0.  0.]\n"
          ]
        }
      ],
      "source": [
        "print(perx[5])"
      ]
    },
    {
      "cell_type": "code",
      "execution_count": 95,
      "metadata": {
        "id": "7p9t-movd7Wi"
      },
      "outputs": [
        {
          "name": "stdout",
          "output_type": "stream",
          "text": [
            "[  0.   0.   0.   0.   0.   0.   0.   0.   0.   0.   0.   0.   0.   0.\n",
            "   0.   0.   0.  14.   0.   0.   0.   0.   0.   0.   0.   0.   0.   0.\n",
            "   0.   0.   0.   0.   0.   0.   0.   0.   0.   0.   0.   0.   0.   0.\n",
            "   0.   0.   0.   0.   0.   0.   0.   0.   0.   0.   0.   0.   0.   0.\n",
            "   0.   0.   0.   0.   0.   0.   0.   0.   0.   0.   0.   0.   0.   0.\n",
            "   0.   0.   0.   0.   0.   0.   0.   0.   0.   0.   0.   0.   0.   0.\n",
            "   0.   0.   0.   0.   0.   0.   0.   0.   0.   0.   0.   0.   0.   0.\n",
            "   0.   0.   0.   0.   0.   0.   0.   0.   0.   0.   0.   0.   0.   0.\n",
            "   0.   0.   0.   0.   0.   0.   0.   0.   0.   0.   0.   0.   0.   0.\n",
            "   0.   0.   0.   0.   0.   0.   0.   0.   0.   0.   0.   0.   0.   0.\n",
            "   0.   0.   0.   0.   0.   0.   0.   0.   0.   0.   0.   0.   0. -11.\n",
            " -11. -19.   0.   0.   0.   0.   0.]\n"
          ]
        }
      ],
      "source": [
        "print(perx[7]*perx[5])"
      ]
    },
    {
      "cell_type": "code",
      "execution_count": 81,
      "metadata": {
        "id": "kkhJRCh0FRKi"
      },
      "outputs": [
        {
          "name": "stdout",
          "output_type": "stream",
          "text": [
            "[False False False False False False False False False False False False\n",
            " False False False False False False False False False False False False\n",
            " False False False False False False False False False False False False\n",
            " False False False False False False False False False False False False\n",
            " False False False False False False False False False False False False\n",
            " False False False False False False False False False False False False\n",
            " False False False False False False False False False False False False\n",
            " False False False False False False False False False False False False\n",
            " False False False False False False False False False False False False\n",
            " False False False False False False False False False False False False\n",
            " False False False False False False False False False False False False\n",
            " False False False False False False False False False False False False\n",
            " False False False False False False False False False  True  True  True\n",
            " False False False False False]\n"
          ]
        }
      ],
      "source": [
        "print(((perx[8]))!=0)"
      ]
    },
    {
      "cell_type": "code",
      "execution_count": 18,
      "metadata": {
        "id": "fbYalThz0G2Z"
      },
      "outputs": [
        {
          "name": "stdout",
          "output_type": "stream",
          "text": [
            "[    0.             0.             0.             0.\n",
            "     0.             0.             0.             0.\n",
            "     0.             0.             0.             0.\n",
            "     0.             0.             0.             0.\n",
            "     0.         -1208.             0.             0.\n",
            "     0.             0.             0.             0.\n",
            "     0.             0.             0.             0.\n",
            "     0.             0.             0.             0.\n",
            "     0.             0.             0.             0.\n",
            "     0.             0.             0.             0.\n",
            "     0.             0.             0.             0.\n",
            "     0.             0.             0.             0.\n",
            "     0.             0.             0.             0.\n",
            "     0.             0.             0.             0.\n",
            "     0.             0.             0.             0.\n",
            "     0.             0.             0.             0.\n",
            "     0.             0.             0.             0.\n",
            "     0.             0.             0.             0.\n",
            "     0.             0.             0.             0.\n",
            "     0.             0.             0.             0.\n",
            "     0.             0.             0.             0.\n",
            "     0.             0.             0.             0.\n",
            "     0.             0.             0.             0.\n",
            "     0.             0.             0.             0.\n",
            "     0.             0.             0.             0.\n",
            "     0.             0.             0.             0.\n",
            "     0.             0.             0.             0.\n",
            "     0.             0.             0.             0.\n",
            "     0.             0.             0.             0.\n",
            "     0.             0.             0.             0.\n",
            "     0.             0.             0.             0.\n",
            "     0.             0.             0.             0.\n",
            "     0.             0.             0.             0.\n",
            "     0.             0.             0.             0.\n",
            "     0.             0.             0.             0.\n",
            "     0.             0.             0.             0.\n",
            "     0.             0.             0.             0.\n",
            "     0.             0.             0.             0.\n",
            "     0.          -672.94117647  -422.11764706  -417.88235294\n",
            "     0.             0.             0.             0.\n",
            "     0.        ]\n"
          ]
        }
      ],
      "source": [
        "print(perx[6])"
      ]
    },
    {
      "cell_type": "code",
      "execution_count": 8,
      "metadata": {
        "id": "IXMRGlFjZGsA"
      },
      "outputs": [
        {
          "name": "stdout",
          "output_type": "stream",
          "text": [
            "-23.25\n"
          ]
        }
      ],
      "source": [
        "# Biếu diện tổng thưởng của state*value chia số trận\n",
        "print(np.sum(x[6])/100)\n"
      ]
    },
    {
      "cell_type": "markdown",
      "metadata": {
        "id": "LU_kUcnfZV1m"
      },
      "source": [
        "# Check tất cả các game bài tập 2 \n",
        "\n",
        "\n"
      ]
    },
    {
      "cell_type": "markdown",
      "metadata": {
        "id": "P5sp1xPSZV1n"
      },
      "source": [
        "**Check Game Splendor_v3**"
      ]
    },
    {
      "cell_type": "code",
      "execution_count": null,
      "metadata": {
        "colab": {
          "base_uri": "https://localhost:8080/"
        },
        "id": "7P64wBwOZV1o",
        "outputId": "d540ec3c-06e8-4b47-f8b8-d5d5cca3011c"
      },
      "outputs": [
        {
          "name": "stdout",
          "output_type": "stream",
          "text": [
            "1280\n"
          ]
        }
      ],
      "source": [
        "import numpy as np\n",
        "from base.Splendor_v3.env import *\n",
        "\n",
        "perx = [np.full(getStateSize(),0),np.full(getStateSize(),0),np.full(getStateSize(),0),np.full(getStateSize(),0),np.full(getStateSize(),0),np.full(getStateSize(),0),np.full(getStateSize(),0),np.full(getStateSize(),0),np.full(getStateSize(),0)]\n",
        "\n",
        "          #0                            #1                       #2                       #3                      #4                          #5                    #6.                       #7                          #8\n",
        "win, x = numba_main_2(p0,  10000,perx ,0)\n",
        "print(win)\n",
        "# Print the sum of state*value\n",
        "print(np.sum(x[6])/100)\n"
      ]
    },
    {
      "cell_type": "markdown",
      "metadata": {
        "id": "xlme8eXsZV1o"
      },
      "source": [
        " **Check game TLMN_v2**"
      ]
    },
    {
      "cell_type": "code",
      "execution_count": null,
      "metadata": {
        "colab": {
          "base_uri": "https://localhost:8080/"
        },
        "id": "38RiTZi8ZV1o",
        "outputId": "2fdacbbc-828d-4f32-f2b5-696a41d3f82b"
      },
      "outputs": [
        {
          "name": "stdout",
          "output_type": "stream",
          "text": [
            "2521\n"
          ]
        }
      ],
      "source": [
        "import numpy as np\n",
        "from base.TLMN_v2.env import *\n",
        "perx = [np.full(getStateSize(),0),np.full(getStateSize(),0),np.full(getStateSize(),0),np.full(getStateSize(),0),np.full(getStateSize(),0),np.full(getStateSize(),0),np.full(getStateSize(),0),np.full(getStateSize(),0),np.full(getStateSize(),0)]\n",
        "\n",
        "          #0                            #1                       #2                       #3                      #4                          #5                    #6.                       #7                          #8\n",
        "win, x = numba_main_2(p0,  10000,perx ,0)\n",
        "print(win)\n",
        "# Print the sum of state*value\n",
        "print(np.sum(x[6])/100)\n"
      ]
    },
    {
      "cell_type": "markdown",
      "metadata": {
        "id": "hokUIBiJZV1o"
      },
      "source": [
        "**Check Game TLMN**"
      ]
    },
    {
      "cell_type": "code",
      "execution_count": null,
      "metadata": {
        "id": "cWBjApkwZV1o",
        "outputId": "004226a2-bd42-4346-e623-a761f865d2c6"
      },
      "outputs": [
        {
          "name": "stdout",
          "output_type": "stream",
          "text": [
            "12319\n"
          ]
        }
      ],
      "source": [
        "import numpy as np\n",
        "from base.TLMN.env import *\n",
        "perx = [np.full(getStateSize(),0),np.full(getStateSize(),0),np.full(getStateSize(),0),np.full(getStateSize(),0),np.full(getStateSize(),0),np.full(getStateSize(),0),np.full(getStateSize(),0),np.full(getStateSize(),0),np.full(getStateSize(),0)]\n",
        "\n",
        "          #0                            #1                       #2                       #3                      #4                          #5                    #6.                       #7                          #8\n",
        "win, x = numba_main_2(p0,  10000,perx ,0)\n",
        "print(win)\n",
        "# Print the sum of state*value\n",
        "print(np.sum(x[6])/100)\n"
      ]
    },
    {
      "cell_type": "markdown",
      "metadata": {
        "id": "TBhOZqjKZV1p"
      },
      "source": [
        "**Check Game SushiGO**"
      ]
    },
    {
      "cell_type": "code",
      "execution_count": null,
      "metadata": {
        "id": "nIbPZn_oZV1p",
        "outputId": "d63ddba0-d340-4426-c060-953a316fe676"
      },
      "outputs": [
        {
          "ename": "",
          "evalue": "",
          "output_type": "error",
          "traceback": [
            "\u001b[1;31mThe Kernel crashed while executing code in the the current cell or a previous cell. Please review the code in the cell(s) to identify a possible cause of the failure. Click <a href='https://aka.ms/vscodeJupyterKernelCrash'>here</a> for more info. View Jupyter <a href='command:jupyter.viewOutput'>log</a> for further details."
          ]
        },
        {
          "ename": "",
          "evalue": "",
          "output_type": "error",
          "traceback": [
            "\u001b[1;31mCanceled future for execute_request message before replies were done"
          ]
        }
      ],
      "source": [
        "import numpy as np\n",
        "from base.SushiGo.env import *\n",
        "perx = [np.full(getStateSize(),0),np.full(getStateSize(),0),np.full(getStateSize(),0),np.full(getStateSize(),0),np.full(getStateSize(),0),np.full(getStateSize(),0),np.full(getStateSize(),0),np.full(getStateSize(),0),np.full(getStateSize(),0)]\n",
        "\n",
        "          #0                            #1                       #2                       #3                      #4                          #5                    #6.                       #7                          #8\n",
        "win, x = numba_main_2(p0,  10000,perx ,0)\n",
        "print(win)\n",
        "# Print the sum of state*value\n",
        "print(np.sum(x[6])/100)\n"
      ]
    },
    {
      "cell_type": "markdown",
      "metadata": {
        "id": "ONDlERaWZV1p"
      },
      "source": [
        "**Check MachiKoro**"
      ]
    },
    {
      "cell_type": "code",
      "execution_count": null,
      "metadata": {
        "id": "X4MHjQ5JZV1p",
        "outputId": "77ddd332-738f-4a43-be4e-909831a4955e"
      },
      "outputs": [
        {
          "name": "stdout",
          "output_type": "stream",
          "text": [
            "2515\n"
          ]
        }
      ],
      "source": [
        "import numpy as np\n",
        "from base.MachiKoro.env import *\n",
        "perx = [np.full(getStateSize(),0),np.full(getStateSize(),0),np.full(getStateSize(),0),np.full(getStateSize(),0),np.full(getStateSize(),0),np.full(getStateSize(),0),np.full(getStateSize(),0),np.full(getStateSize(),0),np.full(getStateSize(),0)]\n",
        "\n",
        "          #0                            #1                       #2                       #3                      #4                          #5                    #6.                       #7                          #8\n",
        "win, x = numba_main_2(p0,  10000,perx ,0)\n",
        "print(win)\n",
        "# Print the sum of state*value\n",
        "print(np.sum(x[6])/100)\n"
      ]
    },
    {
      "cell_type": "markdown",
      "metadata": {
        "id": "8jR37gxkZV1p"
      },
      "source": [
        "**Check Game Splendor**"
      ]
    },
    {
      "cell_type": "code",
      "execution_count": null,
      "metadata": {
        "id": "mlXNwl2BZV1p"
      },
      "outputs": [],
      "source": [
        "import numpy as np\n",
        "from base.Splendor.env import *\n",
        "perx = [np.full(getStateSize(),0),np.full(getStateSize(),0),np.full(getStateSize(),0),np.full(getStateSize(),0),np.full(getStateSize(),0),np.full(getStateSize(),0),np.full(getStateSize(),0),np.full(getStateSize(),0),np.full(getStateSize(),0)]\n",
        "\n",
        "          #0                            #1                       #2                       #3                      #4                          #5                    #6.                       #7                          #8\n",
        "win, x = numba_main_2(p0,  10000,perx ,0)\n",
        "print(win)\n",
        "# Print the sum of state*value\n",
        "print(np.sum(x[6])/100)\n"
      ]
    },
    {
      "cell_type": "markdown",
      "metadata": {
        "id": "1WQs-sInZV1p"
      },
      "source": [
        "**Check Game Splendor_v2**"
      ]
    },
    {
      "cell_type": "code",
      "execution_count": null,
      "metadata": {
        "id": "CRyvGrxMZV1p"
      },
      "outputs": [],
      "source": [
        "import numpy as np\n",
        "from base.Splendor_v2.env import *\n",
        "perx = [np.full(getStateSize(),0),np.full(getStateSize(),0),np.full(getStateSize(),0),np.full(getStateSize(),0),np.full(getStateSize(),0),np.full(getStateSize(),0),np.full(getStateSize(),0),np.full(getStateSize(),0),np.full(getStateSize(),0)]\n",
        "\n",
        "          #0                            #1                       #2                       #3                      #4                          #5                    #6.                       #7                          #8\n",
        "win, x = numba_main_2(p0,  10000,perx ,0)\n",
        "print(win)\n",
        "# Print the sum of state*value\n",
        "print(np.sum(x[6])/100)\n"
      ]
    },
    {
      "cell_type": "markdown",
      "metadata": {
        "id": "y10-48gIZV1p"
      },
      "source": [
        "**Check Game Sheriff**"
      ]
    },
    {
      "cell_type": "code",
      "execution_count": null,
      "metadata": {
        "id": "QFqhDs_tZV1q"
      },
      "outputs": [],
      "source": [
        "import numpy as np\n",
        "from base.Sheriff.env import *\n",
        "perx = [np.full(getStateSize(),0),np.full(getStateSize(),0),np.full(getStateSize(),0),np.full(getStateSize(),0),np.full(getStateSize(),0),np.full(getStateSize(),0),np.full(getStateSize(),0),np.full(getStateSize(),0),np.full(getStateSize(),0)]\n",
        "\n",
        "          #0                            #1                       #2                       #3                      #4                          #5                    #6.                       #7                          #8\n",
        "win, x = numba_main_2(p0,  10000,perx ,0)\n",
        "print(win)\n",
        "# Print the sum of state*value\n",
        "print(np.sum(x[6])/100)\n"
      ]
    },
    {
      "cell_type": "markdown",
      "metadata": {
        "id": "3mfscQzbZV1q"
      },
      "source": [
        "**Check Game Century**"
      ]
    },
    {
      "cell_type": "code",
      "execution_count": null,
      "metadata": {
        "id": "_z8MRKM6ZV1q"
      },
      "outputs": [],
      "source": [
        "import numpy as np\n",
        "from base.Century.env import *\n",
        "perx = [np.full(getStateSize(),0),np.full(getStateSize(),0),np.full(getStateSize(),0),np.full(getStateSize(),0),np.full(getStateSize(),0),np.full(getStateSize(),0),np.full(getStateSize(),0),np.full(getStateSize(),0),np.full(getStateSize(),0)]\n",
        "\n",
        "          #0                            #1                       #2                       #3                      #4                          #5                    #6.                       #7                          #8\n",
        "win, x = numba_main_2(p0,  10000,perx ,0)\n",
        "print(win)\n",
        "# Print the sum of state*value\n",
        "print(np.sum(x[6])/100)\n"
      ]
    }
  ],
  "metadata": {
    "colab": {
      "collapsed_sections": [
        "msye9AmwZGr5",
        "JYXV_IvcZGsA",
        "LU_kUcnfZV1m"
      ],
      "provenance": []
    },
    "kernelspec": {
      "display_name": "Python 3.9.7 ('base')",
      "language": "python",
      "name": "python3"
    },
    "language_info": {
      "codemirror_mode": {
        "name": "ipython",
        "version": 3
      },
      "file_extension": ".py",
      "mimetype": "text/x-python",
      "name": "python",
      "nbconvert_exporter": "python",
      "pygments_lexer": "ipython3",
      "version": "3.9.7"
    },
    "vscode": {
      "interpreter": {
        "hash": "ff2136a0fe6bc790f1b40d257e6b1bba23119827483ea2b7c12c8cc23c661a47"
      }
    }
  },
  "nbformat": 4,
  "nbformat_minor": 0
}
